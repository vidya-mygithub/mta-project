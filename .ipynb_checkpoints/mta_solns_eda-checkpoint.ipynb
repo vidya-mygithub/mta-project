{
 "cells": [
  {
   "cell_type": "markdown",
   "metadata": {
    "colab_type": "text",
    "id": "pd32KLqLG34t"
   },
   "source": [
    "# EDA Continued: Challenge Set 1 Review, Data Checking & Cleaning with Pandas and Viz Tools\n",
    "\n",
    "Aka, learning how to always expect your data to have more problems.\n",
    "\n",
    "**Learning Goals**:\n",
    "\n",
    "1. Review core pandas methods and understand their application to challenge set 1\n",
    "2. Understand basic methods for data quality checking and cleaning \n",
    "3. See examples of how to use visualization as an aid in exploring data quality "
   ]
  },
  {
   "cell_type": "code",
   "execution_count": 141,
   "metadata": {
    "colab": {},
    "colab_type": "code",
    "id": "Ox8-mRWkG34x"
   },
   "outputs": [],
   "source": [
    "from __future__ import print_function, division"
   ]
  },
  {
   "cell_type": "code",
   "execution_count": 142,
   "metadata": {
    "colab": {},
    "colab_type": "code",
    "id": "R5Vzalp-G343"
   },
   "outputs": [],
   "source": [
    "import pandas as pd\n",
    "import numpy as np\n",
    "import matplotlib.pyplot as plt\n",
    "\n",
    "%matplotlib inline"
   ]
  },
  {
   "cell_type": "code",
   "execution_count": 143,
   "metadata": {
    "colab": {},
    "colab_type": "code",
    "id": "HbQkTaoOG347"
   },
   "outputs": [],
   "source": [
    "import datetime"
   ]
  },
  {
   "cell_type": "markdown",
   "metadata": {
    "colab_type": "text",
    "id": "FZ7Xn2TvG35A"
   },
   "source": [
    "#### Exercise 1.1\n",
    "\n",
    "- Open up a new IPython notebook\n",
    "- Download a few MTA turnstile data files\n",
    "- Read them into a pandas dataframe (pd.read_csv()), format the columns nicely, and display the first few rows."
   ]
  },
  {
   "cell_type": "code",
   "execution_count": 144,
   "metadata": {
    "colab": {},
    "colab_type": "code",
    "id": "l35mmdK7G35B"
   },
   "outputs": [],
   "source": [
    "# Source: http://web.mta.info/developers/turnstile.html\n",
    "def get_data(week_nums):\n",
    "    url = \"data/turnstile_{}.txt\"\n",
    "    dfs = []\n",
    "    for week_num in week_nums:\n",
    "        file_url = url.format(week_num)\n",
    "        dfs.append(pd.read_csv(file_url))\n",
    "    return pd.concat(dfs)\n",
    "        \n",
    "week_nums = [200912, 200919, 200926]\n",
    "turnstiles_df = get_data(week_nums)"
   ]
  },
  {
   "cell_type": "code",
   "execution_count": 145,
   "metadata": {
    "colab": {},
    "colab_type": "code",
    "id": "Z_KniFNhG35F",
    "outputId": "db9eeef3-f73c-4656-f2c2-498be961a031"
   },
   "outputs": [
    {
     "data": {
      "text/html": [
       "<div>\n",
       "<style scoped>\n",
       "    .dataframe tbody tr th:only-of-type {\n",
       "        vertical-align: middle;\n",
       "    }\n",
       "\n",
       "    .dataframe tbody tr th {\n",
       "        vertical-align: top;\n",
       "    }\n",
       "\n",
       "    .dataframe thead th {\n",
       "        text-align: right;\n",
       "    }\n",
       "</style>\n",
       "<table border=\"1\" class=\"dataframe\">\n",
       "  <thead>\n",
       "    <tr style=\"text-align: right;\">\n",
       "      <th></th>\n",
       "      <th>C/A</th>\n",
       "      <th>UNIT</th>\n",
       "      <th>SCP</th>\n",
       "      <th>STATION</th>\n",
       "      <th>LINENAME</th>\n",
       "      <th>DIVISION</th>\n",
       "      <th>DATE</th>\n",
       "      <th>TIME</th>\n",
       "      <th>DESC</th>\n",
       "      <th>ENTRIES</th>\n",
       "      <th>EXITS</th>\n",
       "    </tr>\n",
       "  </thead>\n",
       "  <tbody>\n",
       "    <tr>\n",
       "      <td>0</td>\n",
       "      <td>A002</td>\n",
       "      <td>R051</td>\n",
       "      <td>02-00-00</td>\n",
       "      <td>59 ST</td>\n",
       "      <td>NQR456W</td>\n",
       "      <td>BMT</td>\n",
       "      <td>09/05/2020</td>\n",
       "      <td>00:00:00</td>\n",
       "      <td>REGULAR</td>\n",
       "      <td>7453934</td>\n",
       "      <td>2534625</td>\n",
       "    </tr>\n",
       "    <tr>\n",
       "      <td>1</td>\n",
       "      <td>A002</td>\n",
       "      <td>R051</td>\n",
       "      <td>02-00-00</td>\n",
       "      <td>59 ST</td>\n",
       "      <td>NQR456W</td>\n",
       "      <td>BMT</td>\n",
       "      <td>09/05/2020</td>\n",
       "      <td>04:00:00</td>\n",
       "      <td>REGULAR</td>\n",
       "      <td>7453939</td>\n",
       "      <td>2534627</td>\n",
       "    </tr>\n",
       "    <tr>\n",
       "      <td>2</td>\n",
       "      <td>A002</td>\n",
       "      <td>R051</td>\n",
       "      <td>02-00-00</td>\n",
       "      <td>59 ST</td>\n",
       "      <td>NQR456W</td>\n",
       "      <td>BMT</td>\n",
       "      <td>09/05/2020</td>\n",
       "      <td>08:00:00</td>\n",
       "      <td>REGULAR</td>\n",
       "      <td>7453951</td>\n",
       "      <td>2534645</td>\n",
       "    </tr>\n",
       "    <tr>\n",
       "      <td>3</td>\n",
       "      <td>A002</td>\n",
       "      <td>R051</td>\n",
       "      <td>02-00-00</td>\n",
       "      <td>59 ST</td>\n",
       "      <td>NQR456W</td>\n",
       "      <td>BMT</td>\n",
       "      <td>09/05/2020</td>\n",
       "      <td>12:00:00</td>\n",
       "      <td>REGULAR</td>\n",
       "      <td>7453997</td>\n",
       "      <td>2534689</td>\n",
       "    </tr>\n",
       "    <tr>\n",
       "      <td>4</td>\n",
       "      <td>A002</td>\n",
       "      <td>R051</td>\n",
       "      <td>02-00-00</td>\n",
       "      <td>59 ST</td>\n",
       "      <td>NQR456W</td>\n",
       "      <td>BMT</td>\n",
       "      <td>09/05/2020</td>\n",
       "      <td>16:00:00</td>\n",
       "      <td>REGULAR</td>\n",
       "      <td>7454097</td>\n",
       "      <td>2534727</td>\n",
       "    </tr>\n",
       "  </tbody>\n",
       "</table>\n",
       "</div>"
      ],
      "text/plain": [
       "    C/A  UNIT       SCP STATION LINENAME DIVISION        DATE      TIME  \\\n",
       "0  A002  R051  02-00-00   59 ST  NQR456W      BMT  09/05/2020  00:00:00   \n",
       "1  A002  R051  02-00-00   59 ST  NQR456W      BMT  09/05/2020  04:00:00   \n",
       "2  A002  R051  02-00-00   59 ST  NQR456W      BMT  09/05/2020  08:00:00   \n",
       "3  A002  R051  02-00-00   59 ST  NQR456W      BMT  09/05/2020  12:00:00   \n",
       "4  A002  R051  02-00-00   59 ST  NQR456W      BMT  09/05/2020  16:00:00   \n",
       "\n",
       "      DESC  ENTRIES  \\\n",
       "0  REGULAR  7453934   \n",
       "1  REGULAR  7453939   \n",
       "2  REGULAR  7453951   \n",
       "3  REGULAR  7453997   \n",
       "4  REGULAR  7454097   \n",
       "\n",
       "   EXITS                                                                 \n",
       "0                                            2534625                     \n",
       "1                                            2534627                     \n",
       "2                                            2534645                     \n",
       "3                                            2534689                     \n",
       "4                                            2534727                     "
      ]
     },
     "execution_count": 145,
     "metadata": {},
     "output_type": "execute_result"
    }
   ],
   "source": [
    "turnstiles_df.head()"
   ]
  },
  {
   "cell_type": "code",
   "execution_count": 146,
   "metadata": {
    "colab": {},
    "colab_type": "code",
    "id": "b3YwXLDZG35K",
    "outputId": "24dbf7b6-6676-4a2e-e830-1c13b7888c8c"
   },
   "outputs": [
    {
     "data": {
      "text/plain": [
       "Index(['C/A', 'UNIT', 'SCP', 'STATION', 'LINENAME', 'DIVISION', 'DATE', 'TIME',\n",
       "       'DESC', 'ENTRIES',\n",
       "       'EXITS                                                               '],\n",
       "      dtype='object')"
      ]
     },
     "execution_count": 146,
     "metadata": {},
     "output_type": "execute_result"
    }
   ],
   "source": [
    "turnstiles_df.columns"
   ]
  },
  {
   "cell_type": "code",
   "execution_count": 147,
   "metadata": {
    "colab": {},
    "colab_type": "code",
    "id": "2SKnF_vRG35O"
   },
   "outputs": [],
   "source": [
    "turnstiles_df.columns = [column.strip() for column in turnstiles_df.columns]"
   ]
  },
  {
   "cell_type": "code",
   "execution_count": 148,
   "metadata": {
    "colab": {},
    "colab_type": "code",
    "id": "fQUXcpSPG35R",
    "outputId": "0f9bb420-4995-4fbe-93a4-aa59c60df8c6"
   },
   "outputs": [
    {
     "data": {
      "text/plain": [
       "Index(['C/A', 'UNIT', 'SCP', 'STATION', 'LINENAME', 'DIVISION', 'DATE', 'TIME',\n",
       "       'DESC', 'ENTRIES', 'EXITS'],\n",
       "      dtype='object')"
      ]
     },
     "execution_count": 148,
     "metadata": {},
     "output_type": "execute_result"
    }
   ],
   "source": [
    "turnstiles_df.columns"
   ]
  },
  {
   "cell_type": "code",
   "execution_count": 149,
   "metadata": {
    "colab": {},
    "colab_type": "code",
    "id": "9QYJgOeIG35V",
    "outputId": "da2a5573-bc92-45a1-a836-8001b7b8df65"
   },
   "outputs": [
    {
     "data": {
      "text/html": [
       "<div>\n",
       "<style scoped>\n",
       "    .dataframe tbody tr th:only-of-type {\n",
       "        vertical-align: middle;\n",
       "    }\n",
       "\n",
       "    .dataframe tbody tr th {\n",
       "        vertical-align: top;\n",
       "    }\n",
       "\n",
       "    .dataframe thead th {\n",
       "        text-align: right;\n",
       "    }\n",
       "</style>\n",
       "<table border=\"1\" class=\"dataframe\">\n",
       "  <thead>\n",
       "    <tr style=\"text-align: right;\">\n",
       "      <th></th>\n",
       "      <th>C/A</th>\n",
       "      <th>UNIT</th>\n",
       "      <th>SCP</th>\n",
       "      <th>STATION</th>\n",
       "      <th>LINENAME</th>\n",
       "      <th>DIVISION</th>\n",
       "      <th>DATE</th>\n",
       "      <th>TIME</th>\n",
       "      <th>DESC</th>\n",
       "      <th>ENTRIES</th>\n",
       "      <th>EXITS</th>\n",
       "    </tr>\n",
       "  </thead>\n",
       "  <tbody>\n",
       "    <tr>\n",
       "      <td>0</td>\n",
       "      <td>A002</td>\n",
       "      <td>R051</td>\n",
       "      <td>02-00-00</td>\n",
       "      <td>59 ST</td>\n",
       "      <td>NQR456W</td>\n",
       "      <td>BMT</td>\n",
       "      <td>09/05/2020</td>\n",
       "      <td>00:00:00</td>\n",
       "      <td>REGULAR</td>\n",
       "      <td>7453934</td>\n",
       "      <td>2534625</td>\n",
       "    </tr>\n",
       "    <tr>\n",
       "      <td>1</td>\n",
       "      <td>A002</td>\n",
       "      <td>R051</td>\n",
       "      <td>02-00-00</td>\n",
       "      <td>59 ST</td>\n",
       "      <td>NQR456W</td>\n",
       "      <td>BMT</td>\n",
       "      <td>09/05/2020</td>\n",
       "      <td>04:00:00</td>\n",
       "      <td>REGULAR</td>\n",
       "      <td>7453939</td>\n",
       "      <td>2534627</td>\n",
       "    </tr>\n",
       "    <tr>\n",
       "      <td>2</td>\n",
       "      <td>A002</td>\n",
       "      <td>R051</td>\n",
       "      <td>02-00-00</td>\n",
       "      <td>59 ST</td>\n",
       "      <td>NQR456W</td>\n",
       "      <td>BMT</td>\n",
       "      <td>09/05/2020</td>\n",
       "      <td>08:00:00</td>\n",
       "      <td>REGULAR</td>\n",
       "      <td>7453951</td>\n",
       "      <td>2534645</td>\n",
       "    </tr>\n",
       "    <tr>\n",
       "      <td>3</td>\n",
       "      <td>A002</td>\n",
       "      <td>R051</td>\n",
       "      <td>02-00-00</td>\n",
       "      <td>59 ST</td>\n",
       "      <td>NQR456W</td>\n",
       "      <td>BMT</td>\n",
       "      <td>09/05/2020</td>\n",
       "      <td>12:00:00</td>\n",
       "      <td>REGULAR</td>\n",
       "      <td>7453997</td>\n",
       "      <td>2534689</td>\n",
       "    </tr>\n",
       "    <tr>\n",
       "      <td>4</td>\n",
       "      <td>A002</td>\n",
       "      <td>R051</td>\n",
       "      <td>02-00-00</td>\n",
       "      <td>59 ST</td>\n",
       "      <td>NQR456W</td>\n",
       "      <td>BMT</td>\n",
       "      <td>09/05/2020</td>\n",
       "      <td>16:00:00</td>\n",
       "      <td>REGULAR</td>\n",
       "      <td>7454097</td>\n",
       "      <td>2534727</td>\n",
       "    </tr>\n",
       "  </tbody>\n",
       "</table>\n",
       "</div>"
      ],
      "text/plain": [
       "    C/A  UNIT       SCP STATION LINENAME DIVISION        DATE      TIME  \\\n",
       "0  A002  R051  02-00-00   59 ST  NQR456W      BMT  09/05/2020  00:00:00   \n",
       "1  A002  R051  02-00-00   59 ST  NQR456W      BMT  09/05/2020  04:00:00   \n",
       "2  A002  R051  02-00-00   59 ST  NQR456W      BMT  09/05/2020  08:00:00   \n",
       "3  A002  R051  02-00-00   59 ST  NQR456W      BMT  09/05/2020  12:00:00   \n",
       "4  A002  R051  02-00-00   59 ST  NQR456W      BMT  09/05/2020  16:00:00   \n",
       "\n",
       "      DESC  ENTRIES    EXITS  \n",
       "0  REGULAR  7453934  2534625  \n",
       "1  REGULAR  7453939  2534627  \n",
       "2  REGULAR  7453951  2534645  \n",
       "3  REGULAR  7453997  2534689  \n",
       "4  REGULAR  7454097  2534727  "
      ]
     },
     "execution_count": 149,
     "metadata": {},
     "output_type": "execute_result"
    }
   ],
   "source": [
    "turnstiles_df.head()"
   ]
  },
  {
   "cell_type": "code",
   "execution_count": 150,
   "metadata": {
    "colab": {},
    "colab_type": "code",
    "id": "e0VmQRZGG35Z",
    "outputId": "e9f5c296-9dc6-4116-954b-da86b21ddb5f"
   },
   "outputs": [
    {
     "data": {
      "text/html": [
       "<div>\n",
       "<style scoped>\n",
       "    .dataframe tbody tr th:only-of-type {\n",
       "        vertical-align: middle;\n",
       "    }\n",
       "\n",
       "    .dataframe tbody tr th {\n",
       "        vertical-align: top;\n",
       "    }\n",
       "\n",
       "    .dataframe thead th {\n",
       "        text-align: right;\n",
       "    }\n",
       "</style>\n",
       "<table border=\"1\" class=\"dataframe\">\n",
       "  <thead>\n",
       "    <tr style=\"text-align: right;\">\n",
       "      <th></th>\n",
       "      <th>C/A</th>\n",
       "      <th>UNIT</th>\n",
       "      <th>SCP</th>\n",
       "      <th>STATION</th>\n",
       "      <th>LINENAME</th>\n",
       "      <th>DIVISION</th>\n",
       "      <th>DATE</th>\n",
       "      <th>TIME</th>\n",
       "      <th>DESC</th>\n",
       "      <th>ENTRIES</th>\n",
       "      <th>EXITS</th>\n",
       "    </tr>\n",
       "  </thead>\n",
       "  <tbody>\n",
       "    <tr>\n",
       "      <td>209825</td>\n",
       "      <td>TRAM2</td>\n",
       "      <td>R469</td>\n",
       "      <td>00-05-01</td>\n",
       "      <td>RIT-ROOSEVELT</td>\n",
       "      <td>R</td>\n",
       "      <td>RIT</td>\n",
       "      <td>09/25/2020</td>\n",
       "      <td>05:00:00</td>\n",
       "      <td>REGULAR</td>\n",
       "      <td>5554</td>\n",
       "      <td>541</td>\n",
       "    </tr>\n",
       "    <tr>\n",
       "      <td>209826</td>\n",
       "      <td>TRAM2</td>\n",
       "      <td>R469</td>\n",
       "      <td>00-05-01</td>\n",
       "      <td>RIT-ROOSEVELT</td>\n",
       "      <td>R</td>\n",
       "      <td>RIT</td>\n",
       "      <td>09/25/2020</td>\n",
       "      <td>09:00:00</td>\n",
       "      <td>REGULAR</td>\n",
       "      <td>5554</td>\n",
       "      <td>541</td>\n",
       "    </tr>\n",
       "    <tr>\n",
       "      <td>209827</td>\n",
       "      <td>TRAM2</td>\n",
       "      <td>R469</td>\n",
       "      <td>00-05-01</td>\n",
       "      <td>RIT-ROOSEVELT</td>\n",
       "      <td>R</td>\n",
       "      <td>RIT</td>\n",
       "      <td>09/25/2020</td>\n",
       "      <td>13:00:00</td>\n",
       "      <td>REGULAR</td>\n",
       "      <td>5554</td>\n",
       "      <td>541</td>\n",
       "    </tr>\n",
       "    <tr>\n",
       "      <td>209828</td>\n",
       "      <td>TRAM2</td>\n",
       "      <td>R469</td>\n",
       "      <td>00-05-01</td>\n",
       "      <td>RIT-ROOSEVELT</td>\n",
       "      <td>R</td>\n",
       "      <td>RIT</td>\n",
       "      <td>09/25/2020</td>\n",
       "      <td>17:00:00</td>\n",
       "      <td>REGULAR</td>\n",
       "      <td>5554</td>\n",
       "      <td>541</td>\n",
       "    </tr>\n",
       "    <tr>\n",
       "      <td>209829</td>\n",
       "      <td>TRAM2</td>\n",
       "      <td>R469</td>\n",
       "      <td>00-05-01</td>\n",
       "      <td>RIT-ROOSEVELT</td>\n",
       "      <td>R</td>\n",
       "      <td>RIT</td>\n",
       "      <td>09/25/2020</td>\n",
       "      <td>21:00:00</td>\n",
       "      <td>REGULAR</td>\n",
       "      <td>5554</td>\n",
       "      <td>541</td>\n",
       "    </tr>\n",
       "  </tbody>\n",
       "</table>\n",
       "</div>"
      ],
      "text/plain": [
       "          C/A  UNIT       SCP        STATION LINENAME DIVISION        DATE  \\\n",
       "209825  TRAM2  R469  00-05-01  RIT-ROOSEVELT        R      RIT  09/25/2020   \n",
       "209826  TRAM2  R469  00-05-01  RIT-ROOSEVELT        R      RIT  09/25/2020   \n",
       "209827  TRAM2  R469  00-05-01  RIT-ROOSEVELT        R      RIT  09/25/2020   \n",
       "209828  TRAM2  R469  00-05-01  RIT-ROOSEVELT        R      RIT  09/25/2020   \n",
       "209829  TRAM2  R469  00-05-01  RIT-ROOSEVELT        R      RIT  09/25/2020   \n",
       "\n",
       "            TIME     DESC  ENTRIES  EXITS  \n",
       "209825  05:00:00  REGULAR     5554    541  \n",
       "209826  09:00:00  REGULAR     5554    541  \n",
       "209827  13:00:00  REGULAR     5554    541  \n",
       "209828  17:00:00  REGULAR     5554    541  \n",
       "209829  21:00:00  REGULAR     5554    541  "
      ]
     },
     "execution_count": 150,
     "metadata": {},
     "output_type": "execute_result"
    }
   ],
   "source": [
    "turnstiles_df.tail()"
   ]
  },
  {
   "cell_type": "code",
   "execution_count": 151,
   "metadata": {
    "colab": {},
    "colab_type": "code",
    "id": "sa1b2feDG35d",
    "outputId": "db67baa6-6ffd-4b7d-d4c1-f9837883d7bb"
   },
   "outputs": [
    {
     "data": {
      "text/plain": [
       "09/05/2020    30551\n",
       "09/06/2020    29557\n",
       "09/07/2020    29509\n",
       "09/08/2020    29707\n",
       "09/09/2020    29514\n",
       "09/10/2020    29508\n",
       "09/11/2020    32239\n",
       "09/12/2020    32195\n",
       "09/13/2020    30530\n",
       "09/14/2020    29597\n",
       "09/15/2020    29397\n",
       "09/16/2020    29316\n",
       "09/17/2020    29381\n",
       "09/18/2020    29245\n",
       "09/19/2020    30408\n",
       "09/20/2020    29869\n",
       "09/21/2020    30829\n",
       "09/22/2020    29651\n",
       "09/23/2020    29814\n",
       "09/24/2020    29603\n",
       "09/25/2020    29656\n",
       "Name: DATE, dtype: int64"
      ]
     },
     "execution_count": 151,
     "metadata": {},
     "output_type": "execute_result"
    }
   ],
   "source": [
    "# Three weeks of Data\n",
    "turnstiles_df.DATE.value_counts().sort_index()"
   ]
  },
  {
   "cell_type": "markdown",
   "metadata": {
    "colab_type": "text",
    "id": "9EA65TzWG35g"
   },
   "source": [
    "\n",
    "#### Exercise 1.2\n",
    "\n",
    "- Let's turn this into a time series. Create a new column that stores the date and time as a single pandas datetime object."
   ]
  },
  {
   "cell_type": "code",
   "execution_count": 152,
   "metadata": {
    "colab": {},
    "colab_type": "code",
    "id": "wYzuSwfGG35h",
    "outputId": "a8c99bb2-5194-4e25-eda8-4b9112c67186"
   },
   "outputs": [
    {
     "data": {
      "text/plain": [
       "Index(['C/A', 'UNIT', 'SCP', 'STATION', 'LINENAME', 'DIVISION', 'DATE', 'TIME',\n",
       "       'DESC', 'ENTRIES', 'EXITS'],\n",
       "      dtype='object')"
      ]
     },
     "execution_count": 152,
     "metadata": {},
     "output_type": "execute_result"
    }
   ],
   "source": [
    "turnstiles_df.columns"
   ]
  },
  {
   "cell_type": "code",
   "execution_count": 153,
   "metadata": {
    "colab": {},
    "colab_type": "code",
    "id": "7WeI6mMqG35l"
   },
   "outputs": [],
   "source": [
    "from datetime import datetime as dt"
   ]
  },
  {
   "cell_type": "code",
   "execution_count": 154,
   "metadata": {
    "colab": {},
    "colab_type": "code",
    "id": "cm4s0832G35p"
   },
   "outputs": [],
   "source": [
    "# Take the date and time fields into a single datetime column\n",
    "turnstiles_df[\"DATE_TIME\"] = pd.to_datetime(turnstiles_df.DATE + \" \" + turnstiles_df.TIME, \n",
    "                                            format=\"%m/%d/%Y %H:%M:%S\")"
   ]
  },
  {
   "cell_type": "code",
   "execution_count": 155,
   "metadata": {
    "colab": {},
    "colab_type": "code",
    "id": "dZlrQFR0G35t",
    "outputId": "d127b988-4d51-419a-99f4-38ef2fcdc286"
   },
   "outputs": [
    {
     "data": {
      "text/html": [
       "<div>\n",
       "<style scoped>\n",
       "    .dataframe tbody tr th:only-of-type {\n",
       "        vertical-align: middle;\n",
       "    }\n",
       "\n",
       "    .dataframe tbody tr th {\n",
       "        vertical-align: top;\n",
       "    }\n",
       "\n",
       "    .dataframe thead th {\n",
       "        text-align: right;\n",
       "    }\n",
       "</style>\n",
       "<table border=\"1\" class=\"dataframe\">\n",
       "  <thead>\n",
       "    <tr style=\"text-align: right;\">\n",
       "      <th></th>\n",
       "      <th>C/A</th>\n",
       "      <th>UNIT</th>\n",
       "      <th>SCP</th>\n",
       "      <th>STATION</th>\n",
       "      <th>LINENAME</th>\n",
       "      <th>DIVISION</th>\n",
       "      <th>DATE</th>\n",
       "      <th>TIME</th>\n",
       "      <th>DESC</th>\n",
       "      <th>ENTRIES</th>\n",
       "      <th>EXITS</th>\n",
       "      <th>DATE_TIME</th>\n",
       "    </tr>\n",
       "  </thead>\n",
       "  <tbody>\n",
       "    <tr>\n",
       "      <td>0</td>\n",
       "      <td>A002</td>\n",
       "      <td>R051</td>\n",
       "      <td>02-00-00</td>\n",
       "      <td>59 ST</td>\n",
       "      <td>NQR456W</td>\n",
       "      <td>BMT</td>\n",
       "      <td>09/05/2020</td>\n",
       "      <td>00:00:00</td>\n",
       "      <td>REGULAR</td>\n",
       "      <td>7453934</td>\n",
       "      <td>2534625</td>\n",
       "      <td>2020-09-05 00:00:00</td>\n",
       "    </tr>\n",
       "    <tr>\n",
       "      <td>1</td>\n",
       "      <td>A002</td>\n",
       "      <td>R051</td>\n",
       "      <td>02-00-00</td>\n",
       "      <td>59 ST</td>\n",
       "      <td>NQR456W</td>\n",
       "      <td>BMT</td>\n",
       "      <td>09/05/2020</td>\n",
       "      <td>04:00:00</td>\n",
       "      <td>REGULAR</td>\n",
       "      <td>7453939</td>\n",
       "      <td>2534627</td>\n",
       "      <td>2020-09-05 04:00:00</td>\n",
       "    </tr>\n",
       "    <tr>\n",
       "      <td>2</td>\n",
       "      <td>A002</td>\n",
       "      <td>R051</td>\n",
       "      <td>02-00-00</td>\n",
       "      <td>59 ST</td>\n",
       "      <td>NQR456W</td>\n",
       "      <td>BMT</td>\n",
       "      <td>09/05/2020</td>\n",
       "      <td>08:00:00</td>\n",
       "      <td>REGULAR</td>\n",
       "      <td>7453951</td>\n",
       "      <td>2534645</td>\n",
       "      <td>2020-09-05 08:00:00</td>\n",
       "    </tr>\n",
       "    <tr>\n",
       "      <td>3</td>\n",
       "      <td>A002</td>\n",
       "      <td>R051</td>\n",
       "      <td>02-00-00</td>\n",
       "      <td>59 ST</td>\n",
       "      <td>NQR456W</td>\n",
       "      <td>BMT</td>\n",
       "      <td>09/05/2020</td>\n",
       "      <td>12:00:00</td>\n",
       "      <td>REGULAR</td>\n",
       "      <td>7453997</td>\n",
       "      <td>2534689</td>\n",
       "      <td>2020-09-05 12:00:00</td>\n",
       "    </tr>\n",
       "    <tr>\n",
       "      <td>4</td>\n",
       "      <td>A002</td>\n",
       "      <td>R051</td>\n",
       "      <td>02-00-00</td>\n",
       "      <td>59 ST</td>\n",
       "      <td>NQR456W</td>\n",
       "      <td>BMT</td>\n",
       "      <td>09/05/2020</td>\n",
       "      <td>16:00:00</td>\n",
       "      <td>REGULAR</td>\n",
       "      <td>7454097</td>\n",
       "      <td>2534727</td>\n",
       "      <td>2020-09-05 16:00:00</td>\n",
       "    </tr>\n",
       "  </tbody>\n",
       "</table>\n",
       "</div>"
      ],
      "text/plain": [
       "    C/A  UNIT       SCP STATION LINENAME DIVISION        DATE      TIME  \\\n",
       "0  A002  R051  02-00-00   59 ST  NQR456W      BMT  09/05/2020  00:00:00   \n",
       "1  A002  R051  02-00-00   59 ST  NQR456W      BMT  09/05/2020  04:00:00   \n",
       "2  A002  R051  02-00-00   59 ST  NQR456W      BMT  09/05/2020  08:00:00   \n",
       "3  A002  R051  02-00-00   59 ST  NQR456W      BMT  09/05/2020  12:00:00   \n",
       "4  A002  R051  02-00-00   59 ST  NQR456W      BMT  09/05/2020  16:00:00   \n",
       "\n",
       "      DESC  ENTRIES    EXITS           DATE_TIME  \n",
       "0  REGULAR  7453934  2534625 2020-09-05 00:00:00  \n",
       "1  REGULAR  7453939  2534627 2020-09-05 04:00:00  \n",
       "2  REGULAR  7453951  2534645 2020-09-05 08:00:00  \n",
       "3  REGULAR  7453997  2534689 2020-09-05 12:00:00  \n",
       "4  REGULAR  7454097  2534727 2020-09-05 16:00:00  "
      ]
     },
     "execution_count": 155,
     "metadata": {},
     "output_type": "execute_result"
    }
   ],
   "source": [
    "turnstiles_df.head()"
   ]
  },
  {
   "cell_type": "markdown",
   "metadata": {
    "colab_type": "text",
    "id": "Vvv3ywmtG35y"
   },
   "source": [
    "Alternatively, pandas is so good that it can even automatically parse datetimes as you load in data if you tell it to, as below."
   ]
  },
  {
   "cell_type": "code",
   "execution_count": 156,
   "metadata": {
    "colab": {},
    "colab_type": "code",
    "id": "RlEpNm7NG35z",
    "outputId": "08eca67d-adcc-4972-8168-5895f6e9ce58"
   },
   "outputs": [
    {
     "data": {
      "text/html": [
       "<div>\n",
       "<style scoped>\n",
       "    .dataframe tbody tr th:only-of-type {\n",
       "        vertical-align: middle;\n",
       "    }\n",
       "\n",
       "    .dataframe tbody tr th {\n",
       "        vertical-align: top;\n",
       "    }\n",
       "\n",
       "    .dataframe thead th {\n",
       "        text-align: right;\n",
       "    }\n",
       "</style>\n",
       "<table border=\"1\" class=\"dataframe\">\n",
       "  <thead>\n",
       "    <tr style=\"text-align: right;\">\n",
       "      <th></th>\n",
       "      <th>DATE_TIME</th>\n",
       "      <th>C/A</th>\n",
       "      <th>UNIT</th>\n",
       "      <th>SCP</th>\n",
       "      <th>STATION</th>\n",
       "      <th>LINENAME</th>\n",
       "      <th>DIVISION</th>\n",
       "      <th>DATE</th>\n",
       "      <th>TIME</th>\n",
       "      <th>DESC</th>\n",
       "      <th>ENTRIES</th>\n",
       "      <th>EXITS</th>\n",
       "    </tr>\n",
       "  </thead>\n",
       "  <tbody>\n",
       "    <tr>\n",
       "      <td>0</td>\n",
       "      <td>2020-09-05 00:00:00</td>\n",
       "      <td>A002</td>\n",
       "      <td>R051</td>\n",
       "      <td>02-00-00</td>\n",
       "      <td>59 ST</td>\n",
       "      <td>NQR456W</td>\n",
       "      <td>BMT</td>\n",
       "      <td>09/05/2020</td>\n",
       "      <td>00:00:00</td>\n",
       "      <td>REGULAR</td>\n",
       "      <td>7453934</td>\n",
       "      <td>2534625</td>\n",
       "    </tr>\n",
       "    <tr>\n",
       "      <td>1</td>\n",
       "      <td>2020-09-05 04:00:00</td>\n",
       "      <td>A002</td>\n",
       "      <td>R051</td>\n",
       "      <td>02-00-00</td>\n",
       "      <td>59 ST</td>\n",
       "      <td>NQR456W</td>\n",
       "      <td>BMT</td>\n",
       "      <td>09/05/2020</td>\n",
       "      <td>04:00:00</td>\n",
       "      <td>REGULAR</td>\n",
       "      <td>7453939</td>\n",
       "      <td>2534627</td>\n",
       "    </tr>\n",
       "    <tr>\n",
       "      <td>2</td>\n",
       "      <td>2020-09-05 08:00:00</td>\n",
       "      <td>A002</td>\n",
       "      <td>R051</td>\n",
       "      <td>02-00-00</td>\n",
       "      <td>59 ST</td>\n",
       "      <td>NQR456W</td>\n",
       "      <td>BMT</td>\n",
       "      <td>09/05/2020</td>\n",
       "      <td>08:00:00</td>\n",
       "      <td>REGULAR</td>\n",
       "      <td>7453951</td>\n",
       "      <td>2534645</td>\n",
       "    </tr>\n",
       "    <tr>\n",
       "      <td>3</td>\n",
       "      <td>2020-09-05 12:00:00</td>\n",
       "      <td>A002</td>\n",
       "      <td>R051</td>\n",
       "      <td>02-00-00</td>\n",
       "      <td>59 ST</td>\n",
       "      <td>NQR456W</td>\n",
       "      <td>BMT</td>\n",
       "      <td>09/05/2020</td>\n",
       "      <td>12:00:00</td>\n",
       "      <td>REGULAR</td>\n",
       "      <td>7453997</td>\n",
       "      <td>2534689</td>\n",
       "    </tr>\n",
       "    <tr>\n",
       "      <td>4</td>\n",
       "      <td>2020-09-05 16:00:00</td>\n",
       "      <td>A002</td>\n",
       "      <td>R051</td>\n",
       "      <td>02-00-00</td>\n",
       "      <td>59 ST</td>\n",
       "      <td>NQR456W</td>\n",
       "      <td>BMT</td>\n",
       "      <td>09/05/2020</td>\n",
       "      <td>16:00:00</td>\n",
       "      <td>REGULAR</td>\n",
       "      <td>7454097</td>\n",
       "      <td>2534727</td>\n",
       "    </tr>\n",
       "  </tbody>\n",
       "</table>\n",
       "</div>"
      ],
      "text/plain": [
       "            DATE_TIME   C/A  UNIT       SCP STATION LINENAME DIVISION  \\\n",
       "0 2020-09-05 00:00:00  A002  R051  02-00-00   59 ST  NQR456W      BMT   \n",
       "1 2020-09-05 04:00:00  A002  R051  02-00-00   59 ST  NQR456W      BMT   \n",
       "2 2020-09-05 08:00:00  A002  R051  02-00-00   59 ST  NQR456W      BMT   \n",
       "3 2020-09-05 12:00:00  A002  R051  02-00-00   59 ST  NQR456W      BMT   \n",
       "4 2020-09-05 16:00:00  A002  R051  02-00-00   59 ST  NQR456W      BMT   \n",
       "\n",
       "         DATE      TIME     DESC  ENTRIES  \\\n",
       "0  09/05/2020  00:00:00  REGULAR  7453934   \n",
       "1  09/05/2020  04:00:00  REGULAR  7453939   \n",
       "2  09/05/2020  08:00:00  REGULAR  7453951   \n",
       "3  09/05/2020  12:00:00  REGULAR  7453997   \n",
       "4  09/05/2020  16:00:00  REGULAR  7454097   \n",
       "\n",
       "   EXITS                                                                 \n",
       "0                                            2534625                     \n",
       "1                                            2534627                     \n",
       "2                                            2534645                     \n",
       "3                                            2534689                     \n",
       "4                                            2534727                     "
      ]
     },
     "execution_count": 156,
     "metadata": {},
     "output_type": "execute_result"
    }
   ],
   "source": [
    "# Source: http://web.mta.info/developers/turnstile.html\n",
    "def get_data_parse_dt(week_nums):\n",
    "    url = \"data/turnstile_{}.txt\"\n",
    "    dfs = []\n",
    "    for week_num in week_nums:\n",
    "        file_url = url.format(week_num)\n",
    "        dfs.append(pd.read_csv(file_url, parse_dates=[['DATE','TIME']], keep_date_col=True))\n",
    "    return pd.concat(dfs)\n",
    "        \n",
    "week_nums = [200912, 200919, 200926]\n",
    "turnstiles_df_2 = get_data_parse_dt(week_nums)\n",
    "turnstiles_df_2.head()"
   ]
  },
  {
   "cell_type": "markdown",
   "metadata": {
    "colab_type": "text",
    "id": "hL-7wkPTG353"
   },
   "source": [
    "### Now let's run some diagnostics on the data and see approaches to cleaning before tackling exercise 3"
   ]
  },
  {
   "cell_type": "markdown",
   "metadata": {
    "colab_type": "text",
    "id": "bw3hpESUG354"
   },
   "source": [
    "We can isolate specific turnstiles by creating boolean series masks, then using them to index into the dataframe: "
   ]
  },
  {
   "cell_type": "code",
   "execution_count": 157,
   "metadata": {
    "colab": {},
    "colab_type": "code",
    "id": "B3YfJriVG355",
    "outputId": "15bb6c34-5694-40a6-cdf4-c1edf4be54a9"
   },
   "outputs": [
    {
     "data": {
      "text/html": [
       "<div>\n",
       "<style scoped>\n",
       "    .dataframe tbody tr th:only-of-type {\n",
       "        vertical-align: middle;\n",
       "    }\n",
       "\n",
       "    .dataframe tbody tr th {\n",
       "        vertical-align: top;\n",
       "    }\n",
       "\n",
       "    .dataframe thead th {\n",
       "        text-align: right;\n",
       "    }\n",
       "</style>\n",
       "<table border=\"1\" class=\"dataframe\">\n",
       "  <thead>\n",
       "    <tr style=\"text-align: right;\">\n",
       "      <th></th>\n",
       "      <th>C/A</th>\n",
       "      <th>UNIT</th>\n",
       "      <th>SCP</th>\n",
       "      <th>STATION</th>\n",
       "      <th>LINENAME</th>\n",
       "      <th>DIVISION</th>\n",
       "      <th>DATE</th>\n",
       "      <th>TIME</th>\n",
       "      <th>DESC</th>\n",
       "      <th>ENTRIES</th>\n",
       "      <th>EXITS</th>\n",
       "      <th>DATE_TIME</th>\n",
       "    </tr>\n",
       "  </thead>\n",
       "  <tbody>\n",
       "    <tr>\n",
       "      <td>0</td>\n",
       "      <td>A002</td>\n",
       "      <td>R051</td>\n",
       "      <td>02-00-00</td>\n",
       "      <td>59 ST</td>\n",
       "      <td>NQR456W</td>\n",
       "      <td>BMT</td>\n",
       "      <td>09/05/2020</td>\n",
       "      <td>00:00:00</td>\n",
       "      <td>REGULAR</td>\n",
       "      <td>7453934</td>\n",
       "      <td>2534625</td>\n",
       "      <td>2020-09-05 00:00:00</td>\n",
       "    </tr>\n",
       "    <tr>\n",
       "      <td>1</td>\n",
       "      <td>A002</td>\n",
       "      <td>R051</td>\n",
       "      <td>02-00-00</td>\n",
       "      <td>59 ST</td>\n",
       "      <td>NQR456W</td>\n",
       "      <td>BMT</td>\n",
       "      <td>09/05/2020</td>\n",
       "      <td>04:00:00</td>\n",
       "      <td>REGULAR</td>\n",
       "      <td>7453939</td>\n",
       "      <td>2534627</td>\n",
       "      <td>2020-09-05 04:00:00</td>\n",
       "    </tr>\n",
       "    <tr>\n",
       "      <td>2</td>\n",
       "      <td>A002</td>\n",
       "      <td>R051</td>\n",
       "      <td>02-00-00</td>\n",
       "      <td>59 ST</td>\n",
       "      <td>NQR456W</td>\n",
       "      <td>BMT</td>\n",
       "      <td>09/05/2020</td>\n",
       "      <td>08:00:00</td>\n",
       "      <td>REGULAR</td>\n",
       "      <td>7453951</td>\n",
       "      <td>2534645</td>\n",
       "      <td>2020-09-05 08:00:00</td>\n",
       "    </tr>\n",
       "    <tr>\n",
       "      <td>3</td>\n",
       "      <td>A002</td>\n",
       "      <td>R051</td>\n",
       "      <td>02-00-00</td>\n",
       "      <td>59 ST</td>\n",
       "      <td>NQR456W</td>\n",
       "      <td>BMT</td>\n",
       "      <td>09/05/2020</td>\n",
       "      <td>12:00:00</td>\n",
       "      <td>REGULAR</td>\n",
       "      <td>7453997</td>\n",
       "      <td>2534689</td>\n",
       "      <td>2020-09-05 12:00:00</td>\n",
       "    </tr>\n",
       "    <tr>\n",
       "      <td>4</td>\n",
       "      <td>A002</td>\n",
       "      <td>R051</td>\n",
       "      <td>02-00-00</td>\n",
       "      <td>59 ST</td>\n",
       "      <td>NQR456W</td>\n",
       "      <td>BMT</td>\n",
       "      <td>09/05/2020</td>\n",
       "      <td>16:00:00</td>\n",
       "      <td>REGULAR</td>\n",
       "      <td>7454097</td>\n",
       "      <td>2534727</td>\n",
       "      <td>2020-09-05 16:00:00</td>\n",
       "    </tr>\n",
       "  </tbody>\n",
       "</table>\n",
       "</div>"
      ],
      "text/plain": [
       "    C/A  UNIT       SCP STATION LINENAME DIVISION        DATE      TIME  \\\n",
       "0  A002  R051  02-00-00   59 ST  NQR456W      BMT  09/05/2020  00:00:00   \n",
       "1  A002  R051  02-00-00   59 ST  NQR456W      BMT  09/05/2020  04:00:00   \n",
       "2  A002  R051  02-00-00   59 ST  NQR456W      BMT  09/05/2020  08:00:00   \n",
       "3  A002  R051  02-00-00   59 ST  NQR456W      BMT  09/05/2020  12:00:00   \n",
       "4  A002  R051  02-00-00   59 ST  NQR456W      BMT  09/05/2020  16:00:00   \n",
       "\n",
       "      DESC  ENTRIES    EXITS           DATE_TIME  \n",
       "0  REGULAR  7453934  2534625 2020-09-05 00:00:00  \n",
       "1  REGULAR  7453939  2534627 2020-09-05 04:00:00  \n",
       "2  REGULAR  7453951  2534645 2020-09-05 08:00:00  \n",
       "3  REGULAR  7453997  2534689 2020-09-05 12:00:00  \n",
       "4  REGULAR  7454097  2534727 2020-09-05 16:00:00  "
      ]
     },
     "execution_count": 157,
     "metadata": {},
     "output_type": "execute_result"
    }
   ],
   "source": [
    "mask = ((turnstiles_df[\"C/A\"] == \"A002\") &\n",
    "        (turnstiles_df[\"UNIT\"] == \"R051\") & \n",
    "        (turnstiles_df[\"SCP\"] == \"02-00-00\") & \n",
    "        (turnstiles_df[\"STATION\"] == \"59 ST\"))\n",
    "turnstiles_df[mask].head()"
   ]
  },
  {
   "cell_type": "code",
   "execution_count": 158,
   "metadata": {
    "colab": {},
    "colab_type": "code",
    "id": "fdYTh2S9G359",
    "outputId": "5faf3cb3-704f-4858-adb2-ba9248e3bbd0"
   },
   "outputs": [
    {
     "data": {
      "text/html": [
       "<div>\n",
       "<style scoped>\n",
       "    .dataframe tbody tr th:only-of-type {\n",
       "        vertical-align: middle;\n",
       "    }\n",
       "\n",
       "    .dataframe tbody tr th {\n",
       "        vertical-align: top;\n",
       "    }\n",
       "\n",
       "    .dataframe thead th {\n",
       "        text-align: right;\n",
       "    }\n",
       "</style>\n",
       "<table border=\"1\" class=\"dataframe\">\n",
       "  <thead>\n",
       "    <tr style=\"text-align: right;\">\n",
       "      <th></th>\n",
       "      <th>C/A</th>\n",
       "      <th>UNIT</th>\n",
       "      <th>SCP</th>\n",
       "      <th>STATION</th>\n",
       "      <th>LINENAME</th>\n",
       "      <th>DIVISION</th>\n",
       "      <th>DATE</th>\n",
       "      <th>TIME</th>\n",
       "      <th>DESC</th>\n",
       "      <th>ENTRIES</th>\n",
       "      <th>EXITS</th>\n",
       "      <th>DATE_TIME</th>\n",
       "    </tr>\n",
       "  </thead>\n",
       "  <tbody>\n",
       "    <tr>\n",
       "      <td>203990</td>\n",
       "      <td>R626</td>\n",
       "      <td>R062</td>\n",
       "      <td>00-00-00</td>\n",
       "      <td>CROWN HTS-UTICA</td>\n",
       "      <td>34</td>\n",
       "      <td>IRT</td>\n",
       "      <td>09/05/2020</td>\n",
       "      <td>00:00:00</td>\n",
       "      <td>REGULAR</td>\n",
       "      <td>15635211</td>\n",
       "      <td>3453797</td>\n",
       "      <td>2020-09-05 00:00:00</td>\n",
       "    </tr>\n",
       "    <tr>\n",
       "      <td>203991</td>\n",
       "      <td>R626</td>\n",
       "      <td>R062</td>\n",
       "      <td>00-00-00</td>\n",
       "      <td>CROWN HTS-UTICA</td>\n",
       "      <td>34</td>\n",
       "      <td>IRT</td>\n",
       "      <td>09/05/2020</td>\n",
       "      <td>04:00:00</td>\n",
       "      <td>REGULAR</td>\n",
       "      <td>15635212</td>\n",
       "      <td>3453801</td>\n",
       "      <td>2020-09-05 04:00:00</td>\n",
       "    </tr>\n",
       "    <tr>\n",
       "      <td>203992</td>\n",
       "      <td>R626</td>\n",
       "      <td>R062</td>\n",
       "      <td>00-00-00</td>\n",
       "      <td>CROWN HTS-UTICA</td>\n",
       "      <td>34</td>\n",
       "      <td>IRT</td>\n",
       "      <td>09/05/2020</td>\n",
       "      <td>08:00:00</td>\n",
       "      <td>REGULAR</td>\n",
       "      <td>15635315</td>\n",
       "      <td>3453811</td>\n",
       "      <td>2020-09-05 08:00:00</td>\n",
       "    </tr>\n",
       "    <tr>\n",
       "      <td>203993</td>\n",
       "      <td>R626</td>\n",
       "      <td>R062</td>\n",
       "      <td>00-00-00</td>\n",
       "      <td>CROWN HTS-UTICA</td>\n",
       "      <td>34</td>\n",
       "      <td>IRT</td>\n",
       "      <td>09/05/2020</td>\n",
       "      <td>12:00:00</td>\n",
       "      <td>REGULAR</td>\n",
       "      <td>15635474</td>\n",
       "      <td>3453861</td>\n",
       "      <td>2020-09-05 12:00:00</td>\n",
       "    </tr>\n",
       "    <tr>\n",
       "      <td>203994</td>\n",
       "      <td>R626</td>\n",
       "      <td>R062</td>\n",
       "      <td>00-00-00</td>\n",
       "      <td>CROWN HTS-UTICA</td>\n",
       "      <td>34</td>\n",
       "      <td>IRT</td>\n",
       "      <td>09/05/2020</td>\n",
       "      <td>16:00:00</td>\n",
       "      <td>REGULAR</td>\n",
       "      <td>15635663</td>\n",
       "      <td>3453910</td>\n",
       "      <td>2020-09-05 16:00:00</td>\n",
       "    </tr>\n",
       "  </tbody>\n",
       "</table>\n",
       "</div>"
      ],
      "text/plain": [
       "         C/A  UNIT       SCP          STATION LINENAME DIVISION        DATE  \\\n",
       "203990  R626  R062  00-00-00  CROWN HTS-UTICA       34      IRT  09/05/2020   \n",
       "203991  R626  R062  00-00-00  CROWN HTS-UTICA       34      IRT  09/05/2020   \n",
       "203992  R626  R062  00-00-00  CROWN HTS-UTICA       34      IRT  09/05/2020   \n",
       "203993  R626  R062  00-00-00  CROWN HTS-UTICA       34      IRT  09/05/2020   \n",
       "203994  R626  R062  00-00-00  CROWN HTS-UTICA       34      IRT  09/05/2020   \n",
       "\n",
       "            TIME     DESC   ENTRIES    EXITS           DATE_TIME  \n",
       "203990  00:00:00  REGULAR  15635211  3453797 2020-09-05 00:00:00  \n",
       "203991  04:00:00  REGULAR  15635212  3453801 2020-09-05 04:00:00  \n",
       "203992  08:00:00  REGULAR  15635315  3453811 2020-09-05 08:00:00  \n",
       "203993  12:00:00  REGULAR  15635474  3453861 2020-09-05 12:00:00  \n",
       "203994  16:00:00  REGULAR  15635663  3453910 2020-09-05 16:00:00  "
      ]
     },
     "execution_count": 158,
     "metadata": {},
     "output_type": "execute_result"
    }
   ],
   "source": [
    "mask = ((turnstiles_df[\"C/A\"] == \"R626\") & \n",
    "(turnstiles_df[\"UNIT\"] == \"R062\") & \n",
    "(turnstiles_df[\"SCP\"] == \"00-00-00\") & \n",
    "(turnstiles_df[\"STATION\"] == \"CROWN HTS-UTICA\"))\n",
    "turnstiles_df[mask].head()"
   ]
  },
  {
   "cell_type": "code",
   "execution_count": 159,
   "metadata": {
    "colab": {},
    "colab_type": "code",
    "id": "rnyDrnbjG36C",
    "outputId": "e91abcc8-0eca-4a12-9505-141ceb245fb4"
   },
   "outputs": [
    {
     "data": {
      "text/html": [
       "<div>\n",
       "<style scoped>\n",
       "    .dataframe tbody tr th:only-of-type {\n",
       "        vertical-align: middle;\n",
       "    }\n",
       "\n",
       "    .dataframe tbody tr th {\n",
       "        vertical-align: top;\n",
       "    }\n",
       "\n",
       "    .dataframe thead th {\n",
       "        text-align: right;\n",
       "    }\n",
       "</style>\n",
       "<table border=\"1\" class=\"dataframe\">\n",
       "  <thead>\n",
       "    <tr style=\"text-align: right;\">\n",
       "      <th></th>\n",
       "      <th>C/A</th>\n",
       "      <th>UNIT</th>\n",
       "      <th>SCP</th>\n",
       "      <th>STATION</th>\n",
       "      <th>DATE_TIME</th>\n",
       "      <th>ENTRIES</th>\n",
       "    </tr>\n",
       "  </thead>\n",
       "  <tbody>\n",
       "    <tr>\n",
       "      <td>137440</td>\n",
       "      <td>N007A</td>\n",
       "      <td>R174</td>\n",
       "      <td>00-00-00</td>\n",
       "      <td>181 ST</td>\n",
       "      <td>2020-09-23 13:00:00</td>\n",
       "      <td>2</td>\n",
       "    </tr>\n",
       "    <tr>\n",
       "      <td>501009</td>\n",
       "      <td>R245A</td>\n",
       "      <td>R051</td>\n",
       "      <td>01-00-00</td>\n",
       "      <td>59 ST</td>\n",
       "      <td>2020-09-12 08:00:00</td>\n",
       "      <td>2</td>\n",
       "    </tr>\n",
       "    <tr>\n",
       "      <td>113639</td>\n",
       "      <td>H039</td>\n",
       "      <td>R375</td>\n",
       "      <td>00-00-01</td>\n",
       "      <td>NEW LOTS</td>\n",
       "      <td>2020-09-22 05:00:00</td>\n",
       "      <td>2</td>\n",
       "    </tr>\n",
       "    <tr>\n",
       "      <td>611720</td>\n",
       "      <td>R627</td>\n",
       "      <td>R063</td>\n",
       "      <td>00-00-01</td>\n",
       "      <td>SUTTER AV-RUTLD</td>\n",
       "      <td>2020-09-08 00:00:00</td>\n",
       "      <td>2</td>\n",
       "    </tr>\n",
       "    <tr>\n",
       "      <td>611718</td>\n",
       "      <td>R627</td>\n",
       "      <td>R063</td>\n",
       "      <td>00-00-01</td>\n",
       "      <td>SUTTER AV-RUTLD</td>\n",
       "      <td>2020-09-07 16:00:00</td>\n",
       "      <td>2</td>\n",
       "    </tr>\n",
       "  </tbody>\n",
       "</table>\n",
       "</div>"
      ],
      "text/plain": [
       "          C/A  UNIT       SCP          STATION           DATE_TIME  ENTRIES\n",
       "137440  N007A  R174  00-00-00           181 ST 2020-09-23 13:00:00        2\n",
       "501009  R245A  R051  01-00-00            59 ST 2020-09-12 08:00:00        2\n",
       "113639   H039  R375  00-00-01         NEW LOTS 2020-09-22 05:00:00        2\n",
       "611720   R627  R063  00-00-01  SUTTER AV-RUTLD 2020-09-08 00:00:00        2\n",
       "611718   R627  R063  00-00-01  SUTTER AV-RUTLD 2020-09-07 16:00:00        2"
      ]
     },
     "execution_count": 159,
     "metadata": {},
     "output_type": "execute_result"
    }
   ],
   "source": [
    "# Sanity Check to verify that \"C/A\", \"UNIT\", \"SCP\", \"STATION\", \"DATE_TIME\" is unique\n",
    "(turnstiles_df\n",
    " .groupby([\"C/A\", \"UNIT\", \"SCP\", \"STATION\", \"DATE_TIME\"])\n",
    " .ENTRIES.count()\n",
    " .reset_index()\n",
    " .sort_values(\"ENTRIES\", ascending=False)).head(5)"
   ]
  },
  {
   "cell_type": "code",
   "execution_count": 160,
   "metadata": {
    "colab": {},
    "colab_type": "code",
    "id": "q2ABp9FEG36F",
    "outputId": "fd5dd1a3-1e39-4780-c949-fb8c04d2e558"
   },
   "outputs": [
    {
     "data": {
      "text/html": [
       "<div>\n",
       "<style scoped>\n",
       "    .dataframe tbody tr th:only-of-type {\n",
       "        vertical-align: middle;\n",
       "    }\n",
       "\n",
       "    .dataframe tbody tr th {\n",
       "        vertical-align: top;\n",
       "    }\n",
       "\n",
       "    .dataframe thead th {\n",
       "        text-align: right;\n",
       "    }\n",
       "</style>\n",
       "<table border=\"1\" class=\"dataframe\">\n",
       "  <thead>\n",
       "    <tr style=\"text-align: right;\">\n",
       "      <th></th>\n",
       "      <th>C/A</th>\n",
       "      <th>UNIT</th>\n",
       "      <th>SCP</th>\n",
       "      <th>STATION</th>\n",
       "      <th>LINENAME</th>\n",
       "      <th>DIVISION</th>\n",
       "      <th>DATE</th>\n",
       "      <th>TIME</th>\n",
       "      <th>DESC</th>\n",
       "      <th>ENTRIES</th>\n",
       "      <th>EXITS</th>\n",
       "      <th>DATE_TIME</th>\n",
       "    </tr>\n",
       "  </thead>\n",
       "  <tbody>\n",
       "    <tr>\n",
       "      <td>46404</td>\n",
       "      <td>N007A</td>\n",
       "      <td>R174</td>\n",
       "      <td>00-00-00</td>\n",
       "      <td>181 ST</td>\n",
       "      <td>A</td>\n",
       "      <td>IND</td>\n",
       "      <td>09/23/2020</td>\n",
       "      <td>01:00:00</td>\n",
       "      <td>REGULAR</td>\n",
       "      <td>10731822</td>\n",
       "      <td>11585855</td>\n",
       "      <td>2020-09-23 01:00:00</td>\n",
       "    </tr>\n",
       "    <tr>\n",
       "      <td>46405</td>\n",
       "      <td>N007A</td>\n",
       "      <td>R174</td>\n",
       "      <td>00-00-00</td>\n",
       "      <td>181 ST</td>\n",
       "      <td>A</td>\n",
       "      <td>IND</td>\n",
       "      <td>09/23/2020</td>\n",
       "      <td>05:00:00</td>\n",
       "      <td>REGULAR</td>\n",
       "      <td>10731824</td>\n",
       "      <td>11585859</td>\n",
       "      <td>2020-09-23 05:00:00</td>\n",
       "    </tr>\n",
       "    <tr>\n",
       "      <td>46406</td>\n",
       "      <td>N007A</td>\n",
       "      <td>R174</td>\n",
       "      <td>00-00-00</td>\n",
       "      <td>181 ST</td>\n",
       "      <td>A</td>\n",
       "      <td>IND</td>\n",
       "      <td>09/23/2020</td>\n",
       "      <td>09:00:00</td>\n",
       "      <td>REGULAR</td>\n",
       "      <td>10732001</td>\n",
       "      <td>11585996</td>\n",
       "      <td>2020-09-23 09:00:00</td>\n",
       "    </tr>\n",
       "    <tr>\n",
       "      <td>46407</td>\n",
       "      <td>N007A</td>\n",
       "      <td>R174</td>\n",
       "      <td>00-00-00</td>\n",
       "      <td>181 ST</td>\n",
       "      <td>A</td>\n",
       "      <td>IND</td>\n",
       "      <td>09/23/2020</td>\n",
       "      <td>13:00:00</td>\n",
       "      <td>REGULAR</td>\n",
       "      <td>4</td>\n",
       "      <td>0</td>\n",
       "      <td>2020-09-23 13:00:00</td>\n",
       "    </tr>\n",
       "    <tr>\n",
       "      <td>46408</td>\n",
       "      <td>N007A</td>\n",
       "      <td>R174</td>\n",
       "      <td>00-00-00</td>\n",
       "      <td>181 ST</td>\n",
       "      <td>A</td>\n",
       "      <td>IND</td>\n",
       "      <td>09/23/2020</td>\n",
       "      <td>13:00:00</td>\n",
       "      <td>RECOVR AUD</td>\n",
       "      <td>10732094</td>\n",
       "      <td>11586103</td>\n",
       "      <td>2020-09-23 13:00:00</td>\n",
       "    </tr>\n",
       "    <tr>\n",
       "      <td>46409</td>\n",
       "      <td>N007A</td>\n",
       "      <td>R174</td>\n",
       "      <td>00-00-00</td>\n",
       "      <td>181 ST</td>\n",
       "      <td>A</td>\n",
       "      <td>IND</td>\n",
       "      <td>09/23/2020</td>\n",
       "      <td>17:00:00</td>\n",
       "      <td>REGULAR</td>\n",
       "      <td>6</td>\n",
       "      <td>0</td>\n",
       "      <td>2020-09-23 17:00:00</td>\n",
       "    </tr>\n",
       "    <tr>\n",
       "      <td>46410</td>\n",
       "      <td>N007A</td>\n",
       "      <td>R174</td>\n",
       "      <td>00-00-00</td>\n",
       "      <td>181 ST</td>\n",
       "      <td>A</td>\n",
       "      <td>IND</td>\n",
       "      <td>09/23/2020</td>\n",
       "      <td>21:00:00</td>\n",
       "      <td>REGULAR</td>\n",
       "      <td>6</td>\n",
       "      <td>0</td>\n",
       "      <td>2020-09-23 21:00:00</td>\n",
       "    </tr>\n",
       "  </tbody>\n",
       "</table>\n",
       "</div>"
      ],
      "text/plain": [
       "         C/A  UNIT       SCP STATION LINENAME DIVISION        DATE      TIME  \\\n",
       "46404  N007A  R174  00-00-00  181 ST        A      IND  09/23/2020  01:00:00   \n",
       "46405  N007A  R174  00-00-00  181 ST        A      IND  09/23/2020  05:00:00   \n",
       "46406  N007A  R174  00-00-00  181 ST        A      IND  09/23/2020  09:00:00   \n",
       "46407  N007A  R174  00-00-00  181 ST        A      IND  09/23/2020  13:00:00   \n",
       "46408  N007A  R174  00-00-00  181 ST        A      IND  09/23/2020  13:00:00   \n",
       "46409  N007A  R174  00-00-00  181 ST        A      IND  09/23/2020  17:00:00   \n",
       "46410  N007A  R174  00-00-00  181 ST        A      IND  09/23/2020  21:00:00   \n",
       "\n",
       "             DESC   ENTRIES     EXITS           DATE_TIME  \n",
       "46404     REGULAR  10731822  11585855 2020-09-23 01:00:00  \n",
       "46405     REGULAR  10731824  11585859 2020-09-23 05:00:00  \n",
       "46406     REGULAR  10732001  11585996 2020-09-23 09:00:00  \n",
       "46407     REGULAR         4         0 2020-09-23 13:00:00  \n",
       "46408  RECOVR AUD  10732094  11586103 2020-09-23 13:00:00  \n",
       "46409     REGULAR         6         0 2020-09-23 17:00:00  \n",
       "46410     REGULAR         6         0 2020-09-23 21:00:00  "
      ]
     },
     "execution_count": 160,
     "metadata": {},
     "output_type": "execute_result"
    }
   ],
   "source": [
    "# On 9/16, we seem to have two entries for same time.  Let's take a look\n",
    "mask = ((turnstiles_df[\"C/A\"] == \"N007A\") & \n",
    "(turnstiles_df[\"UNIT\"] == \"R174\") & \n",
    "(turnstiles_df[\"SCP\"] == \"00-00-00\") & \n",
    "(turnstiles_df[\"STATION\"] == \"181 ST\") &\n",
    "(turnstiles_df[\"DATE_TIME\"].dt.date == datetime.datetime(2020, 9, 23).date()))\n",
    "turnstiles_df[mask].head(10)"
   ]
  },
  {
   "cell_type": "markdown",
   "metadata": {
    "colab_type": "text",
    "id": "NVnsn_YJG36I"
   },
   "source": [
    "* Looks to be a incorrect AUD entry.  May be we should just select the Regular One."
   ]
  },
  {
   "cell_type": "code",
   "execution_count": 161,
   "metadata": {
    "colab": {},
    "colab_type": "code",
    "id": "1SRk1wCSG36J",
    "outputId": "09777e3c-4357-4432-f490-63c9ff54ba9f"
   },
   "outputs": [
    {
     "data": {
      "text/plain": [
       "REGULAR       627445\n",
       "RECOVR AUD      2631\n",
       "Name: DESC, dtype: int64"
      ]
     },
     "execution_count": 161,
     "metadata": {},
     "output_type": "execute_result"
    }
   ],
   "source": [
    "turnstiles_df.DESC.value_counts()"
   ]
  },
  {
   "cell_type": "markdown",
   "metadata": {
    "colab_type": "text",
    "id": "MSTjJmu5G36N"
   },
   "source": [
    "* Since we are only interested in Entries, we might be OK."
   ]
  },
  {
   "cell_type": "code",
   "execution_count": 162,
   "metadata": {
    "colab": {},
    "colab_type": "code",
    "id": "xrmUE6NWG36O"
   },
   "outputs": [],
   "source": [
    "# Get rid of the duplicate entry\n",
    "turnstiles_df.sort_values([\"C/A\", \"UNIT\", \"SCP\", \"STATION\", \"DATE_TIME\"], \n",
    "                          inplace=True, ascending=False)\n",
    "turnstiles_df.drop_duplicates(subset=[\"C/A\", \"UNIT\", \"SCP\", \"STATION\", \"DATE_TIME\"], inplace=True)"
   ]
  },
  {
   "cell_type": "code",
   "execution_count": 163,
   "metadata": {
    "colab": {},
    "colab_type": "code",
    "id": "uxXBlRMtG36S",
    "outputId": "57a93b4f-2326-41a1-a5a8-43ad3c05ebf4"
   },
   "outputs": [
    {
     "data": {
      "text/html": [
       "<div>\n",
       "<style scoped>\n",
       "    .dataframe tbody tr th:only-of-type {\n",
       "        vertical-align: middle;\n",
       "    }\n",
       "\n",
       "    .dataframe tbody tr th {\n",
       "        vertical-align: top;\n",
       "    }\n",
       "\n",
       "    .dataframe thead th {\n",
       "        text-align: right;\n",
       "    }\n",
       "</style>\n",
       "<table border=\"1\" class=\"dataframe\">\n",
       "  <thead>\n",
       "    <tr style=\"text-align: right;\">\n",
       "      <th></th>\n",
       "      <th>C/A</th>\n",
       "      <th>UNIT</th>\n",
       "      <th>SCP</th>\n",
       "      <th>STATION</th>\n",
       "      <th>DATE_TIME</th>\n",
       "      <th>ENTRIES</th>\n",
       "    </tr>\n",
       "  </thead>\n",
       "  <tbody>\n",
       "    <tr>\n",
       "      <td>0</td>\n",
       "      <td>A002</td>\n",
       "      <td>R051</td>\n",
       "      <td>02-00-00</td>\n",
       "      <td>59 ST</td>\n",
       "      <td>2020-09-05 00:00:00</td>\n",
       "      <td>1</td>\n",
       "    </tr>\n",
       "    <tr>\n",
       "      <td>420045</td>\n",
       "      <td>R135</td>\n",
       "      <td>R031</td>\n",
       "      <td>01-00-00</td>\n",
       "      <td>34 ST-PENN STA</td>\n",
       "      <td>2020-09-17 16:00:00</td>\n",
       "      <td>1</td>\n",
       "    </tr>\n",
       "    <tr>\n",
       "      <td>420038</td>\n",
       "      <td>R135</td>\n",
       "      <td>R031</td>\n",
       "      <td>01-00-00</td>\n",
       "      <td>34 ST-PENN STA</td>\n",
       "      <td>2020-09-16 12:00:00</td>\n",
       "      <td>1</td>\n",
       "    </tr>\n",
       "    <tr>\n",
       "      <td>420039</td>\n",
       "      <td>R135</td>\n",
       "      <td>R031</td>\n",
       "      <td>01-00-00</td>\n",
       "      <td>34 ST-PENN STA</td>\n",
       "      <td>2020-09-16 16:00:00</td>\n",
       "      <td>1</td>\n",
       "    </tr>\n",
       "    <tr>\n",
       "      <td>420040</td>\n",
       "      <td>R135</td>\n",
       "      <td>R031</td>\n",
       "      <td>01-00-00</td>\n",
       "      <td>34 ST-PENN STA</td>\n",
       "      <td>2020-09-16 20:00:00</td>\n",
       "      <td>1</td>\n",
       "    </tr>\n",
       "  </tbody>\n",
       "</table>\n",
       "</div>"
      ],
      "text/plain": [
       "         C/A  UNIT       SCP         STATION           DATE_TIME  ENTRIES\n",
       "0       A002  R051  02-00-00           59 ST 2020-09-05 00:00:00        1\n",
       "420045  R135  R031  01-00-00  34 ST-PENN STA 2020-09-17 16:00:00        1\n",
       "420038  R135  R031  01-00-00  34 ST-PENN STA 2020-09-16 12:00:00        1\n",
       "420039  R135  R031  01-00-00  34 ST-PENN STA 2020-09-16 16:00:00        1\n",
       "420040  R135  R031  01-00-00  34 ST-PENN STA 2020-09-16 20:00:00        1"
      ]
     },
     "execution_count": 163,
     "metadata": {},
     "output_type": "execute_result"
    }
   ],
   "source": [
    "# Sanity Check to verify that \"C/A\", \"UNIT\", \"SCP\", \"STATION\", \"DATE_TIME\" is unique\n",
    "(turnstiles_df\n",
    " .groupby([\"C/A\", \"UNIT\", \"SCP\", \"STATION\", \"DATE_TIME\"])\n",
    " .ENTRIES.count()\n",
    " .reset_index()\n",
    " .sort_values(\"ENTRIES\", ascending=False)).head(5)"
   ]
  },
  {
   "cell_type": "markdown",
   "metadata": {
    "colab_type": "text",
    "id": "HfOuMYrzG36W"
   },
   "source": [
    "* No more duplicate Entries"
   ]
  },
  {
   "cell_type": "code",
   "execution_count": 164,
   "metadata": {
    "colab": {},
    "colab_type": "code",
    "id": "vUMhPFNhG36X"
   },
   "outputs": [],
   "source": [
    "# Drop Exits and Desc Column.  To prevent errors in multiple run of cell, errors on drop is ignored\n",
    "turnstiles_df = turnstiles_df.drop([\"EXITS\", \"DESC\"], axis=1, errors=\"ignore\")"
   ]
  },
  {
   "cell_type": "markdown",
   "metadata": {
    "colab_type": "text",
    "id": "RuuH9SUnG36a"
   },
   "source": [
    "#### Exercise 1.3\n",
    "\n",
    "- These counts are for every n hours (What is n?). Also, there's something odd about these \"counts\", what is it? Do they actually represent total entries for a time period, or something else? We want total daily entries, create a new dataframe with one row per turnstile/day and a column that gives total daily entries."
   ]
  },
  {
   "cell_type": "code",
   "execution_count": 165,
   "metadata": {
    "colab": {},
    "colab_type": "code",
    "id": "Y_3ZfAA0G36b"
   },
   "outputs": [
    {
     "data": {
      "text/html": [
       "<div>\n",
       "<style scoped>\n",
       "    .dataframe tbody tr th:only-of-type {\n",
       "        vertical-align: middle;\n",
       "    }\n",
       "\n",
       "    .dataframe tbody tr th {\n",
       "        vertical-align: top;\n",
       "    }\n",
       "\n",
       "    .dataframe thead th {\n",
       "        text-align: right;\n",
       "    }\n",
       "</style>\n",
       "<table border=\"1\" class=\"dataframe\">\n",
       "  <thead>\n",
       "    <tr style=\"text-align: right;\">\n",
       "      <th></th>\n",
       "      <th>C/A</th>\n",
       "      <th>UNIT</th>\n",
       "      <th>SCP</th>\n",
       "      <th>STATION</th>\n",
       "      <th>DATE</th>\n",
       "      <th>ENTRIES</th>\n",
       "    </tr>\n",
       "  </thead>\n",
       "  <tbody>\n",
       "    <tr>\n",
       "      <td>0</td>\n",
       "      <td>A002</td>\n",
       "      <td>R051</td>\n",
       "      <td>02-00-00</td>\n",
       "      <td>59 ST</td>\n",
       "      <td>09/05/2020</td>\n",
       "      <td>7454267</td>\n",
       "    </tr>\n",
       "    <tr>\n",
       "      <td>1</td>\n",
       "      <td>A002</td>\n",
       "      <td>R051</td>\n",
       "      <td>02-00-00</td>\n",
       "      <td>59 ST</td>\n",
       "      <td>09/06/2020</td>\n",
       "      <td>7454567</td>\n",
       "    </tr>\n",
       "    <tr>\n",
       "      <td>2</td>\n",
       "      <td>A002</td>\n",
       "      <td>R051</td>\n",
       "      <td>02-00-00</td>\n",
       "      <td>59 ST</td>\n",
       "      <td>09/07/2020</td>\n",
       "      <td>7454925</td>\n",
       "    </tr>\n",
       "    <tr>\n",
       "      <td>3</td>\n",
       "      <td>A002</td>\n",
       "      <td>R051</td>\n",
       "      <td>02-00-00</td>\n",
       "      <td>59 ST</td>\n",
       "      <td>09/08/2020</td>\n",
       "      <td>7455427</td>\n",
       "    </tr>\n",
       "    <tr>\n",
       "      <td>4</td>\n",
       "      <td>A002</td>\n",
       "      <td>R051</td>\n",
       "      <td>02-00-00</td>\n",
       "      <td>59 ST</td>\n",
       "      <td>09/09/2020</td>\n",
       "      <td>7456007</td>\n",
       "    </tr>\n",
       "  </tbody>\n",
       "</table>\n",
       "</div>"
      ],
      "text/plain": [
       "    C/A  UNIT       SCP STATION        DATE  ENTRIES\n",
       "0  A002  R051  02-00-00   59 ST  09/05/2020  7454267\n",
       "1  A002  R051  02-00-00   59 ST  09/06/2020  7454567\n",
       "2  A002  R051  02-00-00   59 ST  09/07/2020  7454925\n",
       "3  A002  R051  02-00-00   59 ST  09/08/2020  7455427\n",
       "4  A002  R051  02-00-00   59 ST  09/09/2020  7456007"
      ]
     },
     "execution_count": 165,
     "metadata": {},
     "output_type": "execute_result"
    }
   ],
   "source": [
    "turnstiles_daily = (turnstiles_df\n",
    "                        .groupby([\"C/A\", \"UNIT\", \"SCP\", \"STATION\", \"DATE\"],as_index=False)\n",
    "                        .ENTRIES.first())\n",
    "turnstiles_daily.head()"
   ]
  },
  {
   "cell_type": "code",
   "execution_count": 166,
   "metadata": {
    "colab": {},
    "colab_type": "code",
    "id": "cg8RtfZLG36j"
   },
   "outputs": [
    {
     "data": {
      "text/html": [
       "<div>\n",
       "<style scoped>\n",
       "    .dataframe tbody tr th:only-of-type {\n",
       "        vertical-align: middle;\n",
       "    }\n",
       "\n",
       "    .dataframe tbody tr th {\n",
       "        vertical-align: top;\n",
       "    }\n",
       "\n",
       "    .dataframe thead th {\n",
       "        text-align: right;\n",
       "    }\n",
       "</style>\n",
       "<table border=\"1\" class=\"dataframe\">\n",
       "  <thead>\n",
       "    <tr style=\"text-align: right;\">\n",
       "      <th></th>\n",
       "      <th>C/A</th>\n",
       "      <th>UNIT</th>\n",
       "      <th>SCP</th>\n",
       "      <th>STATION</th>\n",
       "      <th>DATE</th>\n",
       "      <th>ENTRIES</th>\n",
       "      <th>PREV_DATE</th>\n",
       "      <th>PREV_ENTRIES</th>\n",
       "    </tr>\n",
       "  </thead>\n",
       "  <tbody>\n",
       "    <tr>\n",
       "      <td>0</td>\n",
       "      <td>A002</td>\n",
       "      <td>R051</td>\n",
       "      <td>02-00-00</td>\n",
       "      <td>59 ST</td>\n",
       "      <td>09/05/2020</td>\n",
       "      <td>7454267</td>\n",
       "      <td>NaN</td>\n",
       "      <td>NaN</td>\n",
       "    </tr>\n",
       "    <tr>\n",
       "      <td>1</td>\n",
       "      <td>A002</td>\n",
       "      <td>R051</td>\n",
       "      <td>02-00-00</td>\n",
       "      <td>59 ST</td>\n",
       "      <td>09/06/2020</td>\n",
       "      <td>7454567</td>\n",
       "      <td>09/05/2020</td>\n",
       "      <td>7454267.0</td>\n",
       "    </tr>\n",
       "    <tr>\n",
       "      <td>2</td>\n",
       "      <td>A002</td>\n",
       "      <td>R051</td>\n",
       "      <td>02-00-00</td>\n",
       "      <td>59 ST</td>\n",
       "      <td>09/07/2020</td>\n",
       "      <td>7454925</td>\n",
       "      <td>09/06/2020</td>\n",
       "      <td>7454567.0</td>\n",
       "    </tr>\n",
       "    <tr>\n",
       "      <td>3</td>\n",
       "      <td>A002</td>\n",
       "      <td>R051</td>\n",
       "      <td>02-00-00</td>\n",
       "      <td>59 ST</td>\n",
       "      <td>09/08/2020</td>\n",
       "      <td>7455427</td>\n",
       "      <td>09/07/2020</td>\n",
       "      <td>7454925.0</td>\n",
       "    </tr>\n",
       "    <tr>\n",
       "      <td>4</td>\n",
       "      <td>A002</td>\n",
       "      <td>R051</td>\n",
       "      <td>02-00-00</td>\n",
       "      <td>59 ST</td>\n",
       "      <td>09/09/2020</td>\n",
       "      <td>7456007</td>\n",
       "      <td>09/08/2020</td>\n",
       "      <td>7455427.0</td>\n",
       "    </tr>\n",
       "  </tbody>\n",
       "</table>\n",
       "</div>"
      ],
      "text/plain": [
       "    C/A  UNIT       SCP STATION        DATE  ENTRIES   PREV_DATE  PREV_ENTRIES\n",
       "0  A002  R051  02-00-00   59 ST  09/05/2020  7454267         NaN           NaN\n",
       "1  A002  R051  02-00-00   59 ST  09/06/2020  7454567  09/05/2020     7454267.0\n",
       "2  A002  R051  02-00-00   59 ST  09/07/2020  7454925  09/06/2020     7454567.0\n",
       "3  A002  R051  02-00-00   59 ST  09/08/2020  7455427  09/07/2020     7454925.0\n",
       "4  A002  R051  02-00-00   59 ST  09/09/2020  7456007  09/08/2020     7455427.0"
      ]
     },
     "execution_count": 166,
     "metadata": {},
     "output_type": "execute_result"
    }
   ],
   "source": [
    "turnstiles_daily[[\"PREV_DATE\", \"PREV_ENTRIES\"]] = (turnstiles_daily\n",
    "                                                       .groupby([\"C/A\", \"UNIT\", \"SCP\", \"STATION\"])[\"DATE\", \"ENTRIES\"]\n",
    "                                                       .apply(lambda grp: grp.shift(1)))\n",
    "\n",
    "turnstiles_daily.head()"
   ]
  },
  {
   "cell_type": "code",
   "execution_count": 167,
   "metadata": {
    "colab": {},
    "colab_type": "code",
    "id": "HEzUNsNVG36n",
    "outputId": "acd0b8b4-6e30-445d-ffee-fbf704951223"
   },
   "outputs": [
    {
     "data": {
      "text/html": [
       "<div>\n",
       "<style scoped>\n",
       "    .dataframe tbody tr th:only-of-type {\n",
       "        vertical-align: middle;\n",
       "    }\n",
       "\n",
       "    .dataframe tbody tr th {\n",
       "        vertical-align: top;\n",
       "    }\n",
       "\n",
       "    .dataframe thead th {\n",
       "        text-align: right;\n",
       "    }\n",
       "</style>\n",
       "<table border=\"1\" class=\"dataframe\">\n",
       "  <thead>\n",
       "    <tr style=\"text-align: right;\">\n",
       "      <th></th>\n",
       "      <th>C/A</th>\n",
       "      <th>UNIT</th>\n",
       "      <th>SCP</th>\n",
       "      <th>STATION</th>\n",
       "      <th>DATE</th>\n",
       "      <th>ENTRIES</th>\n",
       "      <th>PREV_DATE</th>\n",
       "      <th>PREV_ENTRIES</th>\n",
       "    </tr>\n",
       "  </thead>\n",
       "  <tbody>\n",
       "    <tr>\n",
       "      <td>0</td>\n",
       "      <td>A002</td>\n",
       "      <td>R051</td>\n",
       "      <td>02-00-00</td>\n",
       "      <td>59 ST</td>\n",
       "      <td>09/05/2020</td>\n",
       "      <td>7454267</td>\n",
       "      <td>NaN</td>\n",
       "      <td>NaN</td>\n",
       "    </tr>\n",
       "    <tr>\n",
       "      <td>1</td>\n",
       "      <td>A002</td>\n",
       "      <td>R051</td>\n",
       "      <td>02-00-00</td>\n",
       "      <td>59 ST</td>\n",
       "      <td>09/06/2020</td>\n",
       "      <td>7454567</td>\n",
       "      <td>09/05/2020</td>\n",
       "      <td>7454267.0</td>\n",
       "    </tr>\n",
       "    <tr>\n",
       "      <td>2</td>\n",
       "      <td>A002</td>\n",
       "      <td>R051</td>\n",
       "      <td>02-00-00</td>\n",
       "      <td>59 ST</td>\n",
       "      <td>09/07/2020</td>\n",
       "      <td>7454925</td>\n",
       "      <td>09/06/2020</td>\n",
       "      <td>7454567.0</td>\n",
       "    </tr>\n",
       "    <tr>\n",
       "      <td>3</td>\n",
       "      <td>A002</td>\n",
       "      <td>R051</td>\n",
       "      <td>02-00-00</td>\n",
       "      <td>59 ST</td>\n",
       "      <td>09/08/2020</td>\n",
       "      <td>7455427</td>\n",
       "      <td>09/07/2020</td>\n",
       "      <td>7454925.0</td>\n",
       "    </tr>\n",
       "    <tr>\n",
       "      <td>4</td>\n",
       "      <td>A002</td>\n",
       "      <td>R051</td>\n",
       "      <td>02-00-00</td>\n",
       "      <td>59 ST</td>\n",
       "      <td>09/09/2020</td>\n",
       "      <td>7456007</td>\n",
       "      <td>09/08/2020</td>\n",
       "      <td>7455427.0</td>\n",
       "    </tr>\n",
       "  </tbody>\n",
       "</table>\n",
       "</div>"
      ],
      "text/plain": [
       "    C/A  UNIT       SCP STATION        DATE  ENTRIES   PREV_DATE  PREV_ENTRIES\n",
       "0  A002  R051  02-00-00   59 ST  09/05/2020  7454267         NaN           NaN\n",
       "1  A002  R051  02-00-00   59 ST  09/06/2020  7454567  09/05/2020     7454267.0\n",
       "2  A002  R051  02-00-00   59 ST  09/07/2020  7454925  09/06/2020     7454567.0\n",
       "3  A002  R051  02-00-00   59 ST  09/08/2020  7455427  09/07/2020     7454925.0\n",
       "4  A002  R051  02-00-00   59 ST  09/09/2020  7456007  09/08/2020     7455427.0"
      ]
     },
     "execution_count": 167,
     "metadata": {},
     "output_type": "execute_result"
    }
   ],
   "source": [
    "turnstiles_daily.head()"
   ]
  },
  {
   "cell_type": "code",
   "execution_count": 168,
   "metadata": {
    "colab": {},
    "colab_type": "code",
    "id": "IHaAmjhZG36s",
    "outputId": "04382b92-3353-47d3-d57b-6b5604b00698"
   },
   "outputs": [
    {
     "data": {
      "text/html": [
       "<div>\n",
       "<style scoped>\n",
       "    .dataframe tbody tr th:only-of-type {\n",
       "        vertical-align: middle;\n",
       "    }\n",
       "\n",
       "    .dataframe tbody tr th {\n",
       "        vertical-align: top;\n",
       "    }\n",
       "\n",
       "    .dataframe thead th {\n",
       "        text-align: right;\n",
       "    }\n",
       "</style>\n",
       "<table border=\"1\" class=\"dataframe\">\n",
       "  <thead>\n",
       "    <tr style=\"text-align: right;\">\n",
       "      <th></th>\n",
       "      <th>C/A</th>\n",
       "      <th>UNIT</th>\n",
       "      <th>SCP</th>\n",
       "      <th>STATION</th>\n",
       "      <th>DATE</th>\n",
       "      <th>ENTRIES</th>\n",
       "      <th>PREV_DATE</th>\n",
       "      <th>PREV_ENTRIES</th>\n",
       "    </tr>\n",
       "  </thead>\n",
       "  <tbody>\n",
       "    <tr>\n",
       "      <td>103823</td>\n",
       "      <td>TRAM2</td>\n",
       "      <td>R469</td>\n",
       "      <td>00-05-01</td>\n",
       "      <td>RIT-ROOSEVELT</td>\n",
       "      <td>09/21/2020</td>\n",
       "      <td>5554</td>\n",
       "      <td>09/20/2020</td>\n",
       "      <td>5554.0</td>\n",
       "    </tr>\n",
       "    <tr>\n",
       "      <td>103824</td>\n",
       "      <td>TRAM2</td>\n",
       "      <td>R469</td>\n",
       "      <td>00-05-01</td>\n",
       "      <td>RIT-ROOSEVELT</td>\n",
       "      <td>09/22/2020</td>\n",
       "      <td>5554</td>\n",
       "      <td>09/21/2020</td>\n",
       "      <td>5554.0</td>\n",
       "    </tr>\n",
       "    <tr>\n",
       "      <td>103825</td>\n",
       "      <td>TRAM2</td>\n",
       "      <td>R469</td>\n",
       "      <td>00-05-01</td>\n",
       "      <td>RIT-ROOSEVELT</td>\n",
       "      <td>09/23/2020</td>\n",
       "      <td>5554</td>\n",
       "      <td>09/22/2020</td>\n",
       "      <td>5554.0</td>\n",
       "    </tr>\n",
       "    <tr>\n",
       "      <td>103826</td>\n",
       "      <td>TRAM2</td>\n",
       "      <td>R469</td>\n",
       "      <td>00-05-01</td>\n",
       "      <td>RIT-ROOSEVELT</td>\n",
       "      <td>09/24/2020</td>\n",
       "      <td>5554</td>\n",
       "      <td>09/23/2020</td>\n",
       "      <td>5554.0</td>\n",
       "    </tr>\n",
       "    <tr>\n",
       "      <td>103827</td>\n",
       "      <td>TRAM2</td>\n",
       "      <td>R469</td>\n",
       "      <td>00-05-01</td>\n",
       "      <td>RIT-ROOSEVELT</td>\n",
       "      <td>09/25/2020</td>\n",
       "      <td>5554</td>\n",
       "      <td>09/24/2020</td>\n",
       "      <td>5554.0</td>\n",
       "    </tr>\n",
       "  </tbody>\n",
       "</table>\n",
       "</div>"
      ],
      "text/plain": [
       "          C/A  UNIT       SCP        STATION        DATE  ENTRIES   PREV_DATE  \\\n",
       "103823  TRAM2  R469  00-05-01  RIT-ROOSEVELT  09/21/2020     5554  09/20/2020   \n",
       "103824  TRAM2  R469  00-05-01  RIT-ROOSEVELT  09/22/2020     5554  09/21/2020   \n",
       "103825  TRAM2  R469  00-05-01  RIT-ROOSEVELT  09/23/2020     5554  09/22/2020   \n",
       "103826  TRAM2  R469  00-05-01  RIT-ROOSEVELT  09/24/2020     5554  09/23/2020   \n",
       "103827  TRAM2  R469  00-05-01  RIT-ROOSEVELT  09/25/2020     5554  09/24/2020   \n",
       "\n",
       "        PREV_ENTRIES  \n",
       "103823        5554.0  \n",
       "103824        5554.0  \n",
       "103825        5554.0  \n",
       "103826        5554.0  \n",
       "103827        5554.0  "
      ]
     },
     "execution_count": 168,
     "metadata": {},
     "output_type": "execute_result"
    }
   ],
   "source": [
    "turnstiles_daily.tail()"
   ]
  },
  {
   "cell_type": "code",
   "execution_count": 169,
   "metadata": {
    "colab": {},
    "colab_type": "code",
    "id": "jxS3lJ6nG36x"
   },
   "outputs": [],
   "source": [
    "# Drop the rows for the earliest date in the df\n",
    "turnstiles_daily.dropna(subset=[\"PREV_DATE\"], axis=0, inplace=True)"
   ]
  },
  {
   "cell_type": "markdown",
   "metadata": {
    "colab_type": "text",
    "id": "5IDEKSRgG361"
   },
   "source": [
    "### Next, let's look at some more weirdness in the data and think about handling it before we finalize our daily count column"
   ]
  },
  {
   "cell_type": "code",
   "execution_count": 170,
   "metadata": {
    "colab": {},
    "colab_type": "code",
    "id": "Lv-VA714G362",
    "outputId": "d66e798b-4275-4dec-e6d0-48f9d155e5ce"
   },
   "outputs": [
    {
     "data": {
      "text/html": [
       "<div>\n",
       "<style scoped>\n",
       "    .dataframe tbody tr th:only-of-type {\n",
       "        vertical-align: middle;\n",
       "    }\n",
       "\n",
       "    .dataframe tbody tr th {\n",
       "        vertical-align: top;\n",
       "    }\n",
       "\n",
       "    .dataframe thead th {\n",
       "        text-align: right;\n",
       "    }\n",
       "</style>\n",
       "<table border=\"1\" class=\"dataframe\">\n",
       "  <thead>\n",
       "    <tr style=\"text-align: right;\">\n",
       "      <th></th>\n",
       "      <th>C/A</th>\n",
       "      <th>UNIT</th>\n",
       "      <th>SCP</th>\n",
       "      <th>STATION</th>\n",
       "      <th>DATE</th>\n",
       "      <th>ENTRIES</th>\n",
       "      <th>PREV_DATE</th>\n",
       "      <th>PREV_ENTRIES</th>\n",
       "    </tr>\n",
       "  </thead>\n",
       "  <tbody>\n",
       "    <tr>\n",
       "      <td>813</td>\n",
       "      <td>A011</td>\n",
       "      <td>R080</td>\n",
       "      <td>01-03-00</td>\n",
       "      <td>57 ST-7 AV</td>\n",
       "      <td>09/06/2020</td>\n",
       "      <td>885653331</td>\n",
       "      <td>09/05/2020</td>\n",
       "      <td>885653391.0</td>\n",
       "    </tr>\n",
       "    <tr>\n",
       "      <td>814</td>\n",
       "      <td>A011</td>\n",
       "      <td>R080</td>\n",
       "      <td>01-03-00</td>\n",
       "      <td>57 ST-7 AV</td>\n",
       "      <td>09/07/2020</td>\n",
       "      <td>885653258</td>\n",
       "      <td>09/06/2020</td>\n",
       "      <td>885653331.0</td>\n",
       "    </tr>\n",
       "    <tr>\n",
       "      <td>815</td>\n",
       "      <td>A011</td>\n",
       "      <td>R080</td>\n",
       "      <td>01-03-00</td>\n",
       "      <td>57 ST-7 AV</td>\n",
       "      <td>09/08/2020</td>\n",
       "      <td>885653096</td>\n",
       "      <td>09/07/2020</td>\n",
       "      <td>885653258.0</td>\n",
       "    </tr>\n",
       "    <tr>\n",
       "      <td>816</td>\n",
       "      <td>A011</td>\n",
       "      <td>R080</td>\n",
       "      <td>01-03-00</td>\n",
       "      <td>57 ST-7 AV</td>\n",
       "      <td>09/09/2020</td>\n",
       "      <td>885652917</td>\n",
       "      <td>09/08/2020</td>\n",
       "      <td>885653096.0</td>\n",
       "    </tr>\n",
       "    <tr>\n",
       "      <td>817</td>\n",
       "      <td>A011</td>\n",
       "      <td>R080</td>\n",
       "      <td>01-03-00</td>\n",
       "      <td>57 ST-7 AV</td>\n",
       "      <td>09/10/2020</td>\n",
       "      <td>885652716</td>\n",
       "      <td>09/09/2020</td>\n",
       "      <td>885652917.0</td>\n",
       "    </tr>\n",
       "  </tbody>\n",
       "</table>\n",
       "</div>"
      ],
      "text/plain": [
       "      C/A  UNIT       SCP     STATION        DATE    ENTRIES   PREV_DATE  \\\n",
       "813  A011  R080  01-03-00  57 ST-7 AV  09/06/2020  885653331  09/05/2020   \n",
       "814  A011  R080  01-03-00  57 ST-7 AV  09/07/2020  885653258  09/06/2020   \n",
       "815  A011  R080  01-03-00  57 ST-7 AV  09/08/2020  885653096  09/07/2020   \n",
       "816  A011  R080  01-03-00  57 ST-7 AV  09/09/2020  885652917  09/08/2020   \n",
       "817  A011  R080  01-03-00  57 ST-7 AV  09/10/2020  885652716  09/09/2020   \n",
       "\n",
       "     PREV_ENTRIES  \n",
       "813   885653391.0  \n",
       "814   885653331.0  \n",
       "815   885653258.0  \n",
       "816   885653096.0  \n",
       "817   885652917.0  "
      ]
     },
     "execution_count": 170,
     "metadata": {},
     "output_type": "execute_result"
    }
   ],
   "source": [
    "turnstiles_daily[turnstiles_daily[\"ENTRIES\"] < turnstiles_daily[\"PREV_ENTRIES\"]].head()"
   ]
  },
  {
   "cell_type": "code",
   "execution_count": 197,
   "metadata": {
    "colab": {},
    "colab_type": "code",
    "id": "6BH1MsiAG368",
    "outputId": "1c2f4341-9ab1-4359-e483-897fa7019240"
   },
   "outputs": [
    {
     "data": {
      "text/html": [
       "<div>\n",
       "<style scoped>\n",
       "    .dataframe tbody tr th:only-of-type {\n",
       "        vertical-align: middle;\n",
       "    }\n",
       "\n",
       "    .dataframe tbody tr th {\n",
       "        vertical-align: top;\n",
       "    }\n",
       "\n",
       "    .dataframe thead th {\n",
       "        text-align: right;\n",
       "    }\n",
       "</style>\n",
       "<table border=\"1\" class=\"dataframe\">\n",
       "  <thead>\n",
       "    <tr style=\"text-align: right;\">\n",
       "      <th></th>\n",
       "      <th>C/A</th>\n",
       "      <th>UNIT</th>\n",
       "      <th>SCP</th>\n",
       "      <th>STATION</th>\n",
       "      <th>LINENAME</th>\n",
       "      <th>DIVISION</th>\n",
       "      <th>DATE</th>\n",
       "      <th>TIME</th>\n",
       "      <th>ENTRIES</th>\n",
       "      <th>DATE_TIME</th>\n",
       "    </tr>\n",
       "  </thead>\n",
       "  <tbody>\n",
       "    <tr>\n",
       "      <td>1607</td>\n",
       "      <td>A011</td>\n",
       "      <td>R080</td>\n",
       "      <td>01-03-00</td>\n",
       "      <td>57 ST-7 AV</td>\n",
       "      <td>NQRW</td>\n",
       "      <td>BMT</td>\n",
       "      <td>09/06/2020</td>\n",
       "      <td>20:00:00</td>\n",
       "      <td>885653331</td>\n",
       "      <td>2020-09-06 20:00:00</td>\n",
       "    </tr>\n",
       "    <tr>\n",
       "      <td>1606</td>\n",
       "      <td>A011</td>\n",
       "      <td>R080</td>\n",
       "      <td>01-03-00</td>\n",
       "      <td>57 ST-7 AV</td>\n",
       "      <td>NQRW</td>\n",
       "      <td>BMT</td>\n",
       "      <td>09/06/2020</td>\n",
       "      <td>16:00:00</td>\n",
       "      <td>885653343</td>\n",
       "      <td>2020-09-06 16:00:00</td>\n",
       "    </tr>\n",
       "    <tr>\n",
       "      <td>1605</td>\n",
       "      <td>A011</td>\n",
       "      <td>R080</td>\n",
       "      <td>01-03-00</td>\n",
       "      <td>57 ST-7 AV</td>\n",
       "      <td>NQRW</td>\n",
       "      <td>BMT</td>\n",
       "      <td>09/06/2020</td>\n",
       "      <td>12:00:00</td>\n",
       "      <td>885653355</td>\n",
       "      <td>2020-09-06 12:00:00</td>\n",
       "    </tr>\n",
       "    <tr>\n",
       "      <td>1604</td>\n",
       "      <td>A011</td>\n",
       "      <td>R080</td>\n",
       "      <td>01-03-00</td>\n",
       "      <td>57 ST-7 AV</td>\n",
       "      <td>NQRW</td>\n",
       "      <td>BMT</td>\n",
       "      <td>09/06/2020</td>\n",
       "      <td>08:00:00</td>\n",
       "      <td>885653362</td>\n",
       "      <td>2020-09-06 08:00:00</td>\n",
       "    </tr>\n",
       "    <tr>\n",
       "      <td>1603</td>\n",
       "      <td>A011</td>\n",
       "      <td>R080</td>\n",
       "      <td>01-03-00</td>\n",
       "      <td>57 ST-7 AV</td>\n",
       "      <td>NQRW</td>\n",
       "      <td>BMT</td>\n",
       "      <td>09/06/2020</td>\n",
       "      <td>04:00:00</td>\n",
       "      <td>885653364</td>\n",
       "      <td>2020-09-06 04:00:00</td>\n",
       "    </tr>\n",
       "  </tbody>\n",
       "</table>\n",
       "</div>"
      ],
      "text/plain": [
       "       C/A  UNIT       SCP     STATION LINENAME DIVISION        DATE  \\\n",
       "1607  A011  R080  01-03-00  57 ST-7 AV     NQRW      BMT  09/06/2020   \n",
       "1606  A011  R080  01-03-00  57 ST-7 AV     NQRW      BMT  09/06/2020   \n",
       "1605  A011  R080  01-03-00  57 ST-7 AV     NQRW      BMT  09/06/2020   \n",
       "1604  A011  R080  01-03-00  57 ST-7 AV     NQRW      BMT  09/06/2020   \n",
       "1603  A011  R080  01-03-00  57 ST-7 AV     NQRW      BMT  09/06/2020   \n",
       "\n",
       "          TIME    ENTRIES           DATE_TIME  \n",
       "1607  20:00:00  885653331 2020-09-06 20:00:00  \n",
       "1606  16:00:00  885653343 2020-09-06 16:00:00  \n",
       "1605  12:00:00  885653355 2020-09-06 12:00:00  \n",
       "1604  08:00:00  885653362 2020-09-06 08:00:00  \n",
       "1603  04:00:00  885653364 2020-09-06 04:00:00  "
      ]
     },
     "execution_count": 197,
     "metadata": {},
     "output_type": "execute_result"
    }
   ],
   "source": [
    "# What's the deal with counter being in reverse\n",
    "mask = ((turnstiles_df[\"C/A\"] == \"A011\") & \n",
    "(turnstiles_df[\"UNIT\"] == \"R080\") & \n",
    "(turnstiles_df[\"SCP\"] == \"01-03-00\") & \n",
    "(turnstiles_df[\"STATION\"] == \"57 ST-7 AV\") &\n",
    "(turnstiles_df[\"DATE_TIME\"].dt.date == datetime.datetime(2020, 9, 6).date()))\n",
    "turnstiles_df[mask].head()"
   ]
  },
  {
   "cell_type": "markdown",
   "metadata": {
    "colab_type": "text",
    "id": "lOurOv3PG36_"
   },
   "source": [
    "* Counter working in Reverse??? - WHHHAT"
   ]
  },
  {
   "cell_type": "code",
   "execution_count": 172,
   "metadata": {
    "colab": {},
    "colab_type": "code",
    "id": "GF12jlKRG37A",
    "outputId": "bd1c57b6-9fe5-4592-c871-58a6efd32840"
   },
   "outputs": [
    {
     "data": {
      "text/plain": [
       "C/A   UNIT  SCP       STATION        \n",
       "A011  R080  01-03-00  57 ST-7 AV         20\n",
       "A042  R086  01-00-04  PRINCE ST           1\n",
       "A049  R088  02-05-00  CORTLANDT ST        8\n",
       "A066  R118  00-00-00  CANAL ST           20\n",
       "B021  R228  00-05-00  AVENUE J            1\n",
       "                                         ..\n",
       "R602  R108  00-00-00  BOROUGH HALL        1\n",
       "R622  R123  00-00-00  FRANKLIN AV        19\n",
       "R627  R063  00-03-02  SUTTER AV-RUTLD     1\n",
       "R647  R110  02-05-00  FLATBUSH AV-B.C     1\n",
       "R730  R431  00-00-04  EASTCHSTER/DYRE    20\n",
       "Length: 100, dtype: int64"
      ]
     },
     "execution_count": 172,
     "metadata": {},
     "output_type": "execute_result"
    }
   ],
   "source": [
    "# Let's see how many stations have this problem\n",
    "\n",
    "(turnstiles_daily[turnstiles_daily[\"ENTRIES\"] < turnstiles_daily[\"PREV_ENTRIES\"]]\n",
    "    .groupby([\"C/A\", \"UNIT\", \"SCP\", \"STATION\"])\n",
    "    .size())"
   ]
  },
  {
   "cell_type": "code",
   "execution_count": null,
   "metadata": {
    "colab": {},
    "colab_type": "code",
    "id": "u0jdi6plG37K",
    "outputId": "ef78b1a9-21b5-4b25-eaf2-7f2fb26a5e8a",
    "scrolled": false
   },
   "outputs": [],
   "source": [
    "# def get_daily_counts(row, max_counter):\n",
    "#     counter = row[\"ENTRIES\"] - row[\"PREV_ENTRIES\"]\n",
    "#     if counter < 0:\n",
    "#         counter = -counter\n",
    "#     if counter > max_counter:\n",
    "#         print(row[\"ENTRIES\"], row[\"PREV_ENTRIES\"])\n",
    "#         return 0\n",
    "#     return counter\n",
    "\n",
    "# # If counter is > 1Million, then the counter might have been reset.  \n",
    "# # Just set it to zero as different counters have different cycle limits\n",
    "# _ = turnstiles_daily.apply(get_daily_counts, axis=1, max_counter=500000)"
   ]
  },
  {
   "cell_type": "code",
   "execution_count": null,
   "metadata": {
    "colab": {},
    "colab_type": "code",
    "id": "hXcZXN01G37N",
    "outputId": "77e890e0-1fc7-4e04-b66b-1d88f0818da9"
   },
   "outputs": [],
   "source": [
    "def get_daily_counts(row, max_counter):\n",
    "    counter = row[\"ENTRIES\"] - row[\"PREV_ENTRIES\"]\n",
    "    if counter < 0:\n",
    "        # Maybe counter is reversed?\n",
    "        counter = -counter\n",
    "    if counter > max_counter:\n",
    "        # Maybe counter was reset to 0? \n",
    "        print(row[\"ENTRIES\"], row[\"PREV_ENTRIES\"])\n",
    "        counter = min(row[\"ENTRIES\"], row[\"PREV_ENTRIES\"])\n",
    "    if counter > max_counter:\n",
    "        # Check it again to make sure we're not still giving a counter that's too big\n",
    "        return 0\n",
    "    return counter\n",
    "\n",
    "# If counter is > 1Million, then the counter might have been reset.  \n",
    "# Just set it to zero as different counters have different cycle limits\n",
    "# It'd probably be a good idea to use a number even significantly smaller than 1 million as the limit!\n",
    "turnstiles_daily[\"DAILY_ENTRIES\"] = turnstiles_daily.apply(get_daily_counts, axis=1, max_counter=500000)"
   ]
  },
  {
   "cell_type": "code",
   "execution_count": 175,
   "metadata": {
    "colab": {},
    "colab_type": "code",
    "id": "nnL7k1dgG37Q",
    "outputId": "75df1787-bc82-48bd-befd-fd3c90836f1b"
   },
   "outputs": [
    {
     "data": {
      "text/html": [
       "<div>\n",
       "<style scoped>\n",
       "    .dataframe tbody tr th:only-of-type {\n",
       "        vertical-align: middle;\n",
       "    }\n",
       "\n",
       "    .dataframe tbody tr th {\n",
       "        vertical-align: top;\n",
       "    }\n",
       "\n",
       "    .dataframe thead th {\n",
       "        text-align: right;\n",
       "    }\n",
       "</style>\n",
       "<table border=\"1\" class=\"dataframe\">\n",
       "  <thead>\n",
       "    <tr style=\"text-align: right;\">\n",
       "      <th></th>\n",
       "      <th>C/A</th>\n",
       "      <th>UNIT</th>\n",
       "      <th>SCP</th>\n",
       "      <th>STATION</th>\n",
       "      <th>DATE</th>\n",
       "      <th>ENTRIES</th>\n",
       "      <th>PREV_DATE</th>\n",
       "      <th>PREV_ENTRIES</th>\n",
       "      <th>DAILY_ENTRIES</th>\n",
       "    </tr>\n",
       "  </thead>\n",
       "  <tbody>\n",
       "    <tr>\n",
       "      <td>1</td>\n",
       "      <td>A002</td>\n",
       "      <td>R051</td>\n",
       "      <td>02-00-00</td>\n",
       "      <td>59 ST</td>\n",
       "      <td>09/06/2020</td>\n",
       "      <td>7454567</td>\n",
       "      <td>09/05/2020</td>\n",
       "      <td>7454267.0</td>\n",
       "      <td>300.0</td>\n",
       "    </tr>\n",
       "    <tr>\n",
       "      <td>2</td>\n",
       "      <td>A002</td>\n",
       "      <td>R051</td>\n",
       "      <td>02-00-00</td>\n",
       "      <td>59 ST</td>\n",
       "      <td>09/07/2020</td>\n",
       "      <td>7454925</td>\n",
       "      <td>09/06/2020</td>\n",
       "      <td>7454567.0</td>\n",
       "      <td>358.0</td>\n",
       "    </tr>\n",
       "    <tr>\n",
       "      <td>3</td>\n",
       "      <td>A002</td>\n",
       "      <td>R051</td>\n",
       "      <td>02-00-00</td>\n",
       "      <td>59 ST</td>\n",
       "      <td>09/08/2020</td>\n",
       "      <td>7455427</td>\n",
       "      <td>09/07/2020</td>\n",
       "      <td>7454925.0</td>\n",
       "      <td>502.0</td>\n",
       "    </tr>\n",
       "    <tr>\n",
       "      <td>4</td>\n",
       "      <td>A002</td>\n",
       "      <td>R051</td>\n",
       "      <td>02-00-00</td>\n",
       "      <td>59 ST</td>\n",
       "      <td>09/09/2020</td>\n",
       "      <td>7456007</td>\n",
       "      <td>09/08/2020</td>\n",
       "      <td>7455427.0</td>\n",
       "      <td>580.0</td>\n",
       "    </tr>\n",
       "    <tr>\n",
       "      <td>5</td>\n",
       "      <td>A002</td>\n",
       "      <td>R051</td>\n",
       "      <td>02-00-00</td>\n",
       "      <td>59 ST</td>\n",
       "      <td>09/10/2020</td>\n",
       "      <td>7456494</td>\n",
       "      <td>09/09/2020</td>\n",
       "      <td>7456007.0</td>\n",
       "      <td>487.0</td>\n",
       "    </tr>\n",
       "  </tbody>\n",
       "</table>\n",
       "</div>"
      ],
      "text/plain": [
       "    C/A  UNIT       SCP STATION        DATE  ENTRIES   PREV_DATE  \\\n",
       "1  A002  R051  02-00-00   59 ST  09/06/2020  7454567  09/05/2020   \n",
       "2  A002  R051  02-00-00   59 ST  09/07/2020  7454925  09/06/2020   \n",
       "3  A002  R051  02-00-00   59 ST  09/08/2020  7455427  09/07/2020   \n",
       "4  A002  R051  02-00-00   59 ST  09/09/2020  7456007  09/08/2020   \n",
       "5  A002  R051  02-00-00   59 ST  09/10/2020  7456494  09/09/2020   \n",
       "\n",
       "   PREV_ENTRIES  DAILY_ENTRIES  \n",
       "1     7454267.0          300.0  \n",
       "2     7454567.0          358.0  \n",
       "3     7454925.0          502.0  \n",
       "4     7455427.0          580.0  \n",
       "5     7456007.0          487.0  "
      ]
     },
     "execution_count": 175,
     "metadata": {},
     "output_type": "execute_result"
    }
   ],
   "source": [
    "turnstiles_daily.head()"
   ]
  },
  {
   "cell_type": "code",
   "execution_count": 176,
   "metadata": {
    "colab": {},
    "colab_type": "code",
    "id": "9kGwCydgG37V"
   },
   "outputs": [],
   "source": [
    "# Verify that we got same results via the non-pandas version."
   ]
  },
  {
   "cell_type": "markdown",
   "metadata": {
    "colab_type": "text",
    "id": "9n0AiDalG37b"
   },
   "source": [
    "## Bonus: EDA Visualizations & Viz Review"
   ]
  },
  {
   "cell_type": "markdown",
   "metadata": {
    "colab_type": "text",
    "id": "asLbUnoxG37c"
   },
   "source": [
    "So we've gotten the data into a cleaner state, but are all the issues really resolved? It's a good idea to do some sanity checking at the turnstile level, but also at the **station level**. Here we'll see a couple of good/standard EDA approaches applied to this data, that leverage plots to better understand what we're working with.\n",
    "\n",
    "Do we get results we'd expect based on our domain knowledge of NYC, and can we detect anything else that's clearly an anomaly?\n",
    "\n",
    "First, let's look at the distribution of daily entries for turnstiles to check that it's sensible. What type of plot can we use? "
   ]
  },
  {
   "cell_type": "code",
   "execution_count": 177,
   "metadata": {
    "colab": {},
    "colab_type": "code",
    "id": "m8tty0_pG37d"
   },
   "outputs": [],
   "source": [
    "## EX: Fill in the standard plotting imports (matplotlib and seaborn)\n",
    "\n",
    "\n",
    "\n"
   ]
  },
  {
   "cell_type": "code",
   "execution_count": 178,
   "metadata": {
    "colab": {},
    "colab_type": "code",
    "id": "9XpSHgY_G37j"
   },
   "outputs": [],
   "source": [
    "## EX: Generate a plot that visualizes the distribution \n",
    "## of daily turnstile entries. \n",
    "\n",
    "## How would you characterize this distribution?\n",
    "\n",
    "\n"
   ]
  },
  {
   "cell_type": "code",
   "execution_count": 179,
   "metadata": {
    "colab": {},
    "colab_type": "code",
    "id": "LjW5K6BaG37m"
   },
   "outputs": [],
   "source": [
    "## EX: Generate a plot that compares the distributions of daily traffic \n",
    "## by station, for the top 10 stations by volume. What insights can we\n",
    "## gain from this plot?\n",
    "\n",
    "## Hint: break this down into steps: we need to go from daily entries \n",
    "## for turnstiles to stations, find the top 10 stations, and filter\n",
    "## the station-level data down to the top 10.\n",
    "\n",
    "\n",
    "\n"
   ]
  },
  {
   "cell_type": "markdown",
   "metadata": {
    "colab_type": "text",
    "id": "EpmMAm1aG37v"
   },
   "source": [
    "## Bonus Solutions"
   ]
  },
  {
   "cell_type": "code",
   "execution_count": 180,
   "metadata": {
    "colab": {},
    "colab_type": "code",
    "id": "uWI8ds1fG37w"
   },
   "outputs": [],
   "source": [
    "import matplotlib.pyplot as plt\n",
    "import seaborn as sns\n",
    "sns.set()\n",
    "\n",
    "%matplotlib inline"
   ]
  },
  {
   "cell_type": "markdown",
   "metadata": {
    "colab_type": "text",
    "id": "RBPAy16-G370"
   },
   "source": [
    "### Distribution of turnstile daily entries"
   ]
  },
  {
   "cell_type": "code",
   "execution_count": 181,
   "metadata": {
    "colab": {},
    "colab_type": "code",
    "id": "FtGOrYzCG377",
    "outputId": "c0dd508a-836b-4851-9dff-35df827818b7"
   },
   "outputs": [
    {
     "data": {
      "text/plain": [
       "<matplotlib.axes._subplots.AxesSubplot at 0x7f877290cdd0>"
      ]
     },
     "execution_count": 181,
     "metadata": {},
     "output_type": "execute_result"
    },
    {
     "data": {
      "image/png": "[encoded data removed]",
      "text/plain": [
       "<Figure size 432x288 with 1 Axes>"
      ]
     },
     "metadata": {
      "needs_background": "light"
     },
     "output_type": "display_data"
    }
   ],
   "source": [
    "sns.distplot(turnstiles_daily['DAILY_ENTRIES']\n",
    "             [turnstiles_daily['DAILY_ENTRIES'] < 50000])"
   ]
  },
  {
   "cell_type": "markdown",
   "metadata": {
    "colab_type": "text",
    "id": "ldoJ9ULGG38C"
   },
   "source": [
    "This is a right-skewed distribution (the mean is to the right of the median). It's good that there are no values less than 0 now, but it seems there are still entry values that are likely too extreme to be sensible. "
   ]
  },
  {
   "cell_type": "markdown",
   "metadata": {
    "colab_type": "text",
    "id": "QF6zWwFqG38D"
   },
   "source": [
    "### Distribution of daily entries by station, for top 10 stations by volume"
   ]
  },
  {
   "cell_type": "code",
   "execution_count": 182,
   "metadata": {
    "colab": {},
    "colab_type": "code",
    "id": "879m35Y5G38F",
    "outputId": "b26c65ca-1881-4c78-d4e5-62e402241b89"
   },
   "outputs": [
    {
     "data": {
      "text/html": [
       "<div>\n",
       "<style scoped>\n",
       "    .dataframe tbody tr th:only-of-type {\n",
       "        vertical-align: middle;\n",
       "    }\n",
       "\n",
       "    .dataframe tbody tr th {\n",
       "        vertical-align: top;\n",
       "    }\n",
       "\n",
       "    .dataframe thead th {\n",
       "        text-align: right;\n",
       "    }\n",
       "</style>\n",
       "<table border=\"1\" class=\"dataframe\">\n",
       "  <thead>\n",
       "    <tr style=\"text-align: right;\">\n",
       "      <th></th>\n",
       "      <th>STATION</th>\n",
       "      <th>DATE</th>\n",
       "      <th>DAILY_ENTRIES</th>\n",
       "    </tr>\n",
       "  </thead>\n",
       "  <tbody>\n",
       "    <tr>\n",
       "      <td>0</td>\n",
       "      <td>1 AV</td>\n",
       "      <td>09/06/2020</td>\n",
       "      <td>3612.0</td>\n",
       "    </tr>\n",
       "    <tr>\n",
       "      <td>1</td>\n",
       "      <td>1 AV</td>\n",
       "      <td>09/07/2020</td>\n",
       "      <td>3485.0</td>\n",
       "    </tr>\n",
       "    <tr>\n",
       "      <td>2</td>\n",
       "      <td>1 AV</td>\n",
       "      <td>09/08/2020</td>\n",
       "      <td>5657.0</td>\n",
       "    </tr>\n",
       "    <tr>\n",
       "      <td>3</td>\n",
       "      <td>1 AV</td>\n",
       "      <td>09/09/2020</td>\n",
       "      <td>6073.0</td>\n",
       "    </tr>\n",
       "    <tr>\n",
       "      <td>4</td>\n",
       "      <td>1 AV</td>\n",
       "      <td>09/10/2020</td>\n",
       "      <td>6049.0</td>\n",
       "    </tr>\n",
       "  </tbody>\n",
       "</table>\n",
       "</div>"
      ],
      "text/plain": [
       "  STATION        DATE  DAILY_ENTRIES\n",
       "0    1 AV  09/06/2020         3612.0\n",
       "1    1 AV  09/07/2020         3485.0\n",
       "2    1 AV  09/08/2020         5657.0\n",
       "3    1 AV  09/09/2020         6073.0\n",
       "4    1 AV  09/10/2020         6049.0"
      ]
     },
     "execution_count": 182,
     "metadata": {},
     "output_type": "execute_result"
    }
   ],
   "source": [
    "# first get daily entries by station\n",
    "stations_daily = \\\n",
    "(turnstiles_daily.groupby(['STATION','DATE'])['DAILY_ENTRIES'].sum()\n",
    "                 .reset_index())\n",
    "\n",
    "stations_daily.head()"
   ]
  },
  {
   "cell_type": "code",
   "execution_count": 183,
   "metadata": {
    "colab": {},
    "colab_type": "code",
    "id": "MX_cJKTPG38M",
    "outputId": "44852cee-c97d-4499-b611-405114843811"
   },
   "outputs": [],
   "source": [
    "# then get top 10 stations by daily volume \n",
    "# (sum across all days is a reasonable way to define this)\n",
    "top10_stations = \\\n",
    "    (stations_daily.groupby(['STATION'])['DAILY_ENTRIES'].sum()\n",
    "                   .reset_index()\n",
    "                   .sort_values(by='DAILY_ENTRIES',ascending=False) \n",
    "                   .STATION.head(10))"
   ]
  },
  {
   "cell_type": "code",
   "execution_count": 184,
   "metadata": {},
   "outputs": [
    {
     "data": {
      "text/plain": [
       "MultiIndex([(     '1 AV', 0),\n",
       "            (     '1 AV', 1),\n",
       "            (     '1 AV', 2),\n",
       "            (     '1 AV', 3),\n",
       "            (     '1 AV', 4),\n",
       "            (     '1 AV', 5),\n",
       "            (     '1 AV', 6),\n",
       "            (   '103 ST', 0),\n",
       "            (   '103 ST', 1),\n",
       "            (   '103 ST', 2),\n",
       "            ...\n",
       "            (  'YORK ST', 4),\n",
       "            (  'YORK ST', 5),\n",
       "            (  'YORK ST', 6),\n",
       "            ('ZEREGA AV', 0),\n",
       "            ('ZEREGA AV', 1),\n",
       "            ('ZEREGA AV', 2),\n",
       "            ('ZEREGA AV', 3),\n",
       "            ('ZEREGA AV', 4),\n",
       "            ('ZEREGA AV', 5),\n",
       "            ('ZEREGA AV', 6)],\n",
       "           names=['STATION', 'DOW_INDEX'], length=2653)"
      ]
     },
     "execution_count": 184,
     "metadata": {},
     "output_type": "execute_result"
    }
   ],
   "source": [
    "#stations_daily[\"DAY_OF_WEEK\"] = stations_daily[\"DATE\"].apply(lambda x: pd.to_datetime(x).strftime(\"%A\"))\n",
    "stations_daily[\"DOW_INDEX\"] = stations_daily[\"DATE\"].apply(lambda x: pd.to_datetime(x).weekday())\n",
    "stations_by_day = \\\n",
    "    (stations_daily.groupby([\"STATION\", \"DOW_INDEX\"])).mean()\n",
    "#stations_by_day.groupby([\"STATION\", \"DOW_INDEX\"]).mean()\n",
    "# hue is station?\n",
    "stations_by_day.index\n"
   ]
  },
  {
   "cell_type": "code",
   "execution_count": 185,
   "metadata": {},
   "outputs": [
    {
     "data": {
      "image/png": "[encoded data removed]",
      "text/plain": [
       "<Figure size 432x288 with 1 Axes>"
      ]
     },
     "metadata": {
      "needs_background": "light"
     },
     "output_type": "display_data"
    }
   ],
   "source": [
    "# testing sorting within groupby\n",
    "stations_daily[\"DOW_INDEX\"] = stations_daily[\"DATE\"].apply(lambda x: pd.to_datetime(x).weekday())\n",
    "stations_by_day = \\\n",
    "    (stations_daily.groupby([\"STATION\", \"DOW_INDEX\"])).mean()\\\n",
    "                    # how would i sort by another column after the fact?\n",
    "\n",
    "top10_by_day = stations_by_day.loc[list(top10_stations)].reset_index()\n",
    "\n",
    "the_plt = sns.lineplot(data=top10_by_day, x=\"DOW_INDEX\", y=\"DAILY_ENTRIES\", hue=\"STATION\");\n",
    "\n",
    "plt.xlabel(\"Day of Week\")\n",
    "plt.ylabel(\"Daily Entries\")\n",
    "the_plt.set_xticks(range(7))\n",
    "the_plt.set_xticklabels([\"Mon\", \"Tue\", \"Wed\", \"Thurs\", \"Fri\", \"Sat\", \"Sun\"]);\n",
    "sns.set(rc={'figure.figsize':(20,15)})"
   ]
  },
  {
   "cell_type": "code",
   "execution_count": 186,
   "metadata": {},
   "outputs": [],
   "source": [
    "from itertools import permutations\n",
    "\n",
    "top10_list = sorted(top10_stations.values)\n",
    "top10_perms_5 = list(permutations(top10_list, 5))\n",
    "\n",
    "# create dataframe where index is the 5-tuple of stations and column is sum of those 5 stations for M, T, ..., F\n",
    "\n",
    "# index of tuple, elem in tuple\n",
    "def find_sum(perm):\n",
    "    return sum(stations_by_day.loc[perm[day], day][0] for day in [0, 1, 2, 3, 4])\n",
    "\n",
    "entries_per_perm = list(map(find_sum, top10_perms_5))"
   ]
  },
  {
   "cell_type": "code",
   "execution_count": 187,
   "metadata": {},
   "outputs": [],
   "source": [
    "perm_entries = pd.DataFrame(data=entries_per_perm, index=top10_perms_5, columns=[\"ENTRIES\"]).sort_values(by=\"ENTRIES\", ascending=False)"
   ]
  },
  {
   "cell_type": "code",
   "execution_count": 188,
   "metadata": {},
   "outputs": [
    {
     "data": {
      "text/html": [
       "<div>\n",
       "<style scoped>\n",
       "    .dataframe tbody tr th:only-of-type {\n",
       "        vertical-align: middle;\n",
       "    }\n",
       "\n",
       "    .dataframe tbody tr th {\n",
       "        vertical-align: top;\n",
       "    }\n",
       "\n",
       "    .dataframe thead th {\n",
       "        text-align: right;\n",
       "    }\n",
       "</style>\n",
       "<table border=\"1\" class=\"dataframe\">\n",
       "  <thead>\n",
       "    <tr style=\"text-align: right;\">\n",
       "      <th></th>\n",
       "      <th>ENTRIES</th>\n",
       "    </tr>\n",
       "  </thead>\n",
       "  <tbody>\n",
       "    <tr>\n",
       "      <td>(50 ST, 34 ST-HERALD SQ, EUCLID AV, 86 ST, 34 ST-PENN STA)</td>\n",
       "      <td>340027.666667</td>\n",
       "    </tr>\n",
       "    <tr>\n",
       "      <td>(50 ST, EUCLID AV, 34 ST-HERALD SQ, 86 ST, 34 ST-PENN STA)</td>\n",
       "      <td>339365.666667</td>\n",
       "    </tr>\n",
       "    <tr>\n",
       "      <td>(50 ST, EUCLID AV, 86 ST, 34 ST-HERALD SQ, 34 ST-PENN STA)</td>\n",
       "      <td>338647.333333</td>\n",
       "    </tr>\n",
       "    <tr>\n",
       "      <td>(50 ST, 86 ST, EUCLID AV, 34 ST-HERALD SQ, 34 ST-PENN STA)</td>\n",
       "      <td>338535.000000</td>\n",
       "    </tr>\n",
       "    <tr>\n",
       "      <td>(50 ST, 34 ST-HERALD SQ, EUCLID AV, 125 ST, 34 ST-PENN STA)</td>\n",
       "      <td>338381.000000</td>\n",
       "    </tr>\n",
       "    <tr>\n",
       "      <td>(50 ST, 34 ST-HERALD SQ, EUCLID AV, GRD CNTRL-42 ST, 34 ST-PENN STA)</td>\n",
       "      <td>338261.333333</td>\n",
       "    </tr>\n",
       "    <tr>\n",
       "      <td>(50 ST, EUCLID AV, 34 ST-HERALD SQ, 125 ST, 34 ST-PENN STA)</td>\n",
       "      <td>337719.000000</td>\n",
       "    </tr>\n",
       "    <tr>\n",
       "      <td>(50 ST, EUCLID AV, 34 ST-HERALD SQ, GRD CNTRL-42 ST, 34 ST-PENN STA)</td>\n",
       "      <td>337599.333333</td>\n",
       "    </tr>\n",
       "    <tr>\n",
       "      <td>(50 ST, EUCLID AV, 125 ST, 34 ST-HERALD SQ, 34 ST-PENN STA)</td>\n",
       "      <td>337498.000000</td>\n",
       "    </tr>\n",
       "    <tr>\n",
       "      <td>(50 ST, 125 ST, EUCLID AV, 34 ST-HERALD SQ, 34 ST-PENN STA)</td>\n",
       "      <td>337258.666667</td>\n",
       "    </tr>\n",
       "    <tr>\n",
       "      <td>(50 ST, EUCLID AV, GRD CNTRL-42 ST, 34 ST-HERALD SQ, 34 ST-PENN STA)</td>\n",
       "      <td>337169.666667</td>\n",
       "    </tr>\n",
       "    <tr>\n",
       "      <td>(50 ST, GRD CNTRL-42 ST, EUCLID AV, 34 ST-HERALD SQ, 34 ST-PENN STA)</td>\n",
       "      <td>337109.000000</td>\n",
       "    </tr>\n",
       "    <tr>\n",
       "      <td>(50 ST, EUCLID AV, 125 ST, 86 ST, 34 ST-PENN STA)</td>\n",
       "      <td>336746.666667</td>\n",
       "    </tr>\n",
       "    <tr>\n",
       "      <td>(50 ST, 34 ST-HERALD SQ, EUCLID AV, 42 ST-PORT AUTH, 34 ST-PENN STA)</td>\n",
       "      <td>336639.333333</td>\n",
       "    </tr>\n",
       "    <tr>\n",
       "      <td>(50 ST, 125 ST, EUCLID AV, 86 ST, 34 ST-PENN STA)</td>\n",
       "      <td>336507.333333</td>\n",
       "    </tr>\n",
       "  </tbody>\n",
       "</table>\n",
       "</div>"
      ],
      "text/plain": [
       "                                                          ENTRIES\n",
       "(50 ST, 34 ST-HERALD SQ, EUCLID AV, 86 ST, 34 S...  340027.666667\n",
       "(50 ST, EUCLID AV, 34 ST-HERALD SQ, 86 ST, 34 S...  339365.666667\n",
       "(50 ST, EUCLID AV, 86 ST, 34 ST-HERALD SQ, 34 S...  338647.333333\n",
       "(50 ST, 86 ST, EUCLID AV, 34 ST-HERALD SQ, 34 S...  338535.000000\n",
       "(50 ST, 34 ST-HERALD SQ, EUCLID AV, 125 ST, 34 ...  338381.000000\n",
       "(50 ST, 34 ST-HERALD SQ, EUCLID AV, GRD CNTRL-4...  338261.333333\n",
       "(50 ST, EUCLID AV, 34 ST-HERALD SQ, 125 ST, 34 ...  337719.000000\n",
       "(50 ST, EUCLID AV, 34 ST-HERALD SQ, GRD CNTRL-4...  337599.333333\n",
       "(50 ST, EUCLID AV, 125 ST, 34 ST-HERALD SQ, 34 ...  337498.000000\n",
       "(50 ST, 125 ST, EUCLID AV, 34 ST-HERALD SQ, 34 ...  337258.666667\n",
       "(50 ST, EUCLID AV, GRD CNTRL-42 ST, 34 ST-HERAL...  337169.666667\n",
       "(50 ST, GRD CNTRL-42 ST, EUCLID AV, 34 ST-HERAL...  337109.000000\n",
       "(50 ST, EUCLID AV, 125 ST, 86 ST, 34 ST-PENN STA)   336746.666667\n",
       "(50 ST, 34 ST-HERALD SQ, EUCLID AV, 42 ST-PORT ...  336639.333333\n",
       "(50 ST, 125 ST, EUCLID AV, 86 ST, 34 ST-PENN STA)   336507.333333"
      ]
     },
     "execution_count": 188,
     "metadata": {},
     "output_type": "execute_result"
    }
   ],
   "source": [
    "perm_entries.head(15)"
   ]
  },
  {
   "cell_type": "code",
   "execution_count": 189,
   "metadata": {},
   "outputs": [
    {
     "data": {
      "text/plain": [
       "['125 ST',\n",
       " '14 ST-UNION SQ',\n",
       " '34 ST-HERALD SQ',\n",
       " '34 ST-PENN STA',\n",
       " '42 ST-PORT AUTH',\n",
       " '50 ST',\n",
       " '86 ST',\n",
       " 'EUCLID AV',\n",
       " 'GRD CNTRL-42 ST',\n",
       " 'PATH NEW WTC']"
      ]
     },
     "execution_count": 189,
     "metadata": {},
     "output_type": "execute_result"
    }
   ],
   "source": [
    "top10_list"
   ]
  },
  {
   "cell_type": "code",
   "execution_count": 190,
   "metadata": {},
   "outputs": [
    {
     "data": {
      "text/plain": [
       "0            1 AV\n",
       "1            1 AV\n",
       "2            1 AV\n",
       "3            1 AV\n",
       "4            1 AV\n",
       "          ...    \n",
       "7574    ZEREGA AV\n",
       "7575    ZEREGA AV\n",
       "7576    ZEREGA AV\n",
       "7577    ZEREGA AV\n",
       "7578    ZEREGA AV\n",
       "Name: STATION, Length: 7579, dtype: object"
      ]
     },
     "execution_count": 190,
     "metadata": {},
     "output_type": "execute_result"
    }
   ],
   "source": [
    "stations_daily[\"STATION\"]"
   ]
  },
  {
   "cell_type": "code",
   "execution_count": 191,
   "metadata": {},
   "outputs": [
    {
     "data": {
      "text/plain": [
       "DOW_INDEX  STATION        \n",
       "0          125 ST              21315.666667\n",
       "           14 ST-UNION SQ      18793.333333\n",
       "           34 ST-HERALD SQ     22960.333333\n",
       "           34 ST-PENN STA      28774.666667\n",
       "           42 ST-PORT AUTH     19711.000000\n",
       "           50 ST              106397.666667\n",
       "           86 ST               21206.000000\n",
       "           EUCLID AV            3633.333333\n",
       "           GRD CNTRL-42 ST     19344.000000\n",
       "           PATH NEW WTC        10381.333333\n",
       "1          125 ST              24803.666667\n",
       "           14 ST-UNION SQ      22149.000000\n",
       "           34 ST-HERALD SQ     28324.000000\n",
       "           34 ST-PENN STA      33969.333333\n",
       "           42 ST-PORT AUTH     23544.333333\n",
       "           50 ST                7921.666667\n",
       "           86 ST               26080.000000\n",
       "           EUCLID AV          132697.666667\n",
       "           GRD CNTRL-42 ST     24654.000000\n",
       "           PATH NEW WTC        12782.000000\n",
       "2          125 ST              25478.666667\n",
       "           14 ST-UNION SQ      23704.666667\n",
       "           34 ST-HERALD SQ     28097.666667\n",
       "           34 ST-PENN STA      34143.000000\n",
       "           42 ST-PORT AUTH     23753.666667\n",
       "           50 ST                8806.333333\n",
       "           86 ST               26628.000000\n",
       "           EUCLID AV          133133.333333\n",
       "           GRD CNTRL-42 ST     25150.333333\n",
       "           PATH NEW WTC        13252.000000\n",
       "Name: DAILY_ENTRIES, dtype: float64"
      ]
     },
     "execution_count": 191,
     "metadata": {},
     "output_type": "execute_result"
    }
   ],
   "source": [
    "from scipy.optimize import linear_sum_assignment\n",
    "drop_non_top10 = stations_daily[[stat in top10_list for stat in stations_daily[\"STATION\"]]]\n",
    "regroup_top10 = drop_non_top10.groupby([\"DOW_INDEX\", \"STATION\"])[\"DAILY_ENTRIES\"].mean()\n",
    "regroup_top10.head(30)"
   ]
  },
  {
   "cell_type": "code",
   "execution_count": null,
   "metadata": {},
   "outputs": [],
   "source": []
  },
  {
   "cell_type": "code",
   "execution_count": 192,
   "metadata": {},
   "outputs": [
    {
     "data": {
      "text/plain": [
       "['50 ST', '34 ST-HERALD SQ', 'EUCLID AV', '86 ST', '34 ST-PENN STA']"
      ]
     },
     "execution_count": 192,
     "metadata": {},
     "output_type": "execute_result"
    }
   ],
   "source": [
    "from scipy.optimize import linear_sum_assignment\n",
    "cost_array = np.array([list(-regroup_top10.loc[day]) for day in [0, 1, 2, 3, 4]])\n",
    "days, stations = linear_sum_assignment(cost_array)\n",
    "[top10_list[station] for station in stations]"
   ]
  },
  {
   "cell_type": "code",
   "execution_count": 193,
   "metadata": {},
   "outputs": [
    {
     "data": {
      "text/plain": [
       "['50 ST', '34 ST-HERALD SQ', 'EUCLID AV', '86 ST', '34 ST-PENN STA']"
      ]
     },
     "execution_count": 193,
     "metadata": {},
     "output_type": "execute_result"
    }
   ],
   "source": [
    "from scipy.optimize import linear_sum_assignment\n",
    "regroup_all = drop_non_top10.groupby([\"DOW_INDEX\", \"STATION\"])[\"DAILY_ENTRIES\"].mean()\n",
    "cost_array_all = np.array([list(-regroup_all.loc[day]) for day in [0, 1, 2, 3, 4]])\n",
    "days, stations_all = linear_sum_assignment(cost_array_all)\n",
    "[top10_list[station] for station in stations_all]"
   ]
  },
  {
   "cell_type": "code",
   "execution_count": 194,
   "metadata": {},
   "outputs": [],
   "source": [
    "# can now present optimal solutions for 1, 2, 3 teams per day perhaps"
   ]
  },
  {
   "cell_type": "code",
   "execution_count": null,
   "metadata": {},
   "outputs": [],
   "source": []
  },
  {
   "cell_type": "code",
   "execution_count": 195,
   "metadata": {
    "colab": {},
    "colab_type": "code",
    "id": "JFC-vsRwG38P"
   },
   "outputs": [],
   "source": [
    "# next create a new df that filters the stations daily data down\n",
    "# to the top 10 stations\n",
    "stations_daily_top10 = \\\n",
    "    stations_daily[stations_daily['STATION'].isin(top10_stations)]"
   ]
  },
  {
   "cell_type": "code",
   "execution_count": 196,
   "metadata": {
    "colab": {},
    "colab_type": "code",
    "id": "4cQg8HXtG38b",
    "outputId": "e647af95-1f2c-4433-c87b-0009e0660df4"
   },
   "outputs": [
    {
     "data": {
      "text/plain": [
       "<matplotlib.axes._subplots.AxesSubplot at 0x7f876ffd40d0>"
      ]
     },
     "execution_count": 196,
     "metadata": {},
     "output_type": "execute_result"
    },
    {
     "data": {
      "image/png": "[encoded data removed]",
      "text/plain": [
       "<Figure size 1440x1080 with 1 Axes>"
      ]
     },
     "metadata": {},
     "output_type": "display_data"
    }
   ],
   "source": [
    "# use seaborn to create a boxplot by station\n",
    "sns.boxplot('DAILY_ENTRIES', 'STATION', data=stations_daily_top10)"
   ]
  },
  {
   "cell_type": "markdown",
   "metadata": {
    "colab_type": "text",
    "id": "LMu7YvAUG38i"
   },
   "source": [
    "Two key things we should notice from these quick EDA steps:\n",
    "\n",
    "- Using our knowledge of NYC, it **doesn't seem right that these are the top 10 stations**. Some are reasonable like grand central and times square, but is 23rd street really that popular? A next step here would be to dig into turnstiles in \"23 ST\" (hint: check the line names for different instances of 23 ST, is it really one station?) \n",
    "\n",
    "\n",
    "- There's still a **clear outlier in daily traffic for Canal St**, we should be able to figure out what's causing this by digging into it. Maybe our cleaning process is not quite enough yet (1 million is too large a cutoff!)"
   ]
  },
  {
   "cell_type": "code",
   "execution_count": null,
   "metadata": {
    "colab": {},
    "colab_type": "code",
    "id": "Zf4NQKk8G38j"
   },
   "outputs": [],
   "source": []
  },
  {
   "cell_type": "code",
   "execution_count": null,
   "metadata": {},
   "outputs": [],
   "source": []
  }
 ],
 "metadata": {
  "anaconda-cloud": {},
  "colab": {
   "name": "three_Benson_solutions_pandas.ipynb",
   "provenance": []
  },
  "kernelspec": {
   "display_name": "Python 3",
   "language": "python",
   "name": "python3"
  },
  "language_info": {
   "codemirror_mode": {
    "name": "ipython",
    "version": 3
   },
   "file_extension": ".py",
   "mimetype": "text/x-python",
   "name": "python",
   "nbconvert_exporter": "python",
   "pygments_lexer": "ipython3",
   "version": "3.7.4"
  }
 },
 "nbformat": 4,
 "nbformat_minor": 1
}
