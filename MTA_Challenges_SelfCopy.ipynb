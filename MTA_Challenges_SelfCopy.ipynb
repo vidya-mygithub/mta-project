{
 "cells": [
  {
   "cell_type": "markdown",
   "metadata": {},
   "source": [
    "## Importing Dependencies"
   ]
  },
  {
   "cell_type": "code",
   "execution_count": null,
   "metadata": {},
   "outputs": [],
   "source": [
    "# Import Dependencies\n",
    "%matplotlib inline\n",
    "\n",
    "# Start Python Imports\n",
    "import math, time, random, datetime\n",
    "\n",
    "# Data Manipulation\n",
    "import numpy as np\n",
    "import pandas as pd\n",
    "from datetime import datetime as dt\n",
    "\n",
    "# Visualization \n",
    "import matplotlib.pyplot as plt\n",
    "import missingno\n",
    "import seaborn as sns\n",
    "plt.style.use('seaborn-whitegrid')"
   ]
  },
  {
   "cell_type": "markdown",
   "metadata": {},
   "source": [
    "## Challenge 1: Loading the Data and Exploring it"
   ]
  },
  {
   "cell_type": "code",
   "execution_count": null,
   "metadata": {},
   "outputs": [],
   "source": [
    "# URL: http://web.mta.info/developers/turnstile.html\n",
    "\n",
    "def get_data(week_nums):\n",
    "    url = \"data/turnstile_{}.txt\"\n",
    "    dfs = []\n",
    "    for week_num in week_nums:\n",
    "        file_url = url.format(week_num)\n",
    "        dfs.append(pd.read_csv(file_url))\n",
    "        # dfs.append(pd.read_csv(file_url, parse_dates=[['DATE','TIME']], keep_date_col=True))\n",
    "    return pd.concat(dfs)\n",
    "        \n",
    "week_nums = [200912, 200919, 200926]\n",
    "mta_data_raw = get_data(week_nums)"
   ]
  },
  {
   "cell_type": "code",
   "execution_count": null,
   "metadata": {},
   "outputs": [],
   "source": [
    "mta_data_raw.shape"
   ]
  },
  {
   "cell_type": "code",
   "execution_count": null,
   "metadata": {},
   "outputs": [],
   "source": [
    "mta_data_raw.describe()  # descriptive stats for numeric variables"
   ]
  },
  {
   "cell_type": "code",
   "execution_count": null,
   "metadata": {},
   "outputs": [],
   "source": [
    "mta_data_raw.describe(include=['O'])   # descriptive stats for other (categorical, string) variables"
   ]
  },
  {
   "cell_type": "code",
   "execution_count": null,
   "metadata": {},
   "outputs": [],
   "source": [
    "mta_data_raw.DESC.value_counts()"
   ]
  },
  {
   "cell_type": "code",
   "execution_count": null,
   "metadata": {},
   "outputs": [],
   "source": [
    "mta_data_raw.dtypes"
   ]
  },
  {
   "cell_type": "code",
   "execution_count": null,
   "metadata": {},
   "outputs": [],
   "source": [
    "mta_data_raw.columns"
   ]
  },
  {
   "cell_type": "code",
   "execution_count": null,
   "metadata": {},
   "outputs": [],
   "source": [
    "mta_data_raw.columns = [column.strip() for column in mta_data_raw.columns]\n",
    "mta_data_raw.columns"
   ]
  },
  {
   "cell_type": "code",
   "execution_count": null,
   "metadata": {},
   "outputs": [],
   "source": [
    "mta_data_raw.head()"
   ]
  },
  {
   "cell_type": "code",
   "execution_count": null,
   "metadata": {},
   "outputs": [],
   "source": [
    "mta_data_raw.tail()"
   ]
  },
  {
   "cell_type": "code",
   "execution_count": null,
   "metadata": {},
   "outputs": [],
   "source": [
    "mta_data_raw.reset_index()"
   ]
  },
  {
   "cell_type": "code",
   "execution_count": null,
   "metadata": {},
   "outputs": [],
   "source": [
    "mta_data_raw.DATE.value_counts().sort_index()"
   ]
  },
  {
   "cell_type": "markdown",
   "metadata": {},
   "source": [
    "## Challenge 2: Changing DATE and TIME objects to TIMESERIES"
   ]
  },
  {
   "cell_type": "code",
   "execution_count": null,
   "metadata": {},
   "outputs": [],
   "source": [
    "mta_data_raw[\"DATE_TIME\"] = pd.to_datetime(mta_data_raw.DATE + \" \" + mta_data_raw.TIME, \n",
    "                                            format=\"%m/%d/%Y %H:%M:%S\")"
   ]
  },
  {
   "cell_type": "code",
   "execution_count": null,
   "metadata": {},
   "outputs": [],
   "source": [
    "mta_data_raw.head()"
   ]
  },
  {
   "cell_type": "markdown",
   "metadata": {},
   "source": [
    "## Challenge 3: Daily Entries For Each Turnstile\n",
    "<font color=blue>Each row is a turnstile, identified by a combination of the C/A, UNIT, SCP, and STATION columns, with information on entries and exits at that turnstile every n hours. (What is n?). We want total daily entries.  \n",
    "Group the data so that it represents daily entries for each turnstile (hint: pd.groupby or DataFrame.groupby).</font>\n",
    "\n",
    "So far,  \n",
    "  1. Loaded data (and checked shape, describe, describe(include=['O]), columns, column-dtypes, head, tail, index_reset, DATE value counts)\n",
    "  2. Created DATE_TIME (time-series) object from DATE and TIME string objects.  \n",
    "\n",
    "Now,\n",
    "  3. Find total number of daily entries at each turnstile.  \n",
    "\n",
    "(1) and (2) did not involve measuring any column ~ did not require cleaning or pre-processing the data.  \n",
    "(3) Finding total number of daily entries at each turnstile, requires some cleaning and processing of the data.  \n",
    "\n",
    "**How to find total daily ENTRIES at each turnstile?**  \n",
    "\n",
    "  1. Each turnstile is identified by the combination of ['C/A', 'UNIT', 'SCP', 'STATION'] columns.\n",
    "  2. The ENTRIES are registered at each turnstile for EVERY FOUR HOURS.\n",
    "  3. Grouping ENTRIES at each turnstile using ['C/A', 'UNIT', 'SCP', 'STATION'] and ['DATE_TIME'] columns will result in multiple rows for a given day.\n",
    "  4. We then have to add up four-hour ENTRIES within a group to get 24-hour ENTRIES.  \n",
    "    * While doing so we need to make sure there aren't any duplicates (of four-hour entries).\n",
    "    * NOTE that we have already checked for the missing values.  "
   ]
  },
  {
   "cell_type": "code",
   "execution_count": null,
   "metadata": {},
   "outputs": [],
   "source": [
    "# (mta_data_raw\n",
    "#  .groupby([\"C/A\", \"UNIT\", \"SCP\", \"STATION\", \"DATE_TIME\"])\n",
    "#  .ENTRIES.count()\n",
    "#  .reset_index()\n",
    "#  .sort_values(\"ENTRIES\", ascending=False)).head(5)\n",
    "# for easy reference below, consider:\n",
    "# grouped_df = mta_data_raw.groupby(['C/A', 'UNIT', 'SCP', 'STATION', 'DATE_TIME'])\n",
    "\n",
    "\n",
    "## groupby(['C/A', 'UNIT', 'SCP', 'STATION', 'DATE_TIME']):\n",
    "    # group mta_data_raw for each turnstile for every four hours\n",
    "\n",
    "## grouped_df.ENTRIES.count():\n",
    "    # gives number of ENTRIES registered at each turnstile for every four hours (ideally should be one)\n",
    "\n",
    "    # type(grouped_df.ENTRIES.count()) = Series\n",
    "\n",
    "## .reset_index():\n",
    "    # type(grouped_df.ENTRIES.count()) = Series; \n",
    "    # Series.reset_index() is useful when the index needs to be treated as a column or when the index \n",
    "    # is meaningless & needs to be reset to the default before another operation. When drop is False \n",
    "    # (the default), a DataFrame is returned. The newly created columns will come first in the DataFrame, \n",
    "    # followed by the original Series values. When drop is True, a Series is returned. In either case, \n",
    "    # if inplace=True, no value is returned.\n",
    "\n",
    "    # grouped_df.ENTRIES.count().index.names = FrozenList(['C/A', 'UNIT', 'SCP', 'STATION', 'DATE_TIME']) \n",
    "    # grouped_df.ENTRIES.count().head(20): check screen_shots document\n",
    "    # type(grouped_df.ENTRIES.count().reset_index()) = DataFrame ****   \n",
    "    # grouped_df.ENTRIES.count().reset_index().head(20): check screen_shots document\n",
    "    \n",
    "## .sort_values(\"ENTRIES\", ascending=False))\n",
    "    # Returns a DataFrame with sorted values if inplace=True; else None.\n",
    "    # Sorts 'by' first argument (here, ENTRIES) in the ascending order.\n",
    "    # ENTRIES columns here contains the number of ENTRIES registered for each turnstile for every four hours \n",
    "    # and not the original ENTRIES column values.\n",
    "    # Ideally ENTRIES should contain values of 1 (implying only one registered entry for ENTRIES at the \n",
    "    # turnstile for given four hour interval).\n",
    "    # Any value greater than 1 implies existing of duplicate entries for ENTRIES column for that turnstile at \n",
    "    # that given four hour interval.\n",
    "    # Sorting the ENTRIES column here (number of registered entries for the ENTRIES column for each turnstile \n",
    "    # for given four hour interval) in the ascending order will display those which have duplicate entries.\n",
    "    \n",
    "# .head()"
   ]
  },
  {
   "cell_type": "code",
   "execution_count": null,
   "metadata": {},
   "outputs": [],
   "source": [
    "# Grouping ENTRIES for each turnstile over each DATE_TIME entry (four-hour)\n",
    "(mta_data_raw\n",
    " .groupby(['C/A', 'UNIT', 'SCP', 'STATION', 'DATE_TIME'])\n",
    " .ENTRIES.count()\n",
    " .reset_index()\n",
    " .sort_values(\"ENTRIES\", ascending=False)\n",
    " .head(20))"
   ]
  },
  {
   "cell_type": "code",
   "execution_count": null,
   "metadata": {},
   "outputs": [],
   "source": [
    "# Getting rid of duplicate values\n",
    "\n",
    "# Sort mta dataset by turnstile and date_time in the descending order.\n",
    "# This means the top row in each group will have the last entry for ENTRIES for the day\n",
    "# And also for dupplicate entries (having same DATE_TIME value) the DESC=RECOVR AUD will come later \n",
    "# (comapred to corresponding DESC=REGULAR) because of alphabetical order (REGULAR comes before RECOVER AUD for descending order)\n",
    "mta_data_raw.sort_values([\"C/A\", \"UNIT\", \"SCP\", \"STATION\", \"DATE_TIME\"], inplace=True, ascending=False)\n",
    "\n",
    "# Here we are only dropping the entries where DESC=RECOVER AUD\n",
    "mta_data_raw.drop_duplicates(subset=[\"C/A\", \"UNIT\", \"SCP\", \"STATION\", \"DATE_TIME\"], inplace=True)"
   ]
  },
  {
   "cell_type": "code",
   "execution_count": null,
   "metadata": {},
   "outputs": [],
   "source": [
    "# Sanity Check to verify that \"C/A\", \"UNIT\", \"SCP\", \"STATION\", \"DATE_TIME\" is unique\n",
    "(mta_data_raw\n",
    " .groupby(['C/A', 'UNIT', 'SCP', 'STATION', 'DATE_TIME'])\n",
    " .ENTRIES.count()\n",
    " .reset_index()\n",
    " .sort_values(\"ENTRIES\", ascending=False)\n",
    " .head(5))"
   ]
  },
  {
   "cell_type": "code",
   "execution_count": null,
   "metadata": {},
   "outputs": [],
   "source": [
    "# Drop Exits and Desc Column.  To prevent errors in multiple run of cell, errors on drop is ignored\n",
    "mta_data_raw = mta_data_raw.drop([\"EXITS\", \"DESC\"], axis=1, errors=\"ignore\")"
   ]
  },
  {
   "cell_type": "code",
   "execution_count": null,
   "metadata": {},
   "outputs": [],
   "source": [
    "mta_data_raw.tail(10)"
   ]
  },
  {
   "cell_type": "markdown",
   "metadata": {},
   "source": [
    "If we go back couple of steps, as shown above, 'mta_data_raw' has been sorted in the descending order of ['C/A', 'UNIT', 'SCP', 'STATION', 'DATE_TIME']. This dataset is free of duplicates and the first row for every turnstile now gives the ENTRIES up to the last four-hour period of the day.  \n",
    "\n",
    ".groupby.first() can be used on a groupby object to pull the first row of every DataFrameGroupBy object. However if we stick to grouping using columns ['C/A', 'UNIT', 'SCP', 'STATION', 'DATE_TIME'] every unique four-hour timestamp will be a qroup by itself. Hence we re-group rows using the columns ['C/A', 'UNIT', 'SCP', 'STATION', 'DATE']. So that we pick the top row for each date.\n",
    "\n",
    "To get the total number of ENTRIES for each day, we will still have to subtract, from the cumulative ENTRIES up to  that day, the cumulative ENTRIES up to the previous day.  "
   ]
  },
  {
   "cell_type": "code",
   "execution_count": null,
   "metadata": {},
   "outputs": [],
   "source": [
    "# To get the ENTRIES for each \n",
    "\n",
    "mta_data_daily = (mta_data_raw\n",
    "                        .groupby([\"C/A\", \"UNIT\", \"SCP\", \"STATION\", \"DATE\"],as_index=False)\n",
    "                        .ENTRIES.first())\n",
    "mta_data_daily.head()"
   ]
  },
  {
   "cell_type": "code",
   "execution_count": null,
   "metadata": {},
   "outputs": [],
   "source": [
    "# The values in ENTRIES column are cumulative. \n",
    "# Number of entries for a single day = current_day_ENTRIES - previous_day_ENTRIES\n",
    "# We use Series.shift() function for this purpose.\n",
    "mta_data_daily[[\"PREV_DATE\", \"PREV_ENTRIES\"]] = (mta_data_daily\n",
    "                                                       .groupby([\"C/A\", \"UNIT\", \"SCP\", \"STATION\"])[\"DATE\", \"ENTRIES\"]\n",
    "                                                       .apply(lambda x: x.shift(1)))\n",
    "#mta_data_daily[['PREV_DATE','PREV_ENTRIES']] = mta_data_daily[['DATE','ENTRIES']].apply(lambda x: x.shift(1)) # MESSED THE DATA, HAVE TO INVESTIGATE WHY THIS DID NOT WORK"
   ]
  },
  {
   "cell_type": "code",
   "execution_count": null,
   "metadata": {},
   "outputs": [],
   "source": [
    "mta_data_daily.head()"
   ]
  },
  {
   "cell_type": "code",
   "execution_count": null,
   "metadata": {},
   "outputs": [],
   "source": [
    "# Drop the rows for the earliest date in the df\n",
    "mta_data_daily.dropna(subset=[\"PREV_DATE\"], axis=0, inplace=True)"
   ]
  },
  {
   "cell_type": "code",
   "execution_count": null,
   "metadata": {},
   "outputs": [],
   "source": [
    "mta_data_daily.head()"
   ]
  },
  {
   "cell_type": "markdown",
   "metadata": {},
   "source": [
    "Before rushing to find the delta between the ENTRIES and PREV_ENTRIES for a given day, we check if there are any anomalies. In this case having ENTRIES < PREV_ENTRIES would be an anomaly."
   ]
  },
  {
   "cell_type": "code",
   "execution_count": null,
   "metadata": {},
   "outputs": [],
   "source": [
    "# Checking if any of the previous ENTRIES are more than the current ENTRIES\n",
    "\n",
    "mta_data_daily[mta_data_daily['ENTRIES'] < mta_data_daily['PREV_ENTRIES']].shape"
   ]
  },
  {
   "cell_type": "code",
   "execution_count": null,
   "metadata": {},
   "outputs": [],
   "source": [
    "mta_data_daily[mta_data_daily['ENTRIES'] < mta_data_daily['PREV_ENTRIES']].head()"
   ]
  },
  {
   "cell_type": "code",
   "execution_count": null,
   "metadata": {},
   "outputs": [],
   "source": [
    "# Checking the data for the above turnstile from original dataset.\n",
    "\n",
    "filt = ((mta_data_raw['C/A'] == 'A011') &\n",
    "        (mta_data_raw['UNIT'] == 'R080') &\n",
    "        (mta_data_raw['SCP'] == '01-03-00') &\n",
    "        (mta_data_raw['STATION'] == '57 ST-7 AV') &\n",
    "        (mta_data_raw['DATE_TIME'].dt.date == datetime.datetime(2020, 9, 6).date()))\n",
    "\n",
    "mta_data_raw[filt].head()"
   ]
  },
  {
   "cell_type": "code",
   "execution_count": null,
   "metadata": {},
   "outputs": [],
   "source": [
    "# Checking how many stations have this problem\n",
    "\n",
    "filt = (mta_data_daily['ENTRIES'] < mta_data_daily['PREV_ENTRIES'])\n",
    "\n",
    "# .size(): outputs number of rows in each group as a Series/DataFrame.\n",
    "mta_data_daily[filt].groupby(['C/A', 'UNIT', 'SCP', 'STATION']).size()  "
   ]
  },
  {
   "cell_type": "code",
   "execution_count": null,
   "metadata": {},
   "outputs": [],
   "source": [
    "def get_daily_counts(row, max_counter):\n",
    "    counter = row[\"ENTRIES\"] - row[\"PREV_ENTRIES\"]\n",
    "    if counter < 0:\n",
    "        # Maybe counter is reversed?\n",
    "        counter = -counter\n",
    "    if counter > max_counter:\n",
    "        # Maybe counter was reset to 0? \n",
    "        print(row[\"ENTRIES\"], row[\"PREV_ENTRIES\"])\n",
    "        counter = min(row[\"ENTRIES\"], row[\"PREV_ENTRIES\"])\n",
    "    if counter > max_counter:\n",
    "        # Check it again to make sure we're not still giving a counter that's too big\n",
    "        return 0\n",
    "    return counter\n",
    "\n",
    "# If counter is > 1Million, then the counter might have been reset.  \n",
    "# Just set it to zero as different counters have different cycle limits\n",
    "# It'd probably be a good idea to use a number even significantly smaller than 1 million as the limit!\n",
    "mta_data_daily[\"DAILY_ENTRIES\"] = mta_data_daily.apply(get_daily_counts, axis=1, max_counter=500000)"
   ]
  },
  {
   "cell_type": "code",
   "execution_count": null,
   "metadata": {},
   "outputs": [],
   "source": [
    "mta_data_daily[\"DAILY_ENTRIES\"].head()"
   ]
  },
  {
   "cell_type": "code",
   "execution_count": null,
   "metadata": {},
   "outputs": [],
   "source": [
    "mta_data_daily.head(25)"
   ]
  },
  {
   "cell_type": "markdown",
   "metadata": {},
   "source": [
    "### Challenge 4: Plot the daily time series for a single turnstile."
   ]
  },
  {
   "cell_type": "code",
   "execution_count": null,
   "metadata": {},
   "outputs": [],
   "source": [
    "# Total number of turnstiles\n",
    "len(mta_data_daily.groupby(['C/A', 'UNIT', 'SCP', 'STATION']))"
   ]
  },
  {
   "cell_type": "code",
   "execution_count": null,
   "metadata": {},
   "outputs": [],
   "source": [
    "# Series of mean entries at each turnstile (over a period of three weeks)\n",
    "turnstile_mean_entries = mta_data_daily.groupby(['C/A', 'UNIT', 'SCP', 'STATION']).DAILY_ENTRIES.mean()"
   ]
  },
  {
   "cell_type": "code",
   "execution_count": null,
   "metadata": {},
   "outputs": [],
   "source": [
    "# Maximum mean entries\n",
    "max_mean_entries = mta_data_daily.groupby(['C/A', 'UNIT', 'SCP', 'STATION']).DAILY_ENTRIES.mean().max()"
   ]
  },
  {
   "cell_type": "code",
   "execution_count": null,
   "metadata": {},
   "outputs": [],
   "source": [
    "# Turnstile with maximum mean entries\n",
    "turnstile_max_mean_entries = mta_data_daily.groupby(['C/A', 'UNIT', 'SCP', 'STATION']).DAILY_ENTRIES.mean().idxmax()"
   ]
  },
  {
   "cell_type": "code",
   "execution_count": 205,
   "metadata": {},
   "outputs": [
    {
     "data": {
      "text/html": [
       "<div>\n",
       "<style scoped>\n",
       "    .dataframe tbody tr th:only-of-type {\n",
       "        vertical-align: middle;\n",
       "    }\n",
       "\n",
       "    .dataframe tbody tr th {\n",
       "        vertical-align: top;\n",
       "    }\n",
       "\n",
       "    .dataframe thead th {\n",
       "        text-align: right;\n",
       "    }\n",
       "</style>\n",
       "<table border=\"1\" class=\"dataframe\">\n",
       "  <thead>\n",
       "    <tr style=\"text-align: right;\">\n",
       "      <th></th>\n",
       "      <th>C/A</th>\n",
       "      <th>UNIT</th>\n",
       "      <th>SCP</th>\n",
       "      <th>STATION</th>\n",
       "      <th>DATE</th>\n",
       "      <th>ENTRIES</th>\n",
       "      <th>PREV_DATE</th>\n",
       "      <th>PREV_ENTRIES</th>\n",
       "      <th>DAILY_ENTRIES</th>\n",
       "    </tr>\n",
       "  </thead>\n",
       "  <tbody>\n",
       "    <tr>\n",
       "      <td>1</td>\n",
       "      <td>A002</td>\n",
       "      <td>R051</td>\n",
       "      <td>02-00-00</td>\n",
       "      <td>59 ST</td>\n",
       "      <td>09/06/2020</td>\n",
       "      <td>7454567</td>\n",
       "      <td>09/05/2020</td>\n",
       "      <td>7454267.0</td>\n",
       "      <td>300.0</td>\n",
       "    </tr>\n",
       "    <tr>\n",
       "      <td>2</td>\n",
       "      <td>A002</td>\n",
       "      <td>R051</td>\n",
       "      <td>02-00-00</td>\n",
       "      <td>59 ST</td>\n",
       "      <td>09/07/2020</td>\n",
       "      <td>7454925</td>\n",
       "      <td>09/06/2020</td>\n",
       "      <td>7454567.0</td>\n",
       "      <td>358.0</td>\n",
       "    </tr>\n",
       "    <tr>\n",
       "      <td>3</td>\n",
       "      <td>A002</td>\n",
       "      <td>R051</td>\n",
       "      <td>02-00-00</td>\n",
       "      <td>59 ST</td>\n",
       "      <td>09/08/2020</td>\n",
       "      <td>7455427</td>\n",
       "      <td>09/07/2020</td>\n",
       "      <td>7454925.0</td>\n",
       "      <td>502.0</td>\n",
       "    </tr>\n",
       "    <tr>\n",
       "      <td>4</td>\n",
       "      <td>A002</td>\n",
       "      <td>R051</td>\n",
       "      <td>02-00-00</td>\n",
       "      <td>59 ST</td>\n",
       "      <td>09/09/2020</td>\n",
       "      <td>7456007</td>\n",
       "      <td>09/08/2020</td>\n",
       "      <td>7455427.0</td>\n",
       "      <td>580.0</td>\n",
       "    </tr>\n",
       "    <tr>\n",
       "      <td>5</td>\n",
       "      <td>A002</td>\n",
       "      <td>R051</td>\n",
       "      <td>02-00-00</td>\n",
       "      <td>59 ST</td>\n",
       "      <td>09/10/2020</td>\n",
       "      <td>7456494</td>\n",
       "      <td>09/09/2020</td>\n",
       "      <td>7456007.0</td>\n",
       "      <td>487.0</td>\n",
       "    </tr>\n",
       "    <tr>\n",
       "      <td>...</td>\n",
       "      <td>...</td>\n",
       "      <td>...</td>\n",
       "      <td>...</td>\n",
       "      <td>...</td>\n",
       "      <td>...</td>\n",
       "      <td>...</td>\n",
       "      <td>...</td>\n",
       "      <td>...</td>\n",
       "      <td>...</td>\n",
       "    </tr>\n",
       "    <tr>\n",
       "      <td>103808</td>\n",
       "      <td>TRAM2</td>\n",
       "      <td>R469</td>\n",
       "      <td>00-05-01</td>\n",
       "      <td>RIT-ROOSEVELT</td>\n",
       "      <td>09/06/2020</td>\n",
       "      <td>5554</td>\n",
       "      <td>09/05/2020</td>\n",
       "      <td>5554.0</td>\n",
       "      <td>0.0</td>\n",
       "    </tr>\n",
       "    <tr>\n",
       "      <td>103809</td>\n",
       "      <td>TRAM2</td>\n",
       "      <td>R469</td>\n",
       "      <td>00-05-01</td>\n",
       "      <td>RIT-ROOSEVELT</td>\n",
       "      <td>09/07/2020</td>\n",
       "      <td>5554</td>\n",
       "      <td>09/06/2020</td>\n",
       "      <td>5554.0</td>\n",
       "      <td>0.0</td>\n",
       "    </tr>\n",
       "    <tr>\n",
       "      <td>103810</td>\n",
       "      <td>TRAM2</td>\n",
       "      <td>R469</td>\n",
       "      <td>00-05-01</td>\n",
       "      <td>RIT-ROOSEVELT</td>\n",
       "      <td>09/08/2020</td>\n",
       "      <td>5554</td>\n",
       "      <td>09/07/2020</td>\n",
       "      <td>5554.0</td>\n",
       "      <td>0.0</td>\n",
       "    </tr>\n",
       "    <tr>\n",
       "      <td>103811</td>\n",
       "      <td>TRAM2</td>\n",
       "      <td>R469</td>\n",
       "      <td>00-05-01</td>\n",
       "      <td>RIT-ROOSEVELT</td>\n",
       "      <td>09/09/2020</td>\n",
       "      <td>5554</td>\n",
       "      <td>09/08/2020</td>\n",
       "      <td>5554.0</td>\n",
       "      <td>0.0</td>\n",
       "    </tr>\n",
       "    <tr>\n",
       "      <td>103812</td>\n",
       "      <td>TRAM2</td>\n",
       "      <td>R469</td>\n",
       "      <td>00-05-01</td>\n",
       "      <td>RIT-ROOSEVELT</td>\n",
       "      <td>09/10/2020</td>\n",
       "      <td>5554</td>\n",
       "      <td>09/09/2020</td>\n",
       "      <td>5554.0</td>\n",
       "      <td>0.0</td>\n",
       "    </tr>\n",
       "  </tbody>\n",
       "</table>\n",
       "<p>24807 rows × 9 columns</p>\n",
       "</div>"
      ],
      "text/plain": [
       "          C/A  UNIT       SCP        STATION        DATE  ENTRIES   PREV_DATE  \\\n",
       "1        A002  R051  02-00-00          59 ST  09/06/2020  7454567  09/05/2020   \n",
       "2        A002  R051  02-00-00          59 ST  09/07/2020  7454925  09/06/2020   \n",
       "3        A002  R051  02-00-00          59 ST  09/08/2020  7455427  09/07/2020   \n",
       "4        A002  R051  02-00-00          59 ST  09/09/2020  7456007  09/08/2020   \n",
       "5        A002  R051  02-00-00          59 ST  09/10/2020  7456494  09/09/2020   \n",
       "...       ...   ...       ...            ...         ...      ...         ...   \n",
       "103808  TRAM2  R469  00-05-01  RIT-ROOSEVELT  09/06/2020     5554  09/05/2020   \n",
       "103809  TRAM2  R469  00-05-01  RIT-ROOSEVELT  09/07/2020     5554  09/06/2020   \n",
       "103810  TRAM2  R469  00-05-01  RIT-ROOSEVELT  09/08/2020     5554  09/07/2020   \n",
       "103811  TRAM2  R469  00-05-01  RIT-ROOSEVELT  09/09/2020     5554  09/08/2020   \n",
       "103812  TRAM2  R469  00-05-01  RIT-ROOSEVELT  09/10/2020     5554  09/09/2020   \n",
       "\n",
       "        PREV_ENTRIES  DAILY_ENTRIES  \n",
       "1          7454267.0          300.0  \n",
       "2          7454567.0          358.0  \n",
       "3          7454925.0          502.0  \n",
       "4          7455427.0          580.0  \n",
       "5          7456007.0          487.0  \n",
       "...              ...            ...  \n",
       "103808        5554.0            0.0  \n",
       "103809        5554.0            0.0  \n",
       "103810        5554.0            0.0  \n",
       "103811        5554.0            0.0  \n",
       "103812        5554.0            0.0  \n",
       "\n",
       "[24807 rows x 9 columns]"
      ]
     },
     "execution_count": 205,
     "metadata": {},
     "output_type": "execute_result"
    }
   ],
   "source": [
    "mta_data_daily.groupby(['C/A', 'UNIT', 'SCP', 'STATION']).head()"
   ]
  },
  {
   "cell_type": "code",
   "execution_count": 204,
   "metadata": {},
   "outputs": [],
   "source": [
    "# Filtering for turnstile with max mean entries.\n",
    "\n",
    "filt = ((mta_data_daily['C/A'] == 'A002') &\n",
    "        (mta_data_daily['UNIT'] == 'R051') &\n",
    "        (mta_data_daily['SCP'] == '02-00-00') &\n",
    "        (mta_data_daily['STATION'] == '59 ST'))\n",
    "\n",
    "single_turnstile = mta_data_daily[filt]"
   ]
  },
  {
   "cell_type": "code",
   "execution_count": 208,
   "metadata": {},
   "outputs": [
    {
     "data": {
      "text/plain": [
       "[<matplotlib.lines.Line2D at 0x7ff196cd2e10>]"
      ]
     },
     "execution_count": 208,
     "metadata": {},
     "output_type": "execute_result"
    },
    {
     "data": {
      "image/png": "[encoded data removed]",
      "text/plain": [
       "<Figure size 720x216 with 1 Axes>"
      ]
     },
     "metadata": {},
     "output_type": "display_data"
    }
   ],
   "source": [
    "plt.figure(figsize=(10,3))\n",
    "plt.xticks(rotation=30)\n",
    "plt.plot(single_turnstile['DATE'],single_turnstile['DAILY_ENTRIES'])"
   ]
  },
  {
   "cell_type": "code",
   "execution_count": null,
   "metadata": {},
   "outputs": [],
   "source": []
  },
  {
   "cell_type": "code",
   "execution_count": null,
   "metadata": {},
   "outputs": [],
   "source": []
  },
  {
   "cell_type": "markdown",
   "metadata": {},
   "source": [
    "### Plotting the distribution of each feature"
   ]
  },
  {
   "cell_type": "code",
   "execution_count": null,
   "metadata": {},
   "outputs": [],
   "source": [
    "# def plot_distribution(dataset, cols=5, width=20, height=15, hspace=0.2, wspace=0.5):\n",
    "#     '''\n",
    "#     Plots distribution of each feature in the given dataset. A countplot for np.objects \n",
    "#     (non-numeric data types). A histplot for numeric objects.\n",
    "    \n",
    "#     Args: dataset, number of columns, width, height, hspace and wspace of matplotlib plot.\n",
    "    \n",
    "#     Returns: countplot for non-numeric columns and histplot for numeric columns of the dataset.\n",
    "#     '''\n",
    "#     plt.style.use('seaborn-whitegrid')             \n",
    "#     fig = plt.figure(figsize=(width, height))      \n",
    "#     fig.subplots_adjust(left=None, bottom=None, right=None, top=None, wspace=wspace, hspace=hspace)\n",
    "#     rows=math.ceil(float(dataset.shape[1]/cols))\n",
    "#     for i, column in enumerate(dataset.columns):\n",
    "#         ax = fig.add_subplot(rows, cols, i+1)\n",
    "#         ax.set_title(column)\n",
    "#         if dataset.dtypes[column]==np.object:\n",
    "#             g = sns.countplot(y=column, data=dataset)\n",
    "#             substrings = [s.get_text()[:18] for s in g.get_yticklabels()]\n",
    "#             g.set(yticklabels=substrings)\n",
    "#             plt.xticks(rotation=25)\n",
    "#         else:\n",
    "#             g = sns.histplot(dataset[column])\n",
    "#             plt.xticks(rotation=25)\n",
    "\n",
    "# plot_distribution(mta_data_raw[['DESC']], cols=3, width=40, height=10, hspace=0.45, wspace=0.5)    "
   ]
  },
  {
   "cell_type": "code",
   "execution_count": 209,
   "metadata": {},
   "outputs": [
    {
     "data": {
      "text/html": [
       "<div>\n",
       "<style scoped>\n",
       "    .dataframe tbody tr th:only-of-type {\n",
       "        vertical-align: middle;\n",
       "    }\n",
       "\n",
       "    .dataframe tbody tr th {\n",
       "        vertical-align: top;\n",
       "    }\n",
       "\n",
       "    .dataframe thead th {\n",
       "        text-align: right;\n",
       "    }\n",
       "</style>\n",
       "<table border=\"1\" class=\"dataframe\">\n",
       "  <thead>\n",
       "    <tr style=\"text-align: right;\">\n",
       "      <th></th>\n",
       "      <th>C/A</th>\n",
       "      <th>UNIT</th>\n",
       "      <th>STATION</th>\n",
       "      <th>DATE</th>\n",
       "      <th>SCP</th>\n",
       "      <th>DAILY_ENTRIES</th>\n",
       "    </tr>\n",
       "  </thead>\n",
       "  <tbody>\n",
       "    <tr>\n",
       "      <td>0</td>\n",
       "      <td>a</td>\n",
       "      <td>b</td>\n",
       "      <td>c</td>\n",
       "      <td>5</td>\n",
       "      <td>1</td>\n",
       "      <td>10</td>\n",
       "    </tr>\n",
       "    <tr>\n",
       "      <td>1</td>\n",
       "      <td>a</td>\n",
       "      <td>b</td>\n",
       "      <td>c</td>\n",
       "      <td>5</td>\n",
       "      <td>2</td>\n",
       "      <td>24</td>\n",
       "    </tr>\n",
       "    <tr>\n",
       "      <td>2</td>\n",
       "      <td>a</td>\n",
       "      <td>b</td>\n",
       "      <td>c</td>\n",
       "      <td>5</td>\n",
       "      <td>3</td>\n",
       "      <td>15</td>\n",
       "    </tr>\n",
       "    <tr>\n",
       "      <td>3</td>\n",
       "      <td>a</td>\n",
       "      <td>b</td>\n",
       "      <td>c</td>\n",
       "      <td>6</td>\n",
       "      <td>1</td>\n",
       "      <td>8</td>\n",
       "    </tr>\n",
       "    <tr>\n",
       "      <td>4</td>\n",
       "      <td>a</td>\n",
       "      <td>b</td>\n",
       "      <td>c</td>\n",
       "      <td>6</td>\n",
       "      <td>2</td>\n",
       "      <td>16</td>\n",
       "    </tr>\n",
       "    <tr>\n",
       "      <td>5</td>\n",
       "      <td>a</td>\n",
       "      <td>b</td>\n",
       "      <td>c</td>\n",
       "      <td>6</td>\n",
       "      <td>3</td>\n",
       "      <td>12</td>\n",
       "    </tr>\n",
       "    <tr>\n",
       "      <td>6</td>\n",
       "      <td>x</td>\n",
       "      <td>y</td>\n",
       "      <td>z</td>\n",
       "      <td>5</td>\n",
       "      <td>1</td>\n",
       "      <td>14</td>\n",
       "    </tr>\n",
       "    <tr>\n",
       "      <td>7</td>\n",
       "      <td>x</td>\n",
       "      <td>y</td>\n",
       "      <td>z</td>\n",
       "      <td>6</td>\n",
       "      <td>1</td>\n",
       "      <td>25</td>\n",
       "    </tr>\n",
       "    <tr>\n",
       "      <td>8</td>\n",
       "      <td>m</td>\n",
       "      <td>n</td>\n",
       "      <td>o</td>\n",
       "      <td>5</td>\n",
       "      <td>1</td>\n",
       "      <td>30</td>\n",
       "    </tr>\n",
       "    <tr>\n",
       "      <td>9</td>\n",
       "      <td>m</td>\n",
       "      <td>n</td>\n",
       "      <td>o</td>\n",
       "      <td>5</td>\n",
       "      <td>2</td>\n",
       "      <td>17</td>\n",
       "    </tr>\n",
       "    <tr>\n",
       "      <td>10</td>\n",
       "      <td>m</td>\n",
       "      <td>n</td>\n",
       "      <td>o</td>\n",
       "      <td>6</td>\n",
       "      <td>1</td>\n",
       "      <td>28</td>\n",
       "    </tr>\n",
       "    <tr>\n",
       "      <td>11</td>\n",
       "      <td>m</td>\n",
       "      <td>n</td>\n",
       "      <td>o</td>\n",
       "      <td>6</td>\n",
       "      <td>2</td>\n",
       "      <td>4</td>\n",
       "    </tr>\n",
       "  </tbody>\n",
       "</table>\n",
       "</div>"
      ],
      "text/plain": [
       "   C/A UNIT STATION  DATE  SCP  DAILY_ENTRIES\n",
       "0    a    b       c     5    1             10\n",
       "1    a    b       c     5    2             24\n",
       "2    a    b       c     5    3             15\n",
       "3    a    b       c     6    1              8\n",
       "4    a    b       c     6    2             16\n",
       "5    a    b       c     6    3             12\n",
       "6    x    y       z     5    1             14\n",
       "7    x    y       z     6    1             25\n",
       "8    m    n       o     5    1             30\n",
       "9    m    n       o     5    2             17\n",
       "10   m    n       o     6    1             28\n",
       "11   m    n       o     6    2              4"
      ]
     },
     "execution_count": 209,
     "metadata": {},
     "output_type": "execute_result"
    }
   ],
   "source": [
    "df = pd.DataFrame([['a', 'b', 'c', 5, 1, 10],\n",
    "                   ['a', 'b', 'c', 5, 2, 24],\n",
    "                   ['a', 'b', 'c', 5, 3, 15],\n",
    "                   ['a', 'b', 'c', 6, 1, 8],\n",
    "                   ['a', 'b', 'c', 6, 2, 16],\n",
    "                   ['a', 'b', 'c', 6, 3, 12],\n",
    "                   ['x', 'y', 'z', 5, 1, 14],\n",
    "                   ['x', 'y', 'z', 6, 1, 25],\n",
    "                   ['m', 'n', 'o', 5, 1, 30],\n",
    "                   ['m', 'n', 'o', 5, 2, 17],\n",
    "                   ['m', 'n', 'o', 6, 1, 28],\n",
    "                   ['m', 'n', 'o', 6, 2, 4]\n",
    "                  ], \n",
    "                 columns=['C/A', 'UNIT', 'STATION', 'DATE', 'SCP', 'DAILY_ENTRIES'])\n",
    "df"
   ]
  },
  {
   "cell_type": "code",
   "execution_count": 212,
   "metadata": {},
   "outputs": [
    {
     "data": {
      "text/plain": [
       "C/A  UNIT  STATION  DATE\n",
       "a    b     c        5       49\n",
       "                    6       36\n",
       "m    n     o        5       47\n",
       "                    6       32\n",
       "x    y     z        5       14\n",
       "                    6       25\n",
       "Name: DAILY_ENTRIES, dtype: int64"
      ]
     },
     "execution_count": 212,
     "metadata": {},
     "output_type": "execute_result"
    }
   ],
   "source": [
    "df.groupby(['C/A', 'UNIT', 'STATION', 'DATE'])['DAILY_ENTRIES'].sum()"
   ]
  },
  {
   "cell_type": "code",
   "execution_count": null,
   "metadata": {},
   "outputs": [],
   "source": []
  },
  {
   "cell_type": "code",
   "execution_count": null,
   "metadata": {},
   "outputs": [],
   "source": []
  }
 ],
 "metadata": {
  "kernelspec": {
   "display_name": "Python 3",
   "language": "python",
   "name": "python3"
  },
  "language_info": {
   "codemirror_mode": {
    "name": "ipython",
    "version": 3
   },
   "file_extension": ".py",
   "mimetype": "text/x-python",
   "name": "python",
   "nbconvert_exporter": "python",
   "pygments_lexer": "ipython3",
   "version": "3.7.4"
  }
 },
 "nbformat": 4,
 "nbformat_minor": 2
}
