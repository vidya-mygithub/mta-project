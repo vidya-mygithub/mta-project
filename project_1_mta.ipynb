{
 "cells": [
  {
   "cell_type": "markdown",
   "metadata": {
    "ExecuteTime": {
     "end_time": "2020-09-27T14:41:54.150339Z",
     "start_time": "2020-09-27T14:41:54.148168Z"
    }
   },
   "source": [
    "# Project 1: MTA Data Visualization for WTWY\n",
    "\n",
    "by Andrew Zhou, Srividya Sistla, and Albert Lee"
   ]
  },
  {
   "cell_type": "markdown",
   "metadata": {},
   "source": [
    "## The Task at Hand\n",
    "\n",
    "We're a data science analytics firm that has been approached by WTWY (Woman Tech Woman Yes) to give them recommendations for where to collect signatures and contact information from potential attendees of and donors to their annual gala. They plan to position teams at MTA subway stations to take advantage of commuter traffic, and those who sign up for their email list will receive tickets to the gala. WTWY would then like to solicit donations from these individuals. They would like recommendations to optimize the placement of their street teams.\n"
   ]
  },
  {
   "cell_type": "code",
   "execution_count": 1,
   "metadata": {
    "ExecuteTime": {
     "end_time": "2020-09-28T04:03:30.161366Z",
     "start_time": "2020-09-28T04:03:29.727200Z"
    }
   },
   "outputs": [],
   "source": [
    "import pandas as pd\n",
    "import numpy as np\n",
    "import matplotlib.pyplot as plt\n",
    "\n",
    "%matplotlib inline"
   ]
  },
  {
   "cell_type": "markdown",
   "metadata": {},
   "source": [
    "## Data Sourcing and Cleaning\n",
    "\n",
    "### Data Source and Initial Cleaning\n",
    "\n",
    "We use Vinny's partially-cleaned data while conducting further cleaning and grouping. The data are from the MTA, and we look at 3 consecutive weeks from 8/27/16 to 9/16/16."
   ]
  },
  {
   "cell_type": "code",
   "execution_count": 2,
   "metadata": {
    "ExecuteTime": {
     "end_time": "2020-09-28T04:03:30.852328Z",
     "start_time": "2020-09-28T04:03:30.163099Z"
    }
   },
   "outputs": [],
   "source": [
    "# Source: http://web.mta.info/developers/turnstile.html\n",
    "def get_data(week_nums):\n",
    "    url = \"data/turnstile_{}.txt\"\n",
    "    dfs = []\n",
    "    for week_num in week_nums:\n",
    "        file_url = url.format(week_num)\n",
    "        dfs.append(pd.read_csv(file_url))\n",
    "    return pd.concat(dfs)\n",
    "        \n",
    "week_nums = [160903, 160910, 160917]\n",
    "turnstiles_df = get_data(week_nums)"
   ]
  },
  {
   "cell_type": "code",
   "execution_count": 3,
   "metadata": {
    "ExecuteTime": {
     "end_time": "2020-09-28T04:03:30.866616Z",
     "start_time": "2020-09-28T04:03:30.854508Z"
    }
   },
   "outputs": [
    {
     "data": {
      "text/html": [
       "<div>\n",
       "<style scoped>\n",
       "    .dataframe tbody tr th:only-of-type {\n",
       "        vertical-align: middle;\n",
       "    }\n",
       "\n",
       "    .dataframe tbody tr th {\n",
       "        vertical-align: top;\n",
       "    }\n",
       "\n",
       "    .dataframe thead th {\n",
       "        text-align: right;\n",
       "    }\n",
       "</style>\n",
       "<table border=\"1\" class=\"dataframe\">\n",
       "  <thead>\n",
       "    <tr style=\"text-align: right;\">\n",
       "      <th></th>\n",
       "      <th>C/A</th>\n",
       "      <th>UNIT</th>\n",
       "      <th>SCP</th>\n",
       "      <th>STATION</th>\n",
       "      <th>LINENAME</th>\n",
       "      <th>DIVISION</th>\n",
       "      <th>DATE</th>\n",
       "      <th>TIME</th>\n",
       "      <th>DESC</th>\n",
       "      <th>ENTRIES</th>\n",
       "      <th>EXITS</th>\n",
       "    </tr>\n",
       "  </thead>\n",
       "  <tbody>\n",
       "    <tr>\n",
       "      <th>0</th>\n",
       "      <td>A002</td>\n",
       "      <td>R051</td>\n",
       "      <td>02-00-00</td>\n",
       "      <td>59 ST</td>\n",
       "      <td>NQR456</td>\n",
       "      <td>BMT</td>\n",
       "      <td>08/27/2016</td>\n",
       "      <td>00:00:00</td>\n",
       "      <td>REGULAR</td>\n",
       "      <td>5799442</td>\n",
       "      <td>1966041</td>\n",
       "    </tr>\n",
       "    <tr>\n",
       "      <th>1</th>\n",
       "      <td>A002</td>\n",
       "      <td>R051</td>\n",
       "      <td>02-00-00</td>\n",
       "      <td>59 ST</td>\n",
       "      <td>NQR456</td>\n",
       "      <td>BMT</td>\n",
       "      <td>08/27/2016</td>\n",
       "      <td>04:00:00</td>\n",
       "      <td>REGULAR</td>\n",
       "      <td>5799463</td>\n",
       "      <td>1966044</td>\n",
       "    </tr>\n",
       "    <tr>\n",
       "      <th>2</th>\n",
       "      <td>A002</td>\n",
       "      <td>R051</td>\n",
       "      <td>02-00-00</td>\n",
       "      <td>59 ST</td>\n",
       "      <td>NQR456</td>\n",
       "      <td>BMT</td>\n",
       "      <td>08/27/2016</td>\n",
       "      <td>08:00:00</td>\n",
       "      <td>REGULAR</td>\n",
       "      <td>5799492</td>\n",
       "      <td>1966079</td>\n",
       "    </tr>\n",
       "    <tr>\n",
       "      <th>3</th>\n",
       "      <td>A002</td>\n",
       "      <td>R051</td>\n",
       "      <td>02-00-00</td>\n",
       "      <td>59 ST</td>\n",
       "      <td>NQR456</td>\n",
       "      <td>BMT</td>\n",
       "      <td>08/27/2016</td>\n",
       "      <td>12:00:00</td>\n",
       "      <td>REGULAR</td>\n",
       "      <td>5799610</td>\n",
       "      <td>1966155</td>\n",
       "    </tr>\n",
       "    <tr>\n",
       "      <th>4</th>\n",
       "      <td>A002</td>\n",
       "      <td>R051</td>\n",
       "      <td>02-00-00</td>\n",
       "      <td>59 ST</td>\n",
       "      <td>NQR456</td>\n",
       "      <td>BMT</td>\n",
       "      <td>08/27/2016</td>\n",
       "      <td>16:00:00</td>\n",
       "      <td>REGULAR</td>\n",
       "      <td>5799833</td>\n",
       "      <td>1966214</td>\n",
       "    </tr>\n",
       "  </tbody>\n",
       "</table>\n",
       "</div>"
      ],
      "text/plain": [
       "    C/A  UNIT       SCP STATION LINENAME DIVISION        DATE      TIME  \\\n",
       "0  A002  R051  02-00-00   59 ST   NQR456      BMT  08/27/2016  00:00:00   \n",
       "1  A002  R051  02-00-00   59 ST   NQR456      BMT  08/27/2016  04:00:00   \n",
       "2  A002  R051  02-00-00   59 ST   NQR456      BMT  08/27/2016  08:00:00   \n",
       "3  A002  R051  02-00-00   59 ST   NQR456      BMT  08/27/2016  12:00:00   \n",
       "4  A002  R051  02-00-00   59 ST   NQR456      BMT  08/27/2016  16:00:00   \n",
       "\n",
       "      DESC  ENTRIES  \\\n",
       "0  REGULAR  5799442   \n",
       "1  REGULAR  5799463   \n",
       "2  REGULAR  5799492   \n",
       "3  REGULAR  5799610   \n",
       "4  REGULAR  5799833   \n",
       "\n",
       "   EXITS                                                                 \n",
       "0                                            1966041                     \n",
       "1                                            1966044                     \n",
       "2                                            1966079                     \n",
       "3                                            1966155                     \n",
       "4                                            1966214                     "
      ]
     },
     "execution_count": 3,
     "metadata": {},
     "output_type": "execute_result"
    }
   ],
   "source": [
    "turnstiles_df.head(5)"
   ]
  },
  {
   "cell_type": "markdown",
   "metadata": {},
   "source": [
    "### Removing Irregular Times\n",
    "\n",
    "We're interested in cleaning the timeslot data. Let's take a look at how the entries are distributed."
   ]
  },
  {
   "cell_type": "code",
   "execution_count": 4,
   "metadata": {
    "ExecuteTime": {
     "end_time": "2020-09-28T04:03:30.928016Z",
     "start_time": "2020-09-28T04:03:30.868235Z"
    }
   },
   "outputs": [
    {
     "name": "stdout",
     "output_type": "stream",
     "text": [
      "['00:00:00' '04:00:00' '08:00:00' ... '12:41:15' '12:42:39' '11:57:55']\n"
     ]
    },
    {
     "data": {
      "text/plain": [
       "20813"
      ]
     },
     "execution_count": 4,
     "metadata": {},
     "output_type": "execute_result"
    }
   ],
   "source": [
    "# Print the unique timefields; count the ones that aren't on the hour (minutes & seconds aren't 00:00)\n",
    "print(turnstiles_df[\"TIME\"].unique())\n",
    "len(turnstiles_df[\"TIME\"].unique())"
   ]
  },
  {
   "cell_type": "code",
   "execution_count": 5,
   "metadata": {
    "ExecuteTime": {
     "end_time": "2020-09-28T04:03:31.073100Z",
     "start_time": "2020-09-28T04:03:30.929307Z"
    }
   },
   "outputs": [
    {
     "data": {
      "text/plain": [
       "(46559, 580895, 0.08015045748371048)"
      ]
     },
     "execution_count": 5,
     "metadata": {},
     "output_type": "execute_result"
    }
   ],
   "source": [
    "# That's a lot of different times. Let's see how many aren't on the hour \n",
    "odd_times = len(turnstiles_df[[time[3:] != \"00:00\" for time in turnstiles_df[\"TIME\"]]])\n",
    "total_times = len(turnstiles_df)\n",
    "odd_times, total_times, odd_times/total_times"
   ]
  },
  {
   "cell_type": "markdown",
   "metadata": {},
   "source": [
    "~8% of the data are at irregular times. This proportion is fairly low, especially as the entries column tracks a rolling counter. Thus, getting rid of these data seems unlikely to influence our results substantially if the regular entries are correct."
   ]
  },
  {
   "cell_type": "code",
   "execution_count": 6,
   "metadata": {
    "ExecuteTime": {
     "end_time": "2020-09-28T04:03:31.330106Z",
     "start_time": "2020-09-28T04:03:31.074393Z"
    }
   },
   "outputs": [
    {
     "data": {
      "text/plain": [
       "08:00:00    50661\n",
       "00:00:00    50660\n",
       "04:00:00    50655\n",
       "20:00:00    50616\n",
       "12:00:00    50610\n",
       "16:00:00    50594\n",
       "01:00:00    35365\n",
       "05:00:00    35331\n",
       "13:00:00    35323\n",
       "09:00:00    35315\n",
       "21:00:00    35295\n",
       "17:00:00    35285\n",
       "18:00:00     2288\n",
       "22:00:00     2288\n",
       "06:00:00     2287\n",
       "02:00:00     2287\n",
       "14:00:00     2287\n",
       "10:00:00     2274\n",
       "15:00:00      820\n",
       "19:00:00      819\n",
       "11:00:00      819\n",
       "23:00:00      819\n",
       "03:00:00      819\n",
       "07:00:00      819\n",
       "Name: TIME, dtype: int64"
      ]
     },
     "execution_count": 6,
     "metadata": {},
     "output_type": "execute_result"
    }
   ],
   "source": [
    "# Drop irregular times\n",
    "turnstiles_df = turnstiles_df[[time[3:5] == \"00\" and time[6:] == \"00\" for time in turnstiles_df[\"TIME\"]]]\n",
    "\n",
    "# What's left?\n",
    "turnstiles_df[\"TIME\"].value_counts()"
   ]
  },
  {
   "cell_type": "markdown",
   "metadata": {},
   "source": [
    "### Synchronizing Time Cycles\n",
    "\n",
    "We see that there seem to be different cycles: 12AM/4AM/8AM/12PM/4PM/8PM, 1AM/5AM/9AM/1PM/5PM/9PM, etc.\n",
    "\n",
    "We might like to shift everything to the 12AM, 4AM, 8AM, 12PM, 4PM, 8PM cycle in order to simplify our analysis. But we need to check that there are no merging conflicts, e.g. a day with entries that belong to multiple cycles. In that case, we might shift a 9AM entry to 8AM while an 8AM entry already exists."
   ]
  },
  {
   "cell_type": "code",
   "execution_count": 7,
   "metadata": {
    "ExecuteTime": {
     "end_time": "2020-09-28T04:03:32.922008Z",
     "start_time": "2020-09-28T04:03:31.331441Z"
    }
   },
   "outputs": [
    {
     "data": {
      "text/plain": [
       "0"
      ]
     },
     "execution_count": 7,
     "metadata": {},
     "output_type": "execute_result"
    }
   ],
   "source": [
    "# Detect a conflict in a series of times for a particular turnstile on a particular date\n",
    "def conflict_exists(times):\n",
    "    to_hours = list(map(lambda x: int(x[:2]), times))\n",
    "    return len(np.unique(np.array(to_hours) % 4)) != 1\n",
    "\n",
    "# Check for conflicts\n",
    "(turnstiles_df.groupby([\"C/A\", \"UNIT\", \"SCP\", \"STATION\", \"DATE\"]))[\"TIME\"] \\\n",
    "        .agg(lambda x: len(np.unique((np.array(list(map(lambda y: int(y[:2]), x))) % 4))) != 1).sum()"
   ]
  },
  {
   "cell_type": "markdown",
   "metadata": {},
   "source": [
    "No conflicts, so we establish 12AM/4AM/8AM/12PM/4PM/8PM as our desired cycle and shift all other cycles back to match."
   ]
  },
  {
   "cell_type": "code",
   "execution_count": 8,
   "metadata": {
    "ExecuteTime": {
     "end_time": "2020-09-28T04:03:33.312459Z",
     "start_time": "2020-09-28T04:03:32.925011Z"
    }
   },
   "outputs": [
    {
     "data": {
      "text/plain": [
       "00:00:00    89131\n",
       "04:00:00    89092\n",
       "08:00:00    89069\n",
       "12:00:00    89040\n",
       "20:00:00    89018\n",
       "16:00:00    88986\n",
       "Name: TIME, dtype: int64"
      ]
     },
     "execution_count": 8,
     "metadata": {},
     "output_type": "execute_result"
    }
   ],
   "source": [
    "# shift %H:00:00 to the previous multiple of 4, e.g. 5AM, 6AM, 7AM to 4AM\n",
    "def shift_time(time_str):\n",
    "    hour = int(time_str[:2])\n",
    "    hour -= hour % 4\n",
    "    return str(hour).zfill(2) + time_str[2:]\n",
    "\n",
    "turnstiles_df[\"TIME\"] = turnstiles_df[\"TIME\"].apply(lambda x: shift_time(x))\n",
    "turnstiles_df[\"TIME\"].value_counts()"
   ]
  },
  {
   "cell_type": "markdown",
   "metadata": {},
   "source": [
    "As desired, we've shifted all the times."
   ]
  },
  {
   "cell_type": "code",
   "execution_count": 9,
   "metadata": {
    "ExecuteTime": {
     "end_time": "2020-09-28T04:03:33.489093Z",
     "start_time": "2020-09-28T04:03:33.314668Z"
    }
   },
   "outputs": [],
   "source": [
    "# We add a column of datetime objects\n",
    "turnstiles_df[\"DATE_TIME\"] = pd.to_datetime(turnstiles_df[\"DATE\"] + \" \" + turnstiles_df[\"TIME\"], \n",
    "                                                format=\"%m/%d/%Y %H:%M:%S\")"
   ]
  },
  {
   "cell_type": "code",
   "execution_count": 10,
   "metadata": {
    "ExecuteTime": {
     "end_time": "2020-09-28T04:03:33.849519Z",
     "start_time": "2020-09-28T04:03:33.490504Z"
    }
   },
   "outputs": [
    {
     "data": {
      "text/html": [
       "<div>\n",
       "<style scoped>\n",
       "    .dataframe tbody tr th:only-of-type {\n",
       "        vertical-align: middle;\n",
       "    }\n",
       "\n",
       "    .dataframe tbody tr th {\n",
       "        vertical-align: top;\n",
       "    }\n",
       "\n",
       "    .dataframe thead th {\n",
       "        text-align: right;\n",
       "    }\n",
       "</style>\n",
       "<table border=\"1\" class=\"dataframe\">\n",
       "  <thead>\n",
       "    <tr style=\"text-align: right;\">\n",
       "      <th></th>\n",
       "      <th>C/A</th>\n",
       "      <th>UNIT</th>\n",
       "      <th>SCP</th>\n",
       "      <th>STATION</th>\n",
       "      <th>DATE_TIME</th>\n",
       "      <th>ENTRIES</th>\n",
       "    </tr>\n",
       "  </thead>\n",
       "  <tbody>\n",
       "    <tr>\n",
       "      <th>467843</th>\n",
       "      <td>R504</td>\n",
       "      <td>R276</td>\n",
       "      <td>00-00-01</td>\n",
       "      <td>VERNON-JACKSON</td>\n",
       "      <td>2016-09-16 08:00:00</td>\n",
       "      <td>2</td>\n",
       "    </tr>\n",
       "    <tr>\n",
       "      <th>0</th>\n",
       "      <td>A002</td>\n",
       "      <td>R051</td>\n",
       "      <td>02-00-00</td>\n",
       "      <td>59 ST</td>\n",
       "      <td>2016-08-27 00:00:00</td>\n",
       "      <td>1</td>\n",
       "    </tr>\n",
       "    <tr>\n",
       "      <th>356233</th>\n",
       "      <td>R165</td>\n",
       "      <td>R167</td>\n",
       "      <td>01-00-02</td>\n",
       "      <td>86 ST</td>\n",
       "      <td>2016-09-12 12:00:00</td>\n",
       "      <td>1</td>\n",
       "    </tr>\n",
       "    <tr>\n",
       "      <th>356231</th>\n",
       "      <td>R165</td>\n",
       "      <td>R167</td>\n",
       "      <td>01-00-02</td>\n",
       "      <td>86 ST</td>\n",
       "      <td>2016-09-12 04:00:00</td>\n",
       "      <td>1</td>\n",
       "    </tr>\n",
       "    <tr>\n",
       "      <th>356230</th>\n",
       "      <td>R165</td>\n",
       "      <td>R167</td>\n",
       "      <td>01-00-02</td>\n",
       "      <td>86 ST</td>\n",
       "      <td>2016-09-12 00:00:00</td>\n",
       "      <td>1</td>\n",
       "    </tr>\n",
       "  </tbody>\n",
       "</table>\n",
       "</div>"
      ],
      "text/plain": [
       "         C/A  UNIT       SCP         STATION           DATE_TIME  ENTRIES\n",
       "467843  R504  R276  00-00-01  VERNON-JACKSON 2016-09-16 08:00:00        2\n",
       "0       A002  R051  02-00-00           59 ST 2016-08-27 00:00:00        1\n",
       "356233  R165  R167  01-00-02           86 ST 2016-09-12 12:00:00        1\n",
       "356231  R165  R167  01-00-02           86 ST 2016-09-12 04:00:00        1\n",
       "356230  R165  R167  01-00-02           86 ST 2016-09-12 00:00:00        1"
      ]
     },
     "execution_count": 10,
     "metadata": {},
     "output_type": "execute_result"
    }
   ],
   "source": [
    "# Let's check for conflicts\n",
    "(turnstiles_df.groupby([\"C/A\", \"UNIT\", \"SCP\", \"STATION\", \"DATE_TIME\"],as_index=False)\n",
    "                        .ENTRIES.count().sort_values(by=\"ENTRIES\", ascending=False).head(5))\n"
   ]
  },
  {
   "cell_type": "markdown",
   "metadata": {},
   "source": [
    "Only one duplicate entry (the one Vinny isolated). Let's remove all duplicates using his method."
   ]
  },
  {
   "cell_type": "code",
   "execution_count": 11,
   "metadata": {
    "ExecuteTime": {
     "end_time": "2020-09-28T04:03:34.558965Z",
     "start_time": "2020-09-28T04:03:33.850832Z"
    }
   },
   "outputs": [
    {
     "data": {
      "text/html": [
       "<div>\n",
       "<style scoped>\n",
       "    .dataframe tbody tr th:only-of-type {\n",
       "        vertical-align: middle;\n",
       "    }\n",
       "\n",
       "    .dataframe tbody tr th {\n",
       "        vertical-align: top;\n",
       "    }\n",
       "\n",
       "    .dataframe thead th {\n",
       "        text-align: right;\n",
       "    }\n",
       "</style>\n",
       "<table border=\"1\" class=\"dataframe\">\n",
       "  <thead>\n",
       "    <tr style=\"text-align: right;\">\n",
       "      <th></th>\n",
       "      <th>C/A</th>\n",
       "      <th>UNIT</th>\n",
       "      <th>SCP</th>\n",
       "      <th>STATION</th>\n",
       "      <th>DATE_TIME</th>\n",
       "      <th>ENTRIES</th>\n",
       "    </tr>\n",
       "  </thead>\n",
       "  <tbody>\n",
       "    <tr>\n",
       "      <th>0</th>\n",
       "      <td>A002</td>\n",
       "      <td>R051</td>\n",
       "      <td>02-00-00</td>\n",
       "      <td>59 ST</td>\n",
       "      <td>2016-08-27 00:00:00</td>\n",
       "      <td>1</td>\n",
       "    </tr>\n",
       "    <tr>\n",
       "      <th>356234</th>\n",
       "      <td>R165</td>\n",
       "      <td>R167</td>\n",
       "      <td>01-00-02</td>\n",
       "      <td>86 ST</td>\n",
       "      <td>2016-09-12 16:00:00</td>\n",
       "      <td>1</td>\n",
       "    </tr>\n",
       "    <tr>\n",
       "      <th>356232</th>\n",
       "      <td>R165</td>\n",
       "      <td>R167</td>\n",
       "      <td>01-00-02</td>\n",
       "      <td>86 ST</td>\n",
       "      <td>2016-09-12 08:00:00</td>\n",
       "      <td>1</td>\n",
       "    </tr>\n",
       "    <tr>\n",
       "      <th>356231</th>\n",
       "      <td>R165</td>\n",
       "      <td>R167</td>\n",
       "      <td>01-00-02</td>\n",
       "      <td>86 ST</td>\n",
       "      <td>2016-09-12 04:00:00</td>\n",
       "      <td>1</td>\n",
       "    </tr>\n",
       "    <tr>\n",
       "      <th>356230</th>\n",
       "      <td>R165</td>\n",
       "      <td>R167</td>\n",
       "      <td>01-00-02</td>\n",
       "      <td>86 ST</td>\n",
       "      <td>2016-09-12 00:00:00</td>\n",
       "      <td>1</td>\n",
       "    </tr>\n",
       "  </tbody>\n",
       "</table>\n",
       "</div>"
      ],
      "text/plain": [
       "         C/A  UNIT       SCP STATION           DATE_TIME  ENTRIES\n",
       "0       A002  R051  02-00-00   59 ST 2016-08-27 00:00:00        1\n",
       "356234  R165  R167  01-00-02   86 ST 2016-09-12 16:00:00        1\n",
       "356232  R165  R167  01-00-02   86 ST 2016-09-12 08:00:00        1\n",
       "356231  R165  R167  01-00-02   86 ST 2016-09-12 04:00:00        1\n",
       "356230  R165  R167  01-00-02   86 ST 2016-09-12 00:00:00        1"
      ]
     },
     "execution_count": 11,
     "metadata": {},
     "output_type": "execute_result"
    }
   ],
   "source": [
    "# Get rid of the duplicate entry\n",
    "turnstiles_df.sort_values([\"C/A\", \"UNIT\", \"SCP\", \"STATION\", \"DATE_TIME\"], \n",
    "                          inplace=True, ascending=False)\n",
    "turnstiles_df.drop_duplicates(subset=[\"C/A\", \"UNIT\", \"SCP\", \"STATION\", \"DATE_TIME\"], inplace=True)\n",
    "\n",
    "(turnstiles_df.groupby([\"C/A\", \"UNIT\", \"SCP\", \"STATION\", \"DATE_TIME\"],as_index=False)\n",
    "                        .ENTRIES.count().sort_values(by=\"ENTRIES\", ascending=False).head(5))"
   ]
  },
  {
   "cell_type": "markdown",
   "metadata": {},
   "source": [
    "It's gone, as desired.\n",
    "\n",
    "### Calculating Entries In Each Timeslot\n",
    "\n",
    "Now let's create a new DataFrame with one row per turnstile/date-time. We would like to compute the difference between the entries and the entries shifted by one row.\n",
    "\n",
    "Note that we'd like our entry for, say, 4AM on a particular day to indicate the number of entries in the 4AM-8AM time period."
   ]
  },
  {
   "cell_type": "code",
   "execution_count": 12,
   "metadata": {
    "ExecuteTime": {
     "end_time": "2020-09-28T04:03:36.971478Z",
     "start_time": "2020-09-28T04:03:34.560327Z"
    }
   },
   "outputs": [],
   "source": [
    "turnstiles_by_timeslot = (turnstiles_df\n",
    "                        .groupby([\"C/A\", \"UNIT\", \"SCP\", \"STATION\", \"DATE_TIME\", \"DATE\", \"TIME\"],as_index=False)\n",
    "                        .ENTRIES.first())\n",
    "\n",
    "turnstiles_by_timeslot[[\"NEXT_TIME\", \"NEXT_ENTRIES\"]] = turnstiles_by_timeslot.groupby([\"C/A\", \"UNIT\", \"SCP\", \"STATION\"])\\\n",
    "                                                                    [[\"DATE_TIME\", \"ENTRIES\"]]\\\n",
    "                                                                    .apply(lambda grp: grp.shift(-1))\n",
    "# Let's drop the last point for which there's no subsequent entry data\n",
    "turnstiles_by_timeslot.dropna(subset=[\"NEXT_TIME\"], axis=0, inplace=True)"
   ]
  },
  {
   "cell_type": "code",
   "execution_count": 13,
   "metadata": {
    "ExecuteTime": {
     "end_time": "2020-09-28T04:03:40.941343Z",
     "start_time": "2020-09-28T04:03:36.972927Z"
    }
   },
   "outputs": [
    {
     "data": {
      "text/plain": [
       "0 days     445087\n",
       "1 days      84971\n",
       "2 days         16\n",
       "3 days          4\n",
       "5 days          1\n",
       "11 days         1\n",
       "dtype: int64"
      ]
     },
     "execution_count": 13,
     "metadata": {},
     "output_type": "execute_result"
    }
   ],
   "source": [
    "# Let's do another check: we want DATE_TIME and NEXT_TIME to be either the same or consecutive so we don't\n",
    "# get inaccurate counts for late-night entries. \n",
    "date_diffs = turnstiles_by_timeslot[\"NEXT_TIME\"].map(lambda x: x.date()) - turnstiles_by_timeslot[\"DATE_TIME\"].map(lambda x: x.date())\n",
    "date_diffs.value_counts()"
   ]
  },
  {
   "cell_type": "markdown",
   "metadata": {},
   "source": [
    "So there's a handful of data points where the next day doesn't immediately follow. Let's just set ENTRIES and NEXT_ENTRIES for these rows to zero so the entries will be counted as zero for those timeslots."
   ]
  },
  {
   "cell_type": "code",
   "execution_count": 14,
   "metadata": {
    "ExecuteTime": {
     "end_time": "2020-09-28T04:03:40.952056Z",
     "start_time": "2020-09-28T04:03:40.943463Z"
    }
   },
   "outputs": [],
   "source": [
    "date_error = date_diffs > pd.Timedelta(1, unit=\"day\")\n",
    "turnstiles_by_timeslot.loc[date_error, [\"ENTRIES\", \"NEXT_ENTRIES\"]] = [0,0]"
   ]
  },
  {
   "cell_type": "markdown",
   "metadata": {},
   "source": [
    "We use Vinny's counting function on our data. We set a large `max_counter` first so we can examine the distribution of outliers."
   ]
  },
  {
   "cell_type": "code",
   "execution_count": 15,
   "metadata": {
    "ExecuteTime": {
     "end_time": "2020-09-28T04:03:48.183304Z",
     "start_time": "2020-09-28T04:03:40.953657Z"
    }
   },
   "outputs": [],
   "source": [
    "def get_counts(row, max_counter):\n",
    "    counter = row[\"NEXT_ENTRIES\"] - row[\"ENTRIES\"]\n",
    "    if counter < 0:\n",
    "        counter = -counter\n",
    "    if counter > max_counter:\n",
    "        #print(row[\"ENTRIES\"], row[\"NEXT_ENTRIES\"])\n",
    "        return 0\n",
    "    return counter\n",
    "\n",
    "turnstiles_by_timeslot[\"NUM_ENTRIES\"] = turnstiles_by_timeslot.apply(get_counts, axis=1, max_counter=100000)"
   ]
  },
  {
   "cell_type": "markdown",
   "metadata": {},
   "source": [
    "Let's take a look at the distribution of entry numbers."
   ]
  },
  {
   "cell_type": "code",
   "execution_count": 16,
   "metadata": {
    "ExecuteTime": {
     "end_time": "2020-09-28T04:03:48.222027Z",
     "start_time": "2020-09-28T04:03:48.184847Z"
    }
   },
   "outputs": [
    {
     "data": {
      "text/plain": [
       "NUM_ENTRIES\n",
       "(0, 1000]          451990\n",
       "(1000, 1500]         7678\n",
       "(1500, 2000]         1831\n",
       "(2000, 2500]          412\n",
       "(2500, 3000]          103\n",
       "(3000, 4000]           11\n",
       "(4000, 10000]           1\n",
       "(10000, 30000]          6\n",
       "(30000, 100000]         5\n",
       "Name: NUM_ENTRIES, dtype: int64"
      ]
     },
     "execution_count": 16,
     "metadata": {},
     "output_type": "execute_result"
    }
   ],
   "source": [
    "turnstiles_by_timeslot[\"NUM_ENTRIES\"].groupby(pd.cut(turnstiles_by_timeslot[\"NUM_ENTRIES\"], [0,1000,1500, 2000,2500,3000,4000,10000,30000,100000])).count()"
   ]
  },
  {
   "cell_type": "markdown",
   "metadata": {},
   "source": [
    "Looks like anything above 3000 may be suspicious, so let's remove any that are obviously incorrect.\n",
    "\n",
    "### Dropping Spurious Entry Data"
   ]
  },
  {
   "cell_type": "code",
   "execution_count": 17,
   "metadata": {
    "ExecuteTime": {
     "end_time": "2020-09-28T04:03:48.239105Z",
     "start_time": "2020-09-28T04:03:48.223355Z"
    }
   },
   "outputs": [
    {
     "data": {
      "text/html": [
       "<div>\n",
       "<style scoped>\n",
       "    .dataframe tbody tr th:only-of-type {\n",
       "        vertical-align: middle;\n",
       "    }\n",
       "\n",
       "    .dataframe tbody tr th {\n",
       "        vertical-align: top;\n",
       "    }\n",
       "\n",
       "    .dataframe thead th {\n",
       "        text-align: right;\n",
       "    }\n",
       "</style>\n",
       "<table border=\"1\" class=\"dataframe\">\n",
       "  <thead>\n",
       "    <tr style=\"text-align: right;\">\n",
       "      <th></th>\n",
       "      <th>ENTRIES</th>\n",
       "      <th>NEXT_ENTRIES</th>\n",
       "      <th>NUM_ENTRIES</th>\n",
       "    </tr>\n",
       "  </thead>\n",
       "  <tbody>\n",
       "    <tr>\n",
       "      <th>162532</th>\n",
       "      <td>8528768</td>\n",
       "      <td>8531772.0</td>\n",
       "      <td>3004.0</td>\n",
       "    </tr>\n",
       "    <tr>\n",
       "      <th>402323</th>\n",
       "      <td>7476109</td>\n",
       "      <td>7479130.0</td>\n",
       "      <td>3021.0</td>\n",
       "    </tr>\n",
       "    <tr>\n",
       "      <th>405199</th>\n",
       "      <td>32593208</td>\n",
       "      <td>32596230.0</td>\n",
       "      <td>3022.0</td>\n",
       "    </tr>\n",
       "    <tr>\n",
       "      <th>140384</th>\n",
       "      <td>8009336</td>\n",
       "      <td>8012363.0</td>\n",
       "      <td>3027.0</td>\n",
       "    </tr>\n",
       "    <tr>\n",
       "      <th>162538</th>\n",
       "      <td>8537928</td>\n",
       "      <td>8540990.0</td>\n",
       "      <td>3062.0</td>\n",
       "    </tr>\n",
       "    <tr>\n",
       "      <th>402329</th>\n",
       "      <td>7484705</td>\n",
       "      <td>7487820.0</td>\n",
       "      <td>3115.0</td>\n",
       "    </tr>\n",
       "    <tr>\n",
       "      <th>140378</th>\n",
       "      <td>8000798</td>\n",
       "      <td>8003965.0</td>\n",
       "      <td>3167.0</td>\n",
       "    </tr>\n",
       "    <tr>\n",
       "      <th>402365</th>\n",
       "      <td>7532198</td>\n",
       "      <td>7535405.0</td>\n",
       "      <td>3207.0</td>\n",
       "    </tr>\n",
       "    <tr>\n",
       "      <th>402371</th>\n",
       "      <td>7541659</td>\n",
       "      <td>7544911.0</td>\n",
       "      <td>3252.0</td>\n",
       "    </tr>\n",
       "    <tr>\n",
       "      <th>402377</th>\n",
       "      <td>7551515</td>\n",
       "      <td>7554796.0</td>\n",
       "      <td>3281.0</td>\n",
       "    </tr>\n",
       "    <tr>\n",
       "      <th>403952</th>\n",
       "      <td>3324190</td>\n",
       "      <td>3327556.0</td>\n",
       "      <td>3366.0</td>\n",
       "    </tr>\n",
       "    <tr>\n",
       "      <th>115474</th>\n",
       "      <td>5003</td>\n",
       "      <td>10.0</td>\n",
       "      <td>4993.0</td>\n",
       "    </tr>\n",
       "    <tr>\n",
       "      <th>114638</th>\n",
       "      <td>10855</td>\n",
       "      <td>38.0</td>\n",
       "      <td>10817.0</td>\n",
       "    </tr>\n",
       "    <tr>\n",
       "      <th>114434</th>\n",
       "      <td>13697</td>\n",
       "      <td>0.0</td>\n",
       "      <td>13697.0</td>\n",
       "    </tr>\n",
       "    <tr>\n",
       "      <th>114382</th>\n",
       "      <td>20875</td>\n",
       "      <td>9.0</td>\n",
       "      <td>20866.0</td>\n",
       "    </tr>\n",
       "    <tr>\n",
       "      <th>114257</th>\n",
       "      <td>24361</td>\n",
       "      <td>1.0</td>\n",
       "      <td>24360.0</td>\n",
       "    </tr>\n",
       "    <tr>\n",
       "      <th>116485</th>\n",
       "      <td>25077</td>\n",
       "      <td>38.0</td>\n",
       "      <td>25039.0</td>\n",
       "    </tr>\n",
       "    <tr>\n",
       "      <th>115022</th>\n",
       "      <td>29042</td>\n",
       "      <td>0.0</td>\n",
       "      <td>29042.0</td>\n",
       "    </tr>\n",
       "    <tr>\n",
       "      <th>115726</th>\n",
       "      <td>40081</td>\n",
       "      <td>20.0</td>\n",
       "      <td>40061.0</td>\n",
       "    </tr>\n",
       "    <tr>\n",
       "      <th>116359</th>\n",
       "      <td>45011</td>\n",
       "      <td>92.0</td>\n",
       "      <td>44919.0</td>\n",
       "    </tr>\n",
       "    <tr>\n",
       "      <th>115350</th>\n",
       "      <td>61556</td>\n",
       "      <td>65.0</td>\n",
       "      <td>61491.0</td>\n",
       "    </tr>\n",
       "    <tr>\n",
       "      <th>115977</th>\n",
       "      <td>95614</td>\n",
       "      <td>0.0</td>\n",
       "      <td>95614.0</td>\n",
       "    </tr>\n",
       "    <tr>\n",
       "      <th>116233</th>\n",
       "      <td>99043</td>\n",
       "      <td>55.0</td>\n",
       "      <td>98988.0</td>\n",
       "    </tr>\n",
       "  </tbody>\n",
       "</table>\n",
       "</div>"
      ],
      "text/plain": [
       "         ENTRIES  NEXT_ENTRIES  NUM_ENTRIES\n",
       "162532   8528768     8531772.0       3004.0\n",
       "402323   7476109     7479130.0       3021.0\n",
       "405199  32593208    32596230.0       3022.0\n",
       "140384   8009336     8012363.0       3027.0\n",
       "162538   8537928     8540990.0       3062.0\n",
       "402329   7484705     7487820.0       3115.0\n",
       "140378   8000798     8003965.0       3167.0\n",
       "402365   7532198     7535405.0       3207.0\n",
       "402371   7541659     7544911.0       3252.0\n",
       "402377   7551515     7554796.0       3281.0\n",
       "403952   3324190     3327556.0       3366.0\n",
       "115474      5003          10.0       4993.0\n",
       "114638     10855          38.0      10817.0\n",
       "114434     13697           0.0      13697.0\n",
       "114382     20875           9.0      20866.0\n",
       "114257     24361           1.0      24360.0\n",
       "116485     25077          38.0      25039.0\n",
       "115022     29042           0.0      29042.0\n",
       "115726     40081          20.0      40061.0\n",
       "116359     45011          92.0      44919.0\n",
       "115350     61556          65.0      61491.0\n",
       "115977     95614           0.0      95614.0\n",
       "116233     99043          55.0      98988.0"
      ]
     },
     "execution_count": 17,
     "metadata": {},
     "output_type": "execute_result"
    }
   ],
   "source": [
    "turnstiles_by_timeslot[turnstiles_by_timeslot[\"NUM_ENTRIES\"] > 3000][[\"ENTRIES\", \"NEXT_ENTRIES\", \"NUM_ENTRIES\"]].sort_values(by=\"NUM_ENTRIES\")"
   ]
  },
  {
   "cell_type": "markdown",
   "metadata": {},
   "source": [
    "Looks like anything over 4000 is due to the counter resetting. Let's get rid of them. Let's also toss the counter columns and the next timeslot."
   ]
  },
  {
   "cell_type": "code",
   "execution_count": 18,
   "metadata": {
    "ExecuteTime": {
     "end_time": "2020-09-28T04:03:48.274663Z",
     "start_time": "2020-09-28T04:03:48.240536Z"
    }
   },
   "outputs": [],
   "source": [
    "turnstiles_by_timeslot.loc[turnstiles_by_timeslot[\"NUM_ENTRIES\"] > 4000, \"NUM_ENTRIES\"] = 0\n",
    "turnstiles_by_timeslot.drop(axis=1, labels=[\"ENTRIES\", \"NEXT_ENTRIES\", \"NEXT_TIME\"], inplace=True)"
   ]
  },
  {
   "cell_type": "markdown",
   "metadata": {},
   "source": [
    "The data are clean! Let's take a look at what's going on."
   ]
  },
  {
   "cell_type": "markdown",
   "metadata": {},
   "source": [
    "## Data Exploration and Analysis"
   ]
  },
  {
   "cell_type": "code",
   "execution_count": 19,
   "metadata": {
    "ExecuteTime": {
     "end_time": "2020-09-28T04:03:48.554447Z",
     "start_time": "2020-09-28T04:03:48.276360Z"
    }
   },
   "outputs": [],
   "source": [
    "import matplotlib.pyplot as plt\n",
    "import seaborn as sns\n",
    "\n",
    "%matplotlib inline"
   ]
  },
  {
   "cell_type": "markdown",
   "metadata": {},
   "source": [
    "Now we're ready to figure out which stations are highly trafficked, and on which dates and times. First, here's our cleaned dataset."
   ]
  },
  {
   "cell_type": "code",
   "execution_count": 20,
   "metadata": {
    "ExecuteTime": {
     "end_time": "2020-09-28T04:03:48.563360Z",
     "start_time": "2020-09-28T04:03:48.555707Z"
    }
   },
   "outputs": [
    {
     "data": {
      "text/html": [
       "<div>\n",
       "<style scoped>\n",
       "    .dataframe tbody tr th:only-of-type {\n",
       "        vertical-align: middle;\n",
       "    }\n",
       "\n",
       "    .dataframe tbody tr th {\n",
       "        vertical-align: top;\n",
       "    }\n",
       "\n",
       "    .dataframe thead th {\n",
       "        text-align: right;\n",
       "    }\n",
       "</style>\n",
       "<table border=\"1\" class=\"dataframe\">\n",
       "  <thead>\n",
       "    <tr style=\"text-align: right;\">\n",
       "      <th></th>\n",
       "      <th>C/A</th>\n",
       "      <th>UNIT</th>\n",
       "      <th>SCP</th>\n",
       "      <th>STATION</th>\n",
       "      <th>DATE_TIME</th>\n",
       "      <th>DATE</th>\n",
       "      <th>TIME</th>\n",
       "      <th>NUM_ENTRIES</th>\n",
       "    </tr>\n",
       "  </thead>\n",
       "  <tbody>\n",
       "    <tr>\n",
       "      <th>0</th>\n",
       "      <td>A002</td>\n",
       "      <td>R051</td>\n",
       "      <td>02-00-00</td>\n",
       "      <td>59 ST</td>\n",
       "      <td>2016-08-27 00:00:00</td>\n",
       "      <td>08/27/2016</td>\n",
       "      <td>00:00:00</td>\n",
       "      <td>21.0</td>\n",
       "    </tr>\n",
       "    <tr>\n",
       "      <th>1</th>\n",
       "      <td>A002</td>\n",
       "      <td>R051</td>\n",
       "      <td>02-00-00</td>\n",
       "      <td>59 ST</td>\n",
       "      <td>2016-08-27 04:00:00</td>\n",
       "      <td>08/27/2016</td>\n",
       "      <td>04:00:00</td>\n",
       "      <td>29.0</td>\n",
       "    </tr>\n",
       "    <tr>\n",
       "      <th>2</th>\n",
       "      <td>A002</td>\n",
       "      <td>R051</td>\n",
       "      <td>02-00-00</td>\n",
       "      <td>59 ST</td>\n",
       "      <td>2016-08-27 08:00:00</td>\n",
       "      <td>08/27/2016</td>\n",
       "      <td>08:00:00</td>\n",
       "      <td>118.0</td>\n",
       "    </tr>\n",
       "    <tr>\n",
       "      <th>3</th>\n",
       "      <td>A002</td>\n",
       "      <td>R051</td>\n",
       "      <td>02-00-00</td>\n",
       "      <td>59 ST</td>\n",
       "      <td>2016-08-27 12:00:00</td>\n",
       "      <td>08/27/2016</td>\n",
       "      <td>12:00:00</td>\n",
       "      <td>223.0</td>\n",
       "    </tr>\n",
       "    <tr>\n",
       "      <th>4</th>\n",
       "      <td>A002</td>\n",
       "      <td>R051</td>\n",
       "      <td>02-00-00</td>\n",
       "      <td>59 ST</td>\n",
       "      <td>2016-08-27 16:00:00</td>\n",
       "      <td>08/27/2016</td>\n",
       "      <td>16:00:00</td>\n",
       "      <td>288.0</td>\n",
       "    </tr>\n",
       "  </tbody>\n",
       "</table>\n",
       "</div>"
      ],
      "text/plain": [
       "    C/A  UNIT       SCP STATION           DATE_TIME        DATE      TIME  \\\n",
       "0  A002  R051  02-00-00   59 ST 2016-08-27 00:00:00  08/27/2016  00:00:00   \n",
       "1  A002  R051  02-00-00   59 ST 2016-08-27 04:00:00  08/27/2016  04:00:00   \n",
       "2  A002  R051  02-00-00   59 ST 2016-08-27 08:00:00  08/27/2016  08:00:00   \n",
       "3  A002  R051  02-00-00   59 ST 2016-08-27 12:00:00  08/27/2016  12:00:00   \n",
       "4  A002  R051  02-00-00   59 ST 2016-08-27 16:00:00  08/27/2016  16:00:00   \n",
       "\n",
       "   NUM_ENTRIES  \n",
       "0         21.0  \n",
       "1         29.0  \n",
       "2        118.0  \n",
       "3        223.0  \n",
       "4        288.0  "
      ]
     },
     "execution_count": 20,
     "metadata": {},
     "output_type": "execute_result"
    }
   ],
   "source": [
    "turnstiles_by_timeslot.head(5)"
   ]
  },
  {
   "cell_type": "markdown",
   "metadata": {
    "ExecuteTime": {
     "end_time": "2020-09-27T17:29:11.358984Z",
     "start_time": "2020-09-27T17:29:11.357017Z"
    }
   },
   "source": [
    "### Traffic by Day of Week\n",
    "\n",
    "Let's see how traffic through the entire subway system varies by the day of the week. Is it worth it to collect signatures on weekends? "
   ]
  },
  {
   "cell_type": "code",
   "execution_count": 21,
   "metadata": {
    "ExecuteTime": {
     "end_time": "2020-09-28T04:03:50.111956Z",
     "start_time": "2020-09-28T04:03:48.564729Z"
    }
   },
   "outputs": [
    {
     "data": {
      "text/plain": [
       "DOW_INDEX\n",
       "0    4.398648e+06\n",
       "1    5.571134e+06\n",
       "2    5.700208e+06\n",
       "3    5.782688e+06\n",
       "4    5.456813e+06\n",
       "5    3.195508e+06\n",
       "6    2.619233e+06\n",
       "Name: NUM_ENTRIES, dtype: float64"
      ]
     },
     "execution_count": 21,
     "metadata": {},
     "output_type": "execute_result"
    }
   ],
   "source": [
    "# Add a column for the day of the week, where 0 is Monday, 1 is Tuesday, etc.\n",
    "turnstiles_by_timeslot[\"DOW_INDEX\"] = turnstiles_by_timeslot[\"DATE_TIME\"].apply(lambda x: x.weekday())\n",
    "\n",
    "# Sum traffic over each date, then group by day of week and take the mean of entries\n",
    "all_traffic_by_date = turnstiles_by_timeslot.groupby([\"DATE\", \"DOW_INDEX\"])[\"NUM_ENTRIES\"].sum()\n",
    "mean_daily_traffic = all_traffic_by_date.groupby([\"DOW_INDEX\"]).mean()\n",
    "mean_daily_traffic"
   ]
  },
  {
   "cell_type": "markdown",
   "metadata": {},
   "source": [
    "Weekends don't seem so great. Let's visualize it:\n",
    "\n",
    "#### Plot"
   ]
  },
  {
   "cell_type": "code",
   "execution_count": 22,
   "metadata": {
    "ExecuteTime": {
     "end_time": "2020-09-28T04:03:50.270516Z",
     "start_time": "2020-09-28T04:03:50.113359Z"
    }
   },
   "outputs": [
    {
     "data": {
      "image/png": "[encoded data removed]",
      "text/plain": [
       "<Figure size 1080x720 with 1 Axes>"
      ]
     },
     "metadata": {},
     "output_type": "display_data"
    }
   ],
   "source": [
    "sns.set(rc={'figure.figsize':(15,10)})\n",
    "\n",
    "ax = sns.barplot(x=mean_daily_traffic.index, y=mean_daily_traffic)\n",
    "sns.set_style(\"dark\")\n",
    "ax.set(ylim=(0, 7000000))\n",
    "\n",
    "ax.set_title(\"Average Entries into MTA (Millions) by Day of Week\", fontsize=28, pad=15)\n",
    "ax.set_xlabel(\"Day of Week\", fontsize = 24)\n",
    "ax.set_ylabel(\"Average MTA Entries (Millions)\", fontsize=24)\n",
    "\n",
    "ax.set_xticklabels([\"Mon\", \"Tue\", \"Wed\", \"Thu\", \"Fri\", \"Sat\", \"Sun\"], fontsize=20)\n",
    "\n",
    "ax.yaxis.set_ticks(np.arange(0,7000000 + 1,1000000))\n",
    "ax.set_yticklabels([0, 1, 2, 3, 4, 5, 6, 7], fontsize=20);"
   ]
  },
  {
   "cell_type": "markdown",
   "metadata": {},
   "source": [
    "The lower traffic on weekends, combined with the fact that people traveling in New York on weekends may be more likely to be visitors, suggests that weekends would be less fruitful for WTWY's signature-gathering efforts. Let's drop the weekend data. Additionally, let's group by station as we're suggesting stations rather than turnstiles."
   ]
  },
  {
   "cell_type": "code",
   "execution_count": 23,
   "metadata": {
    "ExecuteTime": {
     "end_time": "2020-09-28T04:03:50.413258Z",
     "start_time": "2020-09-28T04:03:50.276058Z"
    }
   },
   "outputs": [],
   "source": [
    "stations_by_timeslot = (turnstiles_by_timeslot.groupby(['STATION','DATE_TIME', 'DATE', 'TIME', 'DOW_INDEX'])['NUM_ENTRIES'].sum()\n",
    "                 .reset_index())\n",
    "stations_by_timeslot_weekdays = stations_by_timeslot[stations_by_timeslot['DOW_INDEX'] < 5]"
   ]
  },
  {
   "cell_type": "markdown",
   "metadata": {},
   "source": [
    "### Traffic by Timeslot\n",
    "\n",
    "Now let's see whether it's worth it to focus on or drop any timeslots.\n",
    "\n",
    "#### Plot"
   ]
  },
  {
   "cell_type": "code",
   "execution_count": 24,
   "metadata": {
    "ExecuteTime": {
     "end_time": "2020-09-28T04:03:50.554049Z",
     "start_time": "2020-09-28T04:03:50.415887Z"
    }
   },
   "outputs": [
    {
     "data": {
      "image/png": "[encoded data removed]",
      "text/plain": [
       "<Figure size 1080x720 with 1 Axes>"
      ]
     },
     "metadata": {},
     "output_type": "display_data"
    }
   ],
   "source": [
    "all_weekday_traffic_by_timeslot = stations_by_timeslot_weekdays.groupby([\"TIME\", \"DATE\"])[\"NUM_ENTRIES\"]\\\n",
    "                                    .sum().groupby(\"TIME\").mean()\n",
    "sns.set_style(\"dark\")\n",
    "sns.set(rc={'figure.figsize':(15,10)})\n",
    "\n",
    "ax = sns.barplot(x=all_weekday_traffic_by_timeslot.index, y=all_weekday_traffic_by_timeslot)\n",
    "ax.set(ylim=(0, 2000000))\n",
    "\n",
    "ax.set_title(\"Average Entries into MTA (Millions) by 4-Hour Timeslot\", fontsize=28, pad=15)\n",
    "ax.set_xlabel(\"Beginning of Timeslot\", fontsize = 24)\n",
    "ax.set_ylabel(\"Average MTA Entries (Millions)\", fontsize=24)\n",
    "\n",
    "ax.set_xticklabels([\"12AM\", \"4AM\", \"8AM\", \"12PM\", \"4PM\", \"8PM\"], fontsize=20)\n",
    "\n",
    "ax.yaxis.set_ticks(np.arange(0,2000000 + 1,500000))\n",
    "ax.set_yticklabels([0, 0.5, 1, 1.5, 2], fontsize=20);"
   ]
  },
  {
   "cell_type": "markdown",
   "metadata": {},
   "source": [
    "The 12-4AM and 8PM-12AM timeslots are significantly less trafficked than the others. Let's ignore those.\n",
    "\n",
    "### Traffic Patterns for Individual Stations\n",
    "\n",
    "Let's take a look at a few of the most populated stations to see how their traffic trends over time. Are there different \"types\" of stations with their own traffic patterns?"
   ]
  },
  {
   "cell_type": "code",
   "execution_count": 25,
   "metadata": {
    "ExecuteTime": {
     "end_time": "2020-09-28T04:03:50.568600Z",
     "start_time": "2020-09-28T04:03:50.555490Z"
    }
   },
   "outputs": [
    {
     "data": {
      "text/html": [
       "<div>\n",
       "<style scoped>\n",
       "    .dataframe tbody tr th:only-of-type {\n",
       "        vertical-align: middle;\n",
       "    }\n",
       "\n",
       "    .dataframe tbody tr th {\n",
       "        vertical-align: top;\n",
       "    }\n",
       "\n",
       "    .dataframe thead th {\n",
       "        text-align: right;\n",
       "    }\n",
       "</style>\n",
       "<table border=\"1\" class=\"dataframe\">\n",
       "  <thead>\n",
       "    <tr style=\"text-align: right;\">\n",
       "      <th></th>\n",
       "      <th>STATION</th>\n",
       "      <th>TIME</th>\n",
       "      <th>NUM_ENTRIES</th>\n",
       "    </tr>\n",
       "  </thead>\n",
       "  <tbody>\n",
       "    <tr>\n",
       "      <th>349</th>\n",
       "      <td>34 ST-PENN STA</td>\n",
       "      <td>04:00:00</td>\n",
       "      <td>35975.000000</td>\n",
       "    </tr>\n",
       "    <tr>\n",
       "      <th>391</th>\n",
       "      <td>42 ST-PORT AUTH</td>\n",
       "      <td>04:00:00</td>\n",
       "      <td>18560.866667</td>\n",
       "    </tr>\n",
       "    <tr>\n",
       "      <th>1345</th>\n",
       "      <td>GRD CNTRL-42 ST</td>\n",
       "      <td>04:00:00</td>\n",
       "      <td>15554.200000</td>\n",
       "    </tr>\n",
       "    <tr>\n",
       "      <th>661</th>\n",
       "      <td>96 ST</td>\n",
       "      <td>04:00:00</td>\n",
       "      <td>14326.000000</td>\n",
       "    </tr>\n",
       "    <tr>\n",
       "      <th>55</th>\n",
       "      <td>125 ST</td>\n",
       "      <td>04:00:00</td>\n",
       "      <td>12990.000000</td>\n",
       "    </tr>\n",
       "  </tbody>\n",
       "</table>\n",
       "</div>"
      ],
      "text/plain": [
       "              STATION      TIME   NUM_ENTRIES\n",
       "349    34 ST-PENN STA  04:00:00  35975.000000\n",
       "391   42 ST-PORT AUTH  04:00:00  18560.866667\n",
       "1345  GRD CNTRL-42 ST  04:00:00  15554.200000\n",
       "661             96 ST  04:00:00  14326.000000\n",
       "55             125 ST  04:00:00  12990.000000"
      ]
     },
     "execution_count": 25,
     "metadata": {},
     "output_type": "execute_result"
    }
   ],
   "source": [
    "stations_by_timeslot_mean = stations_by_timeslot_weekdays.groupby([\"STATION\", \"TIME\"])[\"NUM_ENTRIES\"].mean().reset_index()\n",
    "top_stations_morning = stations_by_timeslot_mean[stations_by_timeslot_mean[\"TIME\"] == \"04:00:00\"]\\\n",
    "                            .sort_values(by=\"NUM_ENTRIES\", ascending=False).head(5)\n",
    "top_stations_morning"
   ]
  },
  {
   "cell_type": "code",
   "execution_count": 26,
   "metadata": {
    "ExecuteTime": {
     "end_time": "2020-09-28T04:03:50.578107Z",
     "start_time": "2020-09-28T04:03:50.569891Z"
    }
   },
   "outputs": [
    {
     "data": {
      "text/html": [
       "<div>\n",
       "<style scoped>\n",
       "    .dataframe tbody tr th:only-of-type {\n",
       "        vertical-align: middle;\n",
       "    }\n",
       "\n",
       "    .dataframe tbody tr th {\n",
       "        vertical-align: top;\n",
       "    }\n",
       "\n",
       "    .dataframe thead th {\n",
       "        text-align: right;\n",
       "    }\n",
       "</style>\n",
       "<table border=\"1\" class=\"dataframe\">\n",
       "  <thead>\n",
       "    <tr style=\"text-align: right;\">\n",
       "      <th></th>\n",
       "      <th>STATION</th>\n",
       "      <th>TIME</th>\n",
       "      <th>NUM_ENTRIES</th>\n",
       "    </tr>\n",
       "  </thead>\n",
       "  <tbody>\n",
       "    <tr>\n",
       "      <th>1348</th>\n",
       "      <td>GRD CNTRL-42 ST</td>\n",
       "      <td>16:00:00</td>\n",
       "      <td>60345.266667</td>\n",
       "    </tr>\n",
       "    <tr>\n",
       "      <th>262</th>\n",
       "      <td>23 ST</td>\n",
       "      <td>16:00:00</td>\n",
       "      <td>48860.866667</td>\n",
       "    </tr>\n",
       "    <tr>\n",
       "      <th>340</th>\n",
       "      <td>34 ST-HERALD SQ</td>\n",
       "      <td>16:00:00</td>\n",
       "      <td>47390.333333</td>\n",
       "    </tr>\n",
       "    <tr>\n",
       "      <th>352</th>\n",
       "      <td>34 ST-PENN STA</td>\n",
       "      <td>16:00:00</td>\n",
       "      <td>41267.666667</td>\n",
       "    </tr>\n",
       "    <tr>\n",
       "      <th>1984</th>\n",
       "      <td>TIMES SQ-42 ST</td>\n",
       "      <td>16:00:00</td>\n",
       "      <td>38223.600000</td>\n",
       "    </tr>\n",
       "  </tbody>\n",
       "</table>\n",
       "</div>"
      ],
      "text/plain": [
       "              STATION      TIME   NUM_ENTRIES\n",
       "1348  GRD CNTRL-42 ST  16:00:00  60345.266667\n",
       "262             23 ST  16:00:00  48860.866667\n",
       "340   34 ST-HERALD SQ  16:00:00  47390.333333\n",
       "352    34 ST-PENN STA  16:00:00  41267.666667\n",
       "1984   TIMES SQ-42 ST  16:00:00  38223.600000"
      ]
     },
     "execution_count": 26,
     "metadata": {},
     "output_type": "execute_result"
    }
   ],
   "source": [
    "top_stations_afternoon = stations_by_timeslot_mean[stations_by_timeslot_mean[\"TIME\"] == \"16:00:00\"]\\\n",
    "                            .sort_values(by=\"NUM_ENTRIES\", ascending=False).head(5)\n",
    "top_stations_afternoon"
   ]
  },
  {
   "cell_type": "markdown",
   "metadata": {},
   "source": [
    "Despite some overlap, we see that the most popular stations differ for morning and afternoon. (And presumably for the 8AM and 12PM timeslots as well.) We would like to tailor our strategy to the timeslot, then. For further precision, we can calculate the average traffic for each station for each particular day of week, timeslot combination."
   ]
  },
  {
   "cell_type": "markdown",
   "metadata": {},
   "source": [
    "We would like to plot station traffic over time, but want to drop data for the 12AM and 8PM timeslots. Note that when we plot the traffic versus time, we would have gaps if we spaced the x-axis linearly with respect to time. Our graph will be more legible if we omit the dropped timeslots.\n",
    "\n",
    "Thus we define a custom scale DOW_TIME for the x-axis. The day of week is denoted by the integer portion of the value, with 0 representing Monday and 4 representing Friday. The time is denoted by the decimal portion, with 0.0 mapped to 4AM, 0.25 to 8AM, 0.5 to 12PM, and 0.75 to 4PM."
   ]
  },
  {
   "cell_type": "code",
   "execution_count": 27,
   "metadata": {
    "ExecuteTime": {
     "end_time": "2020-09-28T04:03:50.653518Z",
     "start_time": "2020-09-28T04:03:50.579602Z"
    }
   },
   "outputs": [],
   "source": [
    "# Create a new dataframe for ease of use; DOW_TIME isn't defined for the 12AM and 8PM timeslots.\n",
    "stations_by_date_time = pd.DataFrame(stations_by_timeslot_weekdays[(stations_by_timeslot_weekdays[\"TIME\"] != \"00:00:00\") \\\n",
    "                                        & (stations_by_timeslot_weekdays[\"TIME\"] != \"20:00:00\")])\n",
    "\n",
    "def datetime_to_dow_time(date_time):\n",
    "    return date_time.dayofweek + (date_time.hour-4)/16\n",
    "\n",
    "stations_by_date_time[\"DOW_TIME\"] = stations_by_date_time[\"DATE_TIME\"].apply(datetime_to_dow_time)\n",
    "stations_by_dow_time_mean = stations_by_date_time.groupby([\"STATION\", \"DOW_TIME\", \"DOW_INDEX\", \"TIME\"])[\"NUM_ENTRIES\"].mean()"
   ]
  },
  {
   "cell_type": "markdown",
   "metadata": {},
   "source": [
    "Let's select a few \"morning\" stations and \"afternoon\" stations to compare and contrast."
   ]
  },
  {
   "cell_type": "code",
   "execution_count": 28,
   "metadata": {
    "ExecuteTime": {
     "end_time": "2020-09-28T04:03:50.660694Z",
     "start_time": "2020-09-28T04:03:50.655066Z"
    }
   },
   "outputs": [
    {
     "data": {
      "text/plain": [
       "(             STATION      TIME   NUM_ENTRIES\n",
       " 349   34 ST-PENN STA  04:00:00  35975.000000\n",
       " 391  42 ST-PORT AUTH  04:00:00  18560.866667,\n",
       "               STATION      TIME   NUM_ENTRIES\n",
       " 1348  GRD CNTRL-42 ST  16:00:00  60345.266667\n",
       " 262             23 ST  16:00:00  48860.866667)"
      ]
     },
     "execution_count": 28,
     "metadata": {},
     "output_type": "execute_result"
    }
   ],
   "source": [
    "top_stations_morning.head(2), top_stations_afternoon.head(2)"
   ]
  },
  {
   "cell_type": "markdown",
   "metadata": {},
   "source": [
    "Grab the top two for each, then plot their entries versus day of week and timeslot.\n",
    "\n",
    "#### Plot"
   ]
  },
  {
   "cell_type": "code",
   "execution_count": 29,
   "metadata": {
    "ExecuteTime": {
     "end_time": "2020-09-28T04:03:50.979249Z",
     "start_time": "2020-09-28T04:03:50.662105Z"
    }
   },
   "outputs": [
    {
     "data": {
      "image/png": "[encoded data removed]",
      "text/plain": [
       "<Figure size 1080x720 with 1 Axes>"
      ]
     },
     "metadata": {},
     "output_type": "display_data"
    }
   ],
   "source": [
    "top_stations_all = [\"34 ST-PENN STA\", \"42 ST-PORT AUTH\", \"GRD CNTRL-42 ST\", \"23 ST\"]\n",
    "top_stations_by_dow_time_mean = stations_by_dow_time_mean.loc[top_stations_all].reset_index()\n",
    "\n",
    "sns.set_style(\"whitegrid\")\n",
    "ax = sns.lineplot(data=top_stations_by_dow_time_mean, x=\"DOW_TIME\", y=\"NUM_ENTRIES\", hue=\"STATION\");\n",
    "\n",
    "ax.set_title(\"Average Entries per Day of Week and Timeslot for Selected Stations\", fontsize=28, pad=15)\n",
    "ax.set_xlabel(\"Beginning of Timeslot\", fontsize = 24)\n",
    "ax.set_ylabel(\"Average Entries\", fontsize=24)\n",
    "\n",
    "# Label the x-ticks with the corresponding times; we will label the day of the week on the plot itself\n",
    "ax.set_xticks(np.linspace(0, 4.75, 20))\n",
    "ax.set_xticklabels(np.array([[\"4AM\", \"8AM\", \"12PM\", \"4PM\"] * 5]).flatten(), fontsize=16);\n",
    "\n",
    "ax.yaxis.set_ticks(np.arange(0, 80000+1, 10000))\n",
    "ax.set_yticklabels(ax.get_yticks(), fontsize=20)\n",
    "ax.set(ylim=(0, 80000));\n",
    "\n",
    "weekdays = [\"Monday\", \"Tuesday\", \"Wednesday\", \"Thursday\", \"Friday\"]\n",
    "\n",
    "# Draw vertical lines on plot to separate different weekdays and label each resultant column\n",
    "for i in range(5):\n",
    "    ax.axvline(i, 0, 10, alpha=0.25, color=\"red\")\n",
    "    ax.text(0.5 + i, 75000, weekdays[i], va=\"top\", ha=\"center\", size='medium', fontsize=\"24\", color='black')\n",
    "\n",
    "plt.legend(bbox_to_anchor=(0.78, 0.85))\n",
    "plt.setp(ax.get_legend().get_texts(), fontsize='14');"
   ]
  },
  {
   "cell_type": "markdown",
   "metadata": {
    "ExecuteTime": {
     "end_time": "2020-09-27T23:17:02.264522Z",
     "start_time": "2020-09-27T23:16:57.033Z"
    }
   },
   "source": [
    "We note that the \"morning\" stations and \"afternoon\" stations in fact exhibit different trends over the day, generally peaking in the morning and afternoon respectively, with additional small variations based on day of the week."
   ]
  },
  {
   "cell_type": "markdown",
   "metadata": {},
   "source": [
    "## Recommendation Algorithm\n",
    "\n",
    "Our recommendation algorithm assumes the availability of a fixed amount of resources: a number of teams available for each day of week and timeslot. We apply a linear sum assignment matching algorithm for any given timeslot; for each timeslot, the teams available at that timeslot over the week are each assigned to a unique station in order to maximize the number of people encountered. We require uniqueness within each timeslot so we avoid revisiting any station at the same timeslot during the week, which could lead to encountering the same people again. This is a well-known linear programming question with a polynomial time solution and can be solved using `scipy.optimize.linear_sum_assignment`.\n",
    "\n",
    "For example, for the 8AM timeslot, we might have 2 teams available on Monday, 3 on Tuesday, 1 on Wednesday, 2 on Thursday, and 1 on Friday. Our algorithm would assign those teams to 9 unique stations, using our data for station traffic for particular times on particular days of the week in order to maximize the expected exposure."
   ]
  },
  {
   "cell_type": "code",
   "execution_count": 30,
   "metadata": {
    "ExecuteTime": {
     "end_time": "2020-09-28T04:03:50.986528Z",
     "start_time": "2020-09-28T04:03:50.980970Z"
    }
   },
   "outputs": [
    {
     "data": {
      "text/plain": [
       "STATION  DOW_TIME  DOW_INDEX  TIME    \n",
       "1 AV     0.00      0          04:00:00    1072.666667\n",
       "         0.25      0          08:00:00    3589.666667\n",
       "         0.50      0          12:00:00    3463.333333\n",
       "         0.75      0          16:00:00    4905.666667\n",
       "         1.00      1          04:00:00    1619.000000\n",
       "         1.25      1          08:00:00    4751.666667\n",
       "         1.50      1          12:00:00    4159.333333\n",
       "         1.75      1          16:00:00    6422.333333\n",
       "Name: NUM_ENTRIES, dtype: float64"
      ]
     },
     "execution_count": 30,
     "metadata": {},
     "output_type": "execute_result"
    }
   ],
   "source": [
    "# The relevant DataFrame\n",
    "stations_by_dow_time_mean.head(8)"
   ]
  },
  {
   "cell_type": "markdown",
   "metadata": {},
   "source": [
    "### Algorithm Code"
   ]
  },
  {
   "cell_type": "code",
   "execution_count": 31,
   "metadata": {
    "ExecuteTime": {
     "end_time": "2020-09-28T04:03:50.995073Z",
     "start_time": "2020-09-28T04:03:50.988522Z"
    }
   },
   "outputs": [],
   "source": [
    "from scipy.optimize import linear_sum_assignment\n",
    "\n",
    "def assign_teams(time_of_day, teams_per_day):\n",
    "    \"\"\"\n",
    "        teams is a list of day indices, e.g. [0, 0, 1, 2, 3] indicating 2 teams available\n",
    "        Monday at that time, one on Tuesday, one on Wednesday, one on Thursday\n",
    "        \n",
    "        time_of_day is 4AM, 8AM, 12PM, or 4PM, rendered as %H:00:00\n",
    "        \n",
    "        returns cost, match where match is a list of stations (no overlap)\n",
    "    \"\"\"\n",
    "    # Grab the data for only this timeslot, then group by day of week and station\n",
    "    timeslot_filter = stations_by_dow_time_mean.loc[:,:,:,time_of_day].groupby(['DOW_INDEX', 'STATION']).first()\n",
    "    station_list = list(timeslot_filter[0].index)\n",
    "    \n",
    "    # Build up an array of traffic counts\n",
    "    traffic_array = []\n",
    "    \n",
    "    # Grab the data indicating traffic counts for each station on a particular day of the week, then\n",
    "    # add that row to traffic_array once for each team available on that day\n",
    "    \n",
    "    # For Monday to Friday...\n",
    "    for dow_index in range(5):\n",
    "        num_teams = teams_per_day[dow_index]\n",
    "        # Append the traffic count array for that day to our traffic array num_teams times\n",
    "        for team in range(num_teams):\n",
    "            traffic_array.append(timeslot_filter[dow_index].tolist())\n",
    "    \n",
    "    # Multiply by -1 as linear_sum_assignment is a minimizer\n",
    "    traffic_array = -np.array(traffic_array)\n",
    "    \n",
    "    # Run our actual linear program\n",
    "    teams, station_indices = linear_sum_assignment(traffic_array)\n",
    "   \n",
    "    # Total traffic for our recommended assignment\n",
    "    traffic_total = -sum(traffic_array[teams, station_indices])\n",
    "    \n",
    "\n",
    "    traffic_individual = []\n",
    "    station_idx_assignments = []\n",
    "    station_names = []\n",
    "    \n",
    "    # We need to return our results in an interpretable way. For each day of the week,\n",
    "    # get lists of the station names, station indices, and traffic counts. Appending\n",
    "    # these lists will yield arrays of length 5, containing a list for each day of\n",
    "    # the week\n",
    "    \n",
    "    # Because of the way teams_per_day is formatted, we grab the indices of the teams\n",
    "    # assigned to any particular day by keeping track of how many teams have been\n",
    "    # assigned already\n",
    "    team_index = 0\n",
    "    for dow_index in range(5):\n",
    "        team_index_range = range(team_index, team_index + teams_per_day[dow_index])\n",
    "       \n",
    "        day_traffic_counts = -traffic_array[team_index_range, station_indices[team_index_range]]\n",
    "        day_station_indices = station_indices[team_index:team_index+teams_per_day[dow_index]]\n",
    "        day_stations = [station_list[idx] for idx in day_station_indices]\n",
    "        \n",
    "        traffic_individual.append(day_traffic_counts)\n",
    "        station_idx_assignments.append(day_station_indices)\n",
    "        station_names.append(day_stations)\n",
    "        team_index += teams_per_day[dow_index]\n",
    "        \n",
    "    return traffic_total, station_names, station_idx_assignments, traffic_individual"
   ]
  },
  {
   "cell_type": "markdown",
   "metadata": {},
   "source": [
    "### Recommended Assignments for Fixed Team Configurations\n",
    "Let's see what our algorithm recommends for a few team compositions."
   ]
  },
  {
   "cell_type": "code",
   "execution_count": 32,
   "metadata": {
    "ExecuteTime": {
     "end_time": "2020-09-28T04:03:51.003544Z",
     "start_time": "2020-09-28T04:03:50.996509Z"
    }
   },
   "outputs": [
    {
     "data": {
      "text/plain": [
       "(149409.33333333334,\n",
       " [['42 ST-PORT AUTH'],\n",
       "  ['34 ST-PENN STA'],\n",
       "  ['86 ST'],\n",
       "  ['GRD CNTRL-42 ST'],\n",
       "  ['34 ST-HERALD SQ']])"
      ]
     },
     "execution_count": 32,
     "metadata": {},
     "output_type": "execute_result"
    }
   ],
   "source": [
    "# One team per day, 8AM-12PM every day\n",
    "traffic, assignment, _, _ = assign_teams(\"08:00:00\", [1,1,1,1,1])\n",
    "traffic, assignment"
   ]
  },
  {
   "cell_type": "code",
   "execution_count": 33,
   "metadata": {
    "ExecuteTime": {
     "end_time": "2020-09-28T04:03:51.012866Z",
     "start_time": "2020-09-28T04:03:51.004848Z"
    }
   },
   "outputs": [
    {
     "data": {
      "text/plain": [
       "(241832.33333333334,\n",
       " [['FLUSHING-MAIN', '96 ST'],\n",
       "  ['34 ST-PENN STA', '34 ST-HERALD SQ'],\n",
       "  ['86 ST', 'GRD CNTRL-42 ST'],\n",
       "  ['42 ST-PORT AUTH', '23 ST'],\n",
       "  ['14 ST-UNION SQ', '125 ST']])"
      ]
     },
     "execution_count": 33,
     "metadata": {},
     "output_type": "execute_result"
    }
   ],
   "source": [
    "# Two teams per day, 8AM-12PM every day\n",
    "traffic, assignment, _, _ = assign_teams(\"08:00:00\", [2,2,2,2,2])\n",
    "traffic, assignment"
   ]
  },
  {
   "cell_type": "code",
   "execution_count": 34,
   "metadata": {
    "ExecuteTime": {
     "end_time": "2020-09-28T04:03:51.021260Z",
     "start_time": "2020-09-28T04:03:51.014170Z"
    }
   },
   "outputs": [
    {
     "data": {
      "text/plain": [
       "(169169.0,\n",
       " [['42 ST-PORT AUTH'],\n",
       "  ['34 ST-PENN STA'],\n",
       "  ['86 ST'],\n",
       "  ['GRD CNTRL-42 ST'],\n",
       "  ['23 ST', '34 ST-HERALD SQ']])"
      ]
     },
     "execution_count": 34,
     "metadata": {},
     "output_type": "execute_result"
    }
   ],
   "source": [
    "# One team per day, 4PM-8PM every day, except an extra team is\n",
    "# available on Friday\n",
    "traffic, assignment, _, _ = assign_teams(\"08:00:00\", [1,1,1,1,2])\n",
    "traffic, assignment"
   ]
  },
  {
   "cell_type": "markdown",
   "metadata": {},
   "source": [
    "### Comparison of Different Team Configurations\n",
    "\n",
    "Aside from simply giving a recommendation based on a list of teams and availabilities, our algorithm also has the flexibility to recommend different team configurations, as well as different numbers of teams.\n",
    "\n",
    "For instance, if we could send team out every day at 4AM, 8AM, 12PM, and 4PM; or we could send two teams out every day at 8AM and 12PM. These configurations involve the same \"people-hours\" of work, but let's see how they fare in terms of performance."
   ]
  },
  {
   "cell_type": "code",
   "execution_count": 35,
   "metadata": {
    "ExecuteTime": {
     "end_time": "2020-09-28T04:03:51.041078Z",
     "start_time": "2020-09-28T04:03:51.022764Z"
    }
   },
   "outputs": [
    {
     "data": {
      "text/plain": [
       "(655915.3333333334,\n",
       " [[['GRD CNTRL-42 ST'],\n",
       "   ['42 ST-PORT AUTH'],\n",
       "   ['34 ST-PENN STA'],\n",
       "   ['96 ST'],\n",
       "   ['125 ST']],\n",
       "  [['42 ST-PORT AUTH'],\n",
       "   ['34 ST-PENN STA'],\n",
       "   ['86 ST'],\n",
       "   ['GRD CNTRL-42 ST'],\n",
       "   ['34 ST-HERALD SQ']],\n",
       "  [['34 ST-PENN STA'],\n",
       "   ['14 ST-UNION SQ'],\n",
       "   ['23 ST'],\n",
       "   ['FULTON ST'],\n",
       "   ['GRD CNTRL-42 ST']],\n",
       "  [['34 ST-PENN STA'],\n",
       "   ['TIMES SQ-42 ST'],\n",
       "   ['GRD CNTRL-42 ST'],\n",
       "   ['23 ST'],\n",
       "   ['34 ST-HERALD SQ']]])"
      ]
     },
     "execution_count": 35,
     "metadata": {},
     "output_type": "execute_result"
    }
   ],
   "source": [
    "traffic_counts = []\n",
    "timeslot_assignments = []\n",
    "for time in [\"04:00:00\", \"08:00:00\", \"12:00:00\", \"16:00:00\"]:\n",
    "    traffic, assignment, _, _ = assign_teams(time, [1,1,1,1,1])\n",
    "    traffic_counts.append(traffic)\n",
    "    timeslot_assignments.append(assignment)\n",
    "# timeslot_assignments[0] indicates the assignments for 4AM, [1] is 8AM, etc.\n",
    "sum(traffic_counts), timeslot_assignments"
   ]
  },
  {
   "cell_type": "code",
   "execution_count": 36,
   "metadata": {
    "ExecuteTime": {
     "end_time": "2020-09-28T04:03:51.054834Z",
     "start_time": "2020-09-28T04:03:51.042355Z"
    }
   },
   "outputs": [
    {
     "data": {
      "text/plain": [
       "(504869.66666666674,\n",
       " [[['FLUSHING-MAIN', '96 ST'],\n",
       "   ['34 ST-PENN STA', '34 ST-HERALD SQ'],\n",
       "   ['86 ST', 'GRD CNTRL-42 ST'],\n",
       "   ['42 ST-PORT AUTH', '23 ST'],\n",
       "   ['14 ST-UNION SQ', '125 ST']],\n",
       "  [['42 ST-PORT AUTH', '125 ST'],\n",
       "   ['CANAL ST', '14 ST-UNION SQ'],\n",
       "   ['86 ST', '34 ST-HERALD SQ'],\n",
       "   ['FULTON ST', '23 ST'],\n",
       "   ['GRD CNTRL-42 ST', '34 ST-PENN STA']]])"
      ]
     },
     "execution_count": 36,
     "metadata": {},
     "output_type": "execute_result"
    }
   ],
   "source": [
    "traffic_counts = []\n",
    "timeslot_assignments = []\n",
    "for time in [\"08:00:00\", \"12:00:00\"]:\n",
    "    traffic, assignment, _, _ = assign_teams(time, [2,2,2,2,2])\n",
    "    traffic_counts.append(traffic)\n",
    "    timeslot_assignments.append(assignment)\n",
    "sum(traffic_counts), timeslot_assignments"
   ]
  },
  {
   "cell_type": "markdown",
   "metadata": {},
   "source": [
    "So sending 1 team out from 4AM-8PM daily gives ~650k encounters, whereas sending 2 teams out from 8AM-12PM daily gives ~505k encounters. We see that the first approach performs significantly better."
   ]
  },
  {
   "cell_type": "markdown",
   "metadata": {},
   "source": [
    "### Optimizing Amount of Committed Resources\n",
    "\n",
    "Now let's consider _how many_ teams to send out. Suppose we send out _x_ teams every day from 8AM-12PM. We will of course encounter more traffic as _x_ increases, but because we do not want to revisit any station at the same timeslot on multiple days, we will eventually resort to sending our additional teams to lower and lower traffic stations. We would expect to see diminishing marginal returns here."
   ]
  },
  {
   "cell_type": "code",
   "execution_count": 37,
   "metadata": {
    "ExecuteTime": {
     "end_time": "2020-09-28T04:03:51.310033Z",
     "start_time": "2020-09-28T04:03:51.056164Z"
    }
   },
   "outputs": [
    {
     "data": {
      "text/plain": [
       "[0,\n",
       " 655915.3333333334,\n",
       " 1084431.6666666665,\n",
       " 1433320.0,\n",
       " 1710815.3333333335,\n",
       " 1952994.0,\n",
       " 2163261.3333333335,\n",
       " 2343577.0,\n",
       " 2505952.0,\n",
       " 2653251.3333333335]"
      ]
     },
     "execution_count": 37,
     "metadata": {},
     "output_type": "execute_result"
    }
   ],
   "source": [
    "traffic_counts = [0]\n",
    "\n",
    "for teams in range(1, 10):\n",
    "    individual_count = 0\n",
    "    for time in [\"04:00:00\", \"08:00:00\", \"12:00:00\", \"16:00:00\"]:\n",
    "        time_count, _, _, _ = assign_teams(time, [teams, teams, teams, teams, teams])\n",
    "        individual_count += time_count\n",
    "    traffic_counts.append(individual_count)\n",
    "\n",
    "traffic_counts"
   ]
  },
  {
   "cell_type": "markdown",
   "metadata": {},
   "source": [
    "It looks like diminishing returns do in fact occur. Let's plot and see:"
   ]
  },
  {
   "cell_type": "code",
   "execution_count": 38,
   "metadata": {
    "ExecuteTime": {
     "end_time": "2020-09-28T04:03:51.501732Z",
     "start_time": "2020-09-28T04:03:51.311356Z"
    }
   },
   "outputs": [
    {
     "data": {
      "image/png": "[encoded data removed]",
      "text/plain": [
       "<Figure size 1080x720 with 1 Axes>"
      ]
     },
     "metadata": {},
     "output_type": "display_data"
    }
   ],
   "source": [
    "from matplotlib import cm\n",
    "from matplotlib.colors import ListedColormap, LinearSegmentedColormap\n",
    "\n",
    "sns.set_style(\"dark\")\n",
    "\n",
    "plt.title(\"People Encountered versus Number of Teams\", fontsize=28, pad=27)\n",
    "plt.suptitle(\"(Sent at 4AM, 8AM, 12PM, 4PM; M-F)\", fontsize=20, x=0.5, y=0.91)\n",
    "plt.xlabel(\"Number of Teams\", fontsize=24)\n",
    "plt.ylabel(\"Exposure (Millions of People)\", fontsize=24)\n",
    "viridis = cm.get_cmap('Greens', 8)\n",
    "plt.xticks([0,1,2,3,4,5,6,7,8,9], fontsize=20)\n",
    "plt.yticks([0, 500000, 1000000, 1500000, 2000000, 2500000], labels=[0, 0.5, 1.0, 1.5, 2.0, 2.5], fontsize=20)\n",
    "\n",
    "# Plot each bar separately as we want to shade each according to its value\n",
    "the_plt = plt.bar([i for i in range(0,10)], traffic_counts, color=[viridis(num/traffic_counts[-1]) for num in traffic_counts])\n",
    "\n",
    "patches = the_plt.patches\n",
    "ax = plt.gca()\n",
    "for i in range(len(patches)):\n",
    "    rect = patches[i]\n",
    "    ax.annotate(int(traffic_counts[i]), (rect.get_x() + rect.get_width()/2, rect.get_height()+30000), ha=\"center\", fontsize=20)"
   ]
  },
  {
   "cell_type": "markdown",
   "metadata": {},
   "source": [
    "So we see a clear trend of diminishing returns. Just by eyeballing the chart, it looks like 4 teams per day hits a sweet spot at 1.71 million exposures, with further teams experiencing drastic falloffs in marginal utility. Given the option to choose between sending 1-10 teams out, then, we might recommend the following:"
   ]
  },
  {
   "cell_type": "code",
   "execution_count": 39,
   "metadata": {
    "ExecuteTime": {
     "end_time": "2020-09-28T04:03:51.531051Z",
     "start_time": "2020-09-28T04:03:51.503101Z"
    }
   },
   "outputs": [
    {
     "data": {
      "text/plain": [
       "(1710815.3333333335,\n",
       " [[['77 ST', '14 ST-UNION SQ', 'FLATBUSH AV-B.C', '103 ST'],\n",
       "   ['FULTON ST', 'GRD CNTRL-42 ST', 'JAMAICA 179 ST', 'FOREST HILLS 71'],\n",
       "   ['34 ST-PENN STA', '125 ST', '86 ST', 'JAMAICA CENTER'],\n",
       "   ['96 ST', '116 ST', 'FLUSHING-MAIN', '42 ST-PORT AUTH'],\n",
       "   ['CHURCH AV', 'JKSN HT-ROOSVLT', 'WOODHAVEN BLVD', 'BAY PKWY']],\n",
       "  [['CHURCH AV', '59 ST COLUMBUS', '145 ST', 'TIMES SQ-42 ST'],\n",
       "   ['ATL AV-BARCLAY', 'JAMAICA CENTER', '34 ST-HERALD SQ', '34 ST-PENN STA'],\n",
       "   ['GRD CNTRL-42 ST', 'FLUSHING-MAIN', '86 ST', '59 ST'],\n",
       "   ['23 ST', '96 ST', '42 ST-PORT AUTH', 'JKSN HT-ROOSVLT'],\n",
       "   ['14 ST-UNION SQ', 'FULTON ST', '28 ST', '125 ST']],\n",
       "  [['FLUSHING-MAIN', '42 ST-PORT AUTH', '59 ST', '72 ST'],\n",
       "   ['96 ST', '28 ST', 'CANAL ST', 'WALL ST'],\n",
       "   ['34 ST-HERALD SQ', '125 ST', '59 ST COLUMBUS', '14 ST-UNION SQ'],\n",
       "   ['14 ST', 'CHAMBERS ST', 'FULTON ST', '86 ST'],\n",
       "   ['GRD CNTRL-42 ST', 'TIMES SQ-42 ST', '34 ST-PENN STA', '23 ST']],\n",
       "  [['14 ST', 'WALL ST', '42 ST-PORT AUTH', '28 ST'],\n",
       "   ['34 ST-HERALD SQ', '42 ST-BRYANT PK', 'CHAMBERS ST', '14 ST-UNION SQ'],\n",
       "   ['47-50 STS ROCK', '59 ST COLUMBUS', 'GRD CNTRL-42 ST', 'TIMES SQ-42 ST'],\n",
       "   ['59 ST', 'FULTON ST', '23 ST', 'LEXINGTON AV/53'],\n",
       "   ['86 ST', '125 ST', 'CANAL ST', '34 ST-PENN STA']]])"
      ]
     },
     "execution_count": 39,
     "metadata": {},
     "output_type": "execute_result"
    }
   ],
   "source": [
    "traffic_counts = []\n",
    "timeslot_assignments = []\n",
    "for time in [\"04:00:00\", \"08:00:00\", \"12:00:00\", \"16:00:00\"]:\n",
    "    traffic, assignment, _, _ = assign_teams(time, [4,4,4,4,4])\n",
    "    traffic_counts.append(traffic)\n",
    "    timeslot_assignments.append(assignment)\n",
    "# timeslot_assignments[0] indicates the assignments for 4AM, [1] is 8AM, etc.\n",
    "sum(traffic_counts), timeslot_assignments"
   ]
  },
  {
   "cell_type": "markdown",
   "metadata": {},
   "source": [
    "## Further Work"
   ]
  },
  {
   "cell_type": "markdown",
   "metadata": {},
   "source": [
    "We have various ideas for future work on this project. One simple yet potentially very effective modification would be to allow for weighting of different stations based on demographic data. For instance, high-income areas with many technology companies and a population with a history of charitable giving might be weighted higher. A drawback here is that the \"score\" of each assignment would no longer be interpretable as \"number of people encountered\" but would rather only have meaning in comparison to other assignments and configurations. We could even incorporate both entry and exit data, and weight based on the assumption that people in the morning, people enter stations near their homes and exit stations near their workplaces, while in the afternoon people enter stations near their workplacs and exit stations near their homes.\n",
    "\n",
    "Another potential extension would be to allow repeated visits to stations, but discount them to some degree. It might be more fruitful to visit Grand Central Station twice in one week rather than visit a new obscure station the second time, for example. Our algorithm would require revision to implement this feature, however. We could perhaps extend the traffic array in `assign_teams` to have five entries per station indicating the first-fifth visit to a station that week. Each subsequent entry would be discounted by some factor to reflect the diminishing returns of visiting a station multiple times. However, in this case our approach would yield an assignment where multiple teams on the same day attempt to visit a station the \"first\" time _and_ the \"second\" time on the same day. We would need to do more research to determine whether this issue can be resolved, or whether it invalidates the linear assignment approach entirely."
   ]
  }
 ],
 "metadata": {
  "kernelspec": {
   "display_name": "Python 3",
   "language": "python",
   "name": "python3"
  },
  "language_info": {
   "codemirror_mode": {
    "name": "ipython",
    "version": 3
   },
   "file_extension": ".py",
   "mimetype": "text/x-python",
   "name": "python",
   "nbconvert_exporter": "python",
   "pygments_lexer": "ipython3",
   "version": "3.8.5"
  },
  "toc": {
   "base_numbering": 1,
   "nav_menu": {},
   "number_sections": true,
   "sideBar": true,
   "skip_h1_title": false,
   "title_cell": "Table of Contents",
   "title_sidebar": "Contents",
   "toc_cell": false,
   "toc_position": {
    "height": "calc(100% - 180px)",
    "left": "10px",
    "top": "150px",
    "width": "358.391px"
   },
   "toc_section_display": true,
   "toc_window_display": true
  }
 },
 "nbformat": 4,
 "nbformat_minor": 4
}
