{
 "cells": [
  {
   "cell_type": "markdown",
   "metadata": {},
   "source": [
    "## Challenge 1: \n",
    "\n",
    "**Reading multiple (3) MTA turnstile data files and concatenating them.**"
   ]
  },
  {
   "cell_type": "code",
   "execution_count": null,
   "metadata": {},
   "outputs": [],
   "source": [
    "import pandas as pd\n",
    "import glob"
   ]
  },
  {
   "cell_type": "code",
   "execution_count": null,
   "metadata": {},
   "outputs": [],
   "source": [
    "path = r'/Users/Vidya/Documents/METIS/GitHub/project-1'\n",
    "all_files = glob.glob(path + \"/*.csv\")\n",
    "\n",
    "li = []\n",
    "\n",
    "for filename in all_files:\n",
    "    df = pd.read_csv(filename, index_col=None, header=0)\n",
    "    li.append(df)\n",
    "\n",
    "data = pd.concat(li, axis=0, ignore_index=True)\n",
    "\n",
    "d1 = pd.read_csv('turnstile_200919.csv')\n",
    "#data = pd.read_csv('turnstile_200919.csv', parse_dates = [['DATE', 'TIME']])"
   ]
  },
  {
   "cell_type": "code",
   "execution_count": null,
   "metadata": {},
   "outputs": [],
   "source": [
    "data.columns"
   ]
  },
  {
   "cell_type": "markdown",
   "metadata": {},
   "source": [
    "## Challenge 2: \n",
    "\n",
    "**Converting DATE and TIME string columns to Datetime objects.**\n",
    "**Removing columns we do not need.**  "
   ]
  },
  {
   "cell_type": "code",
   "execution_count": null,
   "metadata": {},
   "outputs": [],
   "source": [
    "data.head()"
   ]
  },
  {
   "cell_type": "code",
   "execution_count": null,
   "metadata": {},
   "outputs": [],
   "source": [
    "#pd.to_datetime(data['DATE']+' '+data['TIME']).head()\n",
    "data['DATE_TIME'] = pd.to_datetime(data['DATE']+' '+data['TIME'])\n",
    "data.head()"
   ]
  },
  {
   "cell_type": "code",
   "execution_count": null,
   "metadata": {},
   "outputs": [],
   "source": [
    "# Removing columns we do nto need\n",
    "cols = ['LINENAME', 'DIVISION', 'DESC', 'EXITS                                                               ','DATE', 'TIME']\n",
    "data.drop(cols, axis=1, inplace=True)"
   ]
  },
  {
   "cell_type": "code",
   "execution_count": 36,
   "metadata": {},
   "outputs": [
    {
     "data": {
      "text/html": [
       "<div>\n",
       "<style scoped>\n",
       "    .dataframe tbody tr th:only-of-type {\n",
       "        vertical-align: middle;\n",
       "    }\n",
       "\n",
       "    .dataframe tbody tr th {\n",
       "        vertical-align: top;\n",
       "    }\n",
       "\n",
       "    .dataframe thead th {\n",
       "        text-align: right;\n",
       "    }\n",
       "</style>\n",
       "<table border=\"1\" class=\"dataframe\">\n",
       "  <thead>\n",
       "    <tr style=\"text-align: right;\">\n",
       "      <th></th>\n",
       "      <th>C/A</th>\n",
       "      <th>UNIT</th>\n",
       "      <th>SCP</th>\n",
       "      <th>STATION</th>\n",
       "      <th>ENTRIES</th>\n",
       "      <th>DATE_TIME</th>\n",
       "    </tr>\n",
       "  </thead>\n",
       "  <tbody>\n",
       "    <tr>\n",
       "      <td>0</td>\n",
       "      <td>A002</td>\n",
       "      <td>R051</td>\n",
       "      <td>02-00-00</td>\n",
       "      <td>59 ST</td>\n",
       "      <td>7450785</td>\n",
       "      <td>2020-08-29 00:00:00</td>\n",
       "    </tr>\n",
       "    <tr>\n",
       "      <td>1</td>\n",
       "      <td>A002</td>\n",
       "      <td>R051</td>\n",
       "      <td>02-00-00</td>\n",
       "      <td>59 ST</td>\n",
       "      <td>7450788</td>\n",
       "      <td>2020-08-29 04:00:00</td>\n",
       "    </tr>\n",
       "    <tr>\n",
       "      <td>2</td>\n",
       "      <td>A002</td>\n",
       "      <td>R051</td>\n",
       "      <td>02-00-00</td>\n",
       "      <td>59 ST</td>\n",
       "      <td>7450798</td>\n",
       "      <td>2020-08-29 08:00:00</td>\n",
       "    </tr>\n",
       "    <tr>\n",
       "      <td>3</td>\n",
       "      <td>A002</td>\n",
       "      <td>R051</td>\n",
       "      <td>02-00-00</td>\n",
       "      <td>59 ST</td>\n",
       "      <td>7450826</td>\n",
       "      <td>2020-08-29 12:00:00</td>\n",
       "    </tr>\n",
       "    <tr>\n",
       "      <td>4</td>\n",
       "      <td>A002</td>\n",
       "      <td>R051</td>\n",
       "      <td>02-00-00</td>\n",
       "      <td>59 ST</td>\n",
       "      <td>7450910</td>\n",
       "      <td>2020-08-29 16:00:00</td>\n",
       "    </tr>\n",
       "    <tr>\n",
       "      <td>5</td>\n",
       "      <td>A002</td>\n",
       "      <td>R051</td>\n",
       "      <td>02-00-00</td>\n",
       "      <td>59 ST</td>\n",
       "      <td>7451020</td>\n",
       "      <td>2020-08-29 20:00:00</td>\n",
       "    </tr>\n",
       "    <tr>\n",
       "      <td>6</td>\n",
       "      <td>A002</td>\n",
       "      <td>R051</td>\n",
       "      <td>02-00-00</td>\n",
       "      <td>59 ST</td>\n",
       "      <td>7451092</td>\n",
       "      <td>2020-08-30 00:00:00</td>\n",
       "    </tr>\n",
       "    <tr>\n",
       "      <td>7</td>\n",
       "      <td>A002</td>\n",
       "      <td>R051</td>\n",
       "      <td>02-00-00</td>\n",
       "      <td>59 ST</td>\n",
       "      <td>7451095</td>\n",
       "      <td>2020-08-30 04:00:00</td>\n",
       "    </tr>\n",
       "    <tr>\n",
       "      <td>8</td>\n",
       "      <td>A002</td>\n",
       "      <td>R051</td>\n",
       "      <td>02-00-00</td>\n",
       "      <td>59 ST</td>\n",
       "      <td>7451100</td>\n",
       "      <td>2020-08-30 08:00:00</td>\n",
       "    </tr>\n",
       "    <tr>\n",
       "      <td>9</td>\n",
       "      <td>A002</td>\n",
       "      <td>R051</td>\n",
       "      <td>02-00-00</td>\n",
       "      <td>59 ST</td>\n",
       "      <td>7451117</td>\n",
       "      <td>2020-08-30 12:00:00</td>\n",
       "    </tr>\n",
       "  </tbody>\n",
       "</table>\n",
       "</div>"
      ],
      "text/plain": [
       "    C/A  UNIT       SCP STATION  ENTRIES           DATE_TIME\n",
       "0  A002  R051  02-00-00   59 ST  7450785 2020-08-29 00:00:00\n",
       "1  A002  R051  02-00-00   59 ST  7450788 2020-08-29 04:00:00\n",
       "2  A002  R051  02-00-00   59 ST  7450798 2020-08-29 08:00:00\n",
       "3  A002  R051  02-00-00   59 ST  7450826 2020-08-29 12:00:00\n",
       "4  A002  R051  02-00-00   59 ST  7450910 2020-08-29 16:00:00\n",
       "5  A002  R051  02-00-00   59 ST  7451020 2020-08-29 20:00:00\n",
       "6  A002  R051  02-00-00   59 ST  7451092 2020-08-30 00:00:00\n",
       "7  A002  R051  02-00-00   59 ST  7451095 2020-08-30 04:00:00\n",
       "8  A002  R051  02-00-00   59 ST  7451100 2020-08-30 08:00:00\n",
       "9  A002  R051  02-00-00   59 ST  7451117 2020-08-30 12:00:00"
      ]
     },
     "execution_count": 36,
     "metadata": {},
     "output_type": "execute_result"
    }
   ],
   "source": [
    "data.head(10)"
   ]
  },
  {
   "cell_type": "code",
   "execution_count": 37,
   "metadata": {},
   "outputs": [
    {
     "data": {
      "text/plain": [
       "FrozenList([None])"
      ]
     },
     "execution_count": 37,
     "metadata": {},
     "output_type": "execute_result"
    }
   ],
   "source": [
    "data.index.names"
   ]
  },
  {
   "cell_type": "code",
   "execution_count": 38,
   "metadata": {},
   "outputs": [],
   "source": [
    "# Can remove hierarchical index by using: multi.reset_index()\n",
    "multi = data.set_index(['C/A', 'UNIT', 'SCP', 'STATION', 'DATE_TIME'])"
   ]
  },
  {
   "cell_type": "code",
   "execution_count": 39,
   "metadata": {},
   "outputs": [
    {
     "data": {
      "text/html": [
       "<div>\n",
       "<style scoped>\n",
       "    .dataframe tbody tr th:only-of-type {\n",
       "        vertical-align: middle;\n",
       "    }\n",
       "\n",
       "    .dataframe tbody tr th {\n",
       "        vertical-align: top;\n",
       "    }\n",
       "\n",
       "    .dataframe thead th {\n",
       "        text-align: right;\n",
       "    }\n",
       "</style>\n",
       "<table border=\"1\" class=\"dataframe\">\n",
       "  <thead>\n",
       "    <tr style=\"text-align: right;\">\n",
       "      <th></th>\n",
       "      <th></th>\n",
       "      <th></th>\n",
       "      <th></th>\n",
       "      <th></th>\n",
       "      <th>ENTRIES</th>\n",
       "    </tr>\n",
       "    <tr>\n",
       "      <th>C/A</th>\n",
       "      <th>UNIT</th>\n",
       "      <th>SCP</th>\n",
       "      <th>STATION</th>\n",
       "      <th>DATE_TIME</th>\n",
       "      <th></th>\n",
       "    </tr>\n",
       "  </thead>\n",
       "  <tbody>\n",
       "    <tr>\n",
       "      <td rowspan=\"5\" valign=\"top\">A002</td>\n",
       "      <td rowspan=\"5\" valign=\"top\">R051</td>\n",
       "      <td rowspan=\"5\" valign=\"top\">02-00-00</td>\n",
       "      <td rowspan=\"5\" valign=\"top\">59 ST</td>\n",
       "      <td>2020-08-29 00:00:00</td>\n",
       "      <td>7450785</td>\n",
       "    </tr>\n",
       "    <tr>\n",
       "      <td>2020-08-29 04:00:00</td>\n",
       "      <td>7450788</td>\n",
       "    </tr>\n",
       "    <tr>\n",
       "      <td>2020-08-29 08:00:00</td>\n",
       "      <td>7450798</td>\n",
       "    </tr>\n",
       "    <tr>\n",
       "      <td>2020-08-29 12:00:00</td>\n",
       "      <td>7450826</td>\n",
       "    </tr>\n",
       "    <tr>\n",
       "      <td>2020-08-29 16:00:00</td>\n",
       "      <td>7450910</td>\n",
       "    </tr>\n",
       "  </tbody>\n",
       "</table>\n",
       "</div>"
      ],
      "text/plain": [
       "                                                ENTRIES\n",
       "C/A  UNIT SCP      STATION DATE_TIME                   \n",
       "A002 R051 02-00-00 59 ST   2020-08-29 00:00:00  7450785\n",
       "                           2020-08-29 04:00:00  7450788\n",
       "                           2020-08-29 08:00:00  7450798\n",
       "                           2020-08-29 12:00:00  7450826\n",
       "                           2020-08-29 16:00:00  7450910"
      ]
     },
     "execution_count": 39,
     "metadata": {},
     "output_type": "execute_result"
    }
   ],
   "source": [
    "multi.head()"
   ]
  },
  {
   "cell_type": "code",
   "execution_count": 41,
   "metadata": {},
   "outputs": [
    {
     "data": {
      "text/plain": [
       "FrozenList(['C/A', 'UNIT', 'SCP', 'STATION', 'DATE_TIME'])"
      ]
     },
     "execution_count": 41,
     "metadata": {},
     "output_type": "execute_result"
    }
   ],
   "source": [
    "multi.index.names"
   ]
  },
  {
   "cell_type": "code",
   "execution_count": 43,
   "metadata": {},
   "outputs": [
    {
     "data": {
      "text/plain": [
       "array([('A002', 'R051', '02-00-00', '59 ST', Timestamp('2020-08-29 00:00:00')),\n",
       "       ('A002', 'R051', '02-00-00', '59 ST', Timestamp('2020-08-29 04:00:00')),\n",
       "       ('A002', 'R051', '02-00-00', '59 ST', Timestamp('2020-08-29 08:00:00')),\n",
       "       ...,\n",
       "       ('TRAM2', 'R469', '00-05-01', 'RIT-ROOSEVELT', Timestamp('2020-09-18 13:00:00')),\n",
       "       ('TRAM2', 'R469', '00-05-01', 'RIT-ROOSEVELT', Timestamp('2020-09-18 17:00:00')),\n",
       "       ('TRAM2', 'R469', '00-05-01', 'RIT-ROOSEVELT', Timestamp('2020-09-18 21:00:00'))],\n",
       "      dtype=object)"
      ]
     },
     "execution_count": 43,
     "metadata": {},
     "output_type": "execute_result"
    }
   ],
   "source": [
    "multi.index.values"
   ]
  },
  {
   "cell_type": "code",
   "execution_count": null,
   "metadata": {},
   "outputs": [],
   "source": []
  },
  {
   "cell_type": "code",
   "execution_count": null,
   "metadata": {},
   "outputs": [],
   "source": []
  },
  {
   "cell_type": "code",
   "execution_count": null,
   "metadata": {},
   "outputs": [],
   "source": []
  },
  {
   "cell_type": "code",
   "execution_count": null,
   "metadata": {},
   "outputs": [],
   "source": []
  },
  {
   "cell_type": "code",
   "execution_count": null,
   "metadata": {},
   "outputs": [],
   "source": [
    "# Sort by DATE_TIME\n",
    "data = data.sort_values(by='DATE_TIME')"
   ]
  },
  {
   "cell_type": "code",
   "execution_count": null,
   "metadata": {},
   "outputs": [],
   "source": [
    "type(data['DATE_TIME'][0])"
   ]
  },
  {
   "cell_type": "code",
   "execution_count": null,
   "metadata": {},
   "outputs": [],
   "source": [
    "data.head(20)"
   ]
  },
  {
   "cell_type": "markdown",
   "metadata": {},
   "source": [
    "## Challenge 3: \n",
    "\n",
    "Each row is a turnstile, identified by a combination of the C/A, UNIT, SCP, and STATION columns, with information on entries and exits at that turnstile every n hours. (What is n?) We want total daily entries.\n",
    "Group the data so that it represents daily entries for each turnstile (hint: pd.groupby or DataFrame.groupby)"
   ]
  },
  {
   "cell_type": "code",
   "execution_count": null,
   "metadata": {},
   "outputs": [],
   "source": [
    "#data['DATE_TIME'][1] - data['DATE_TIME'][0]"
   ]
  },
  {
   "cell_type": "code",
   "execution_count": null,
   "metadata": {},
   "outputs": [],
   "source": [
    "DAYS = data.loc[:,'DATE_TIME'].dt.day\n",
    "data['DAYS'] = DAYS\n",
    "data.head()"
   ]
  },
  {
   "cell_type": "code",
   "execution_count": null,
   "metadata": {},
   "outputs": [],
   "source": [
    "daily_groups = data.groupby(['C/A', 'UNIT', 'SCP', 'STATION', 'DAYS'])['DAYS','ENTRIES'].agg('unique', lambda x: max(x) - min(x))\n",
    "\n",
    "#.agg(lambda x: max(x) - min(x))instead of sum"
   ]
  },
  {
   "cell_type": "code",
   "execution_count": null,
   "metadata": {},
   "outputs": [],
   "source": [
    "# count = 0\n",
    "# for state, frame in daily_groups:\n",
    "#     print(f\"First 2 entries for {state!r}\")\n",
    "#     print(\"------------------------\")\n",
    "#     print(frame.head(2), end=\"\\n\\n\")\n",
    "#     if count > 3:\n",
    "#         break\n",
    "#     count += 1"
   ]
  },
  {
   "cell_type": "code",
   "execution_count": null,
   "metadata": {},
   "outputs": [],
   "source": [
    "type(daily_entries)"
   ]
  },
  {
   "cell_type": "code",
   "execution_count": null,
   "metadata": {},
   "outputs": [],
   "source": [
    "%matplotlib inline\n",
    "import matplotlib.pyplot as plt\n",
    "\n",
    "filt = (data['C/A']=='A002' & data['UNIT']=='R051' & data['SCP']=='02-00-00'& data['STATION']=='59 ST')\n",
    "data.loc[filt]"
   ]
  },
  {
   "cell_type": "code",
   "execution_count": null,
   "metadata": {},
   "outputs": [],
   "source": [
    "plt.figure(figsize=(10,3))\n",
    "    plt.plot(<days>,<entries>)"
   ]
  }
 ],
 "metadata": {
  "kernelspec": {
   "display_name": "Python 3",
   "language": "python",
   "name": "python3"
  },
  "language_info": {
   "codemirror_mode": {
    "name": "ipython",
    "version": 3
   },
   "file_extension": ".py",
   "mimetype": "text/x-python",
   "name": "python",
   "nbconvert_exporter": "python",
   "pygments_lexer": "ipython3",
   "version": "3.7.4"
  }
 },
 "nbformat": 4,
 "nbformat_minor": 2
}
